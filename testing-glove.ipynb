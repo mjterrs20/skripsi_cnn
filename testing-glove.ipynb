{
 "cells": [
  {
   "cell_type": "code",
   "execution_count": 1,
   "id": "41f5eb48-461a-4f76-85b0-550ef5f2a0ca",
   "metadata": {},
   "outputs": [],
   "source": [
    "# tesing glove\n",
    "# use glove indonesia and check model again\n",
    "from gensim.test.utils import datapath, get_tmpfile\n",
    "from gensim.scripts.glove2word2vec import glove2word2vec\n",
    "from gensim.models import KeyedVectors"
   ]
  },
  {
   "cell_type": "code",
   "execution_count": 2,
   "id": "224ecc56-4735-471a-a754-ca27511913a8",
   "metadata": {},
   "outputs": [],
   "source": [
    "import numpy as np\n",
    "import matplotlib.pyplot as plt\n",
    "from sklearn.decomposition import PCA"
   ]
  },
  {
   "cell_type": "markdown",
   "id": "4a6a1f06-14fa-40b2-b6d5-0c258242a333",
   "metadata": {},
   "source": [
    "GLOVE disini melakukan beberapa testing dengan beberapa simulasi diantaranya:\n",
    "\n",
    "Model1 => glove_input_file      : glove_wiki_id_300.txt\n",
    "          word2vec_output_file  : get_tmpfile(\"w2v_format.txt\")\n",
    "          \n",
    "Model2 => glove_input_file      : glove_wiki_id_300.txt\n",
    "          word2vec_output_file2 : w2vec_skipgram_wiki_id300_0.txt\n",
    "          \n",
    "Model3 => glove_input_file      : glove_wiki_id_300.txt\n",
    "          word2vec_output_file3 : w2vec_cbow_wiki_id300_0.txt"
   ]
  },
  {
   "cell_type": "code",
   "execution_count": 3,
   "id": "36186c26-b5ef-49b5-884a-b6478532afe4",
   "metadata": {},
   "outputs": [
    {
     "name": "stderr",
     "output_type": "stream",
     "text": [
      "<ipython-input-3-a182b84a8f3c>:4: DeprecationWarning: Call to deprecated `glove2word2vec` (KeyedVectors.load_word2vec_format(.., binary=False, no_header=True) loads GLoVE text vectors.).\n",
      "  glove2word2vec(glove_input_file, word2vec_output_file)\n"
     ]
    }
   ],
   "source": [
    "# Simulasi Model 1\n",
    "glove_input_file = 'dataset/glove/glove_wiki_id_300.txt'\n",
    "word2vec_output_file = get_tmpfile(\"w2v_format.txt\")\n",
    "\n",
    "glove2word2vec(glove_input_file, word2vec_output_file)\n",
    "\n",
    "model1 = KeyedVectors.load_word2vec_format(word2vec_output_file, binary=False)"
   ]
  },
  {
   "cell_type": "code",
   "execution_count": 4,
   "id": "0dcf4954-5ade-4239-9fe3-30064d22facc",
   "metadata": {},
   "outputs": [
    {
     "name": "stderr",
     "output_type": "stream",
     "text": [
      "<ipython-input-4-9b9476d74501>:4: DeprecationWarning: Call to deprecated `glove2word2vec` (KeyedVectors.load_word2vec_format(.., binary=False, no_header=True) loads GLoVE text vectors.).\n",
      "  glove2word2vec(glove_input_file, word2vec_output_file2)\n"
     ]
    }
   ],
   "source": [
    "# Simulasi Model 2\n",
    "word2vec_output_file2 = 'dataset/w2v/w2vec_skipgram_wiki_id300_0.txt'\n",
    "\n",
    "glove2word2vec(glove_input_file, word2vec_output_file2)\n",
    "\n",
    "model2 = KeyedVectors.load_word2vec_format(word2vec_output_file2, binary=False)"
   ]
  },
  {
   "cell_type": "code",
   "execution_count": 5,
   "id": "95fb9eef-670e-4b74-8b44-2f1aa2ea2eeb",
   "metadata": {},
   "outputs": [
    {
     "name": "stderr",
     "output_type": "stream",
     "text": [
      "<ipython-input-5-e050aa617e25>:4: DeprecationWarning: Call to deprecated `glove2word2vec` (KeyedVectors.load_word2vec_format(.., binary=False, no_header=True) loads GLoVE text vectors.).\n",
      "  glove2word2vec(glove_input_file, word2vec_output_file3)\n"
     ]
    }
   ],
   "source": [
    "# Simulasi Model 3\n",
    "word2vec_output_file3 = 'dataset/w2v/w2vec_cbow_wiki_id300_0.txt'\n",
    "\n",
    "glove2word2vec(glove_input_file, word2vec_output_file3)\n",
    "\n",
    "model3 = KeyedVectors.load_word2vec_format(word2vec_output_file3, binary=False)"
   ]
  },
  {
   "cell_type": "code",
   "execution_count": 14,
   "id": "fa2ab769-a4f6-4bb1-86b7-f0971f33fe33",
   "metadata": {},
   "outputs": [],
   "source": [
    "# Melakukan test keberapa pemodelan\n",
    "test1 = model1.most_similar('umrah')\n",
    "test2 = model2.most_similar('umrah')\n",
    "test3 = model3.most_similar('umrah')"
   ]
  },
  {
   "cell_type": "code",
   "execution_count": 15,
   "id": "29cbcc0a-7fcf-4dd9-93df-97e3a0a123f0",
   "metadata": {},
   "outputs": [
    {
     "data": {
      "text/plain": [
       "[('haji', 0.5516761541366577),\n",
       " ('wada', 0.47222307324409485),\n",
       " ('menunaikan', 0.4461369812488556),\n",
       " ('ibadah', 0.4335642457008362),\n",
       " ('ihram', 0.41897496581077576),\n",
       " ('muamalah', 0.4143367409706116),\n",
       " ('embarkasi', 0.40457984805107117),\n",
       " ('melaksanakan', 0.39999625086784363),\n",
       " ('ritual', 0.3847445249557495),\n",
       " ('Umrah', 0.38367241621017456)]"
      ]
     },
     "execution_count": 15,
     "metadata": {},
     "output_type": "execute_result"
    }
   ],
   "source": [
    "test1"
   ]
  },
  {
   "cell_type": "code",
   "execution_count": 16,
   "id": "79dc95fa-eb03-421e-b702-2b463197ce82",
   "metadata": {},
   "outputs": [
    {
     "data": {
      "text/plain": [
       "[('haji', 0.5516761541366577),\n",
       " ('wada', 0.47222307324409485),\n",
       " ('menunaikan', 0.4461369812488556),\n",
       " ('ibadah', 0.4335642457008362),\n",
       " ('ihram', 0.41897496581077576),\n",
       " ('muamalah', 0.4143367409706116),\n",
       " ('embarkasi', 0.40457984805107117),\n",
       " ('melaksanakan', 0.39999625086784363),\n",
       " ('ritual', 0.3847445249557495),\n",
       " ('Umrah', 0.38367241621017456)]"
      ]
     },
     "execution_count": 16,
     "metadata": {},
     "output_type": "execute_result"
    }
   ],
   "source": [
    "test2"
   ]
  },
  {
   "cell_type": "code",
   "execution_count": 17,
   "id": "13b9707d-989e-48b8-807c-c783b58638d9",
   "metadata": {},
   "outputs": [
    {
     "data": {
      "text/plain": [
       "[('haji', 0.5516761541366577),\n",
       " ('wada', 0.47222307324409485),\n",
       " ('menunaikan', 0.4461369812488556),\n",
       " ('ibadah', 0.4335642457008362),\n",
       " ('ihram', 0.41897496581077576),\n",
       " ('muamalah', 0.4143367409706116),\n",
       " ('embarkasi', 0.40457984805107117),\n",
       " ('melaksanakan', 0.39999625086784363),\n",
       " ('ritual', 0.3847445249557495),\n",
       " ('Umrah', 0.38367241621017456)]"
      ]
     },
     "execution_count": 17,
     "metadata": {},
     "output_type": "execute_result"
    }
   ],
   "source": [
    "test3"
   ]
  },
  {
   "cell_type": "code",
   "execution_count": 38,
   "id": "07d92b63-f633-42b5-af93-cb2c1cdeb902",
   "metadata": {},
   "outputs": [
    {
     "data": {
      "text/plain": [
       "[('wada', 0.6527634859085083),\n",
       " ('ibadah', 0.6411975026130676),\n",
       " ('menunaikan', 0.621992826461792),\n",
       " ('embarkasi', 0.6111697554588318),\n",
       " ('umrah', 0.5516761541366577),\n",
       " ('jemaah', 0.5204943418502808),\n",
       " ('jamaah', 0.501495897769928),\n",
       " ('kemusyrikan', 0.45954659581184387),\n",
       " ('muamalah', 0.4353976845741272),\n",
       " ('Dzulhijah', 0.4293636679649353)]"
      ]
     },
     "execution_count": 38,
     "metadata": {},
     "output_type": "execute_result"
    }
   ],
   "source": [
    "haji = model1.most_similar('haji')\n",
    "haji"
   ]
  },
  {
   "cell_type": "code",
   "execution_count": 22,
   "id": "87e27a94-d0c0-4fbe-83bc-f62567a31338",
   "metadata": {},
   "outputs": [
    {
     "name": "stdout",
     "output_type": "stream",
     "text": [
      "[('QI', 0.4575282335281372)]\n",
      "[('QI', 0.4575282335281372)]\n",
      "[('QI', 0.4575282335281372)]\n"
     ]
    }
   ],
   "source": [
    "result1 = model1.most_similar(positive=['woman', 'king'], negative=['man'], topn=1)\n",
    "print(result1)\n",
    "\n",
    "result2 = model2.most_similar(positive=['woman', 'king'], negative=['man'], topn=1)\n",
    "print(result2)\n",
    "\n",
    "result3 = model3.most_similar(positive=['woman', 'king'], negative=['man'], topn=1)\n",
    "print(result3)"
   ]
  },
  {
   "cell_type": "markdown",
   "id": "1dfe3341-8267-4a76-bba0-3452c14b0e0f",
   "metadata": {},
   "source": [
    "Tidak ada perbedaan antara hasil tersebut\n",
    "Sehingga bisa disimpulkann word2vec tidak begitu pengaruh terhadap glove\n",
    "bisa diartikan sama saja hasilnya"
   ]
  },
  {
   "cell_type": "code",
   "execution_count": 35,
   "id": "816a37c6-f2ea-4a0e-adbe-36acbbae1bd9",
   "metadata": {},
   "outputs": [],
   "source": [
    "# Test menggunakan plot\n",
    "def wordVectorsPlot(arr, center, rg):\n",
    "    words = []\n",
    "    vecs = []\n",
    "    \n",
    "    words.append(center)\n",
    "    vecs.append(model1[center])\n",
    "    \n",
    "    for word, cosine in arr:\n",
    "        words.append(word)\n",
    "        vecs.append(model1[word])\n",
    "        \n",
    "    words = np.array(words)\n",
    "    vecs = np.array(vecs)\n",
    "    \n",
    "    pca = PCA(n_components=2)\n",
    "    vecs_pca = pca.fit_transform(vecs)\n",
    "    \n",
    "    fig, ax = plt.subplots()\n",
    "    if rg != -1:\n",
    "        plt.xlim([-rg, rg])\n",
    "        plt.ylim([-rg, rg])\n",
    "    ax.scatter(vecs_pca[:,0], vecs_pca[:,1], color=\"w\")\n",
    "    \n",
    "    for i, dot in enumerate(vecs_pca):\n",
    "        ax.annotate(words[i], dot)"
   ]
  },
  {
   "cell_type": "code",
   "execution_count": 46,
   "id": "e7c12aaa-a914-4635-8748-54af00898501",
   "metadata": {},
   "outputs": [
    {
     "data": {
      "text/plain": [
       "array([-4.350840e-01,  3.388530e-01,  4.356200e-01, -2.705700e-02,\n",
       "       -2.556720e-01, -1.341210e-01, -2.084800e-01,  3.497400e-02,\n",
       "        8.128030e-01, -8.175210e-01,  4.026560e-01,  7.113430e-01,\n",
       "       -3.106610e-01,  3.523400e-02, -3.425720e-01,  4.585100e-02,\n",
       "       -3.545540e-01,  5.270500e-02, -2.735160e-01, -2.590200e-02,\n",
       "        1.613400e-02, -2.954040e-01, -1.548030e-01, -1.134340e-01,\n",
       "        7.728000e-03, -3.971180e-01, -5.928580e-01, -9.658750e-01,\n",
       "        1.858700e-02, -9.891800e-02, -4.063600e-02, -1.137770e-01,\n",
       "       -7.464500e-02,  1.305840e-01, -1.099550e-01,  3.839090e-01,\n",
       "       -8.238970e-01,  3.692290e-01,  2.731610e-01,  1.412610e-01,\n",
       "        1.315550e-01,  4.544520e-01, -1.269480e-01, -2.516100e-02,\n",
       "       -2.549070e-01, -3.542880e-01, -1.801980e-01,  1.019890e-01,\n",
       "       -1.591110e-01, -2.378120e-01, -8.578400e-02, -1.265400e-02,\n",
       "       -2.518620e-01,  3.270040e-01,  3.975520e-01,  6.542600e-01,\n",
       "        4.439420e-01, -5.799200e-02,  2.528100e-01, -3.514860e-01,\n",
       "        2.066050e-01,  3.117400e-02, -3.673500e-01,  1.994660e-01,\n",
       "        2.618300e-02,  7.147800e-02,  3.118300e-02,  1.163000e-03,\n",
       "        4.763960e-01,  1.377550e-01,  5.103800e-02,  1.689360e-01,\n",
       "       -2.092720e-01, -7.815950e-01, -1.580900e-01,  1.861470e-01,\n",
       "       -1.743780e-01, -8.021600e-02, -1.949390e-01,  2.709500e-01,\n",
       "        2.872560e-01,  3.768950e-01,  9.566600e-02,  2.800890e-01,\n",
       "       -1.490750e-01,  2.556900e-01,  5.033930e-01, -2.159440e-01,\n",
       "       -4.211750e-01,  4.958710e-01, -6.516000e-02,  4.601910e-01,\n",
       "       -1.197740e-01,  4.703500e-01,  2.214170e-01, -2.379270e-01,\n",
       "       -4.502470e-01, -3.626310e-01, -7.214800e-02,  6.792870e-01,\n",
       "        4.010400e-02, -1.950800e-01, -1.630310e-01, -4.227430e-01,\n",
       "       -5.331480e-01,  1.549200e-01, -5.955200e-02, -7.898160e-01,\n",
       "       -3.229340e-01, -2.286690e-01, -2.806780e-01, -5.126530e-01,\n",
       "        2.120100e-02, -2.090200e-02,  8.711400e-02,  4.102300e-01,\n",
       "       -1.542010e-01,  2.843960e-01, -4.670880e-01, -6.164300e-02,\n",
       "        5.136980e-01, -2.102650e-01, -2.186480e-01, -4.683660e-01,\n",
       "       -4.301390e-01, -1.508520e-01,  5.051600e-02, -2.022200e-02,\n",
       "       -1.224610e-01, -1.426450e-01,  2.729630e-01, -2.567280e-01,\n",
       "        7.175430e-01,  2.891270e-01,  3.067060e-01,  1.681660e-01,\n",
       "        5.024310e-01,  1.504470e-01, -1.103586e+00, -2.977140e-01,\n",
       "        3.635590e-01, -3.662730e-01, -9.168900e-02, -2.833710e-01,\n",
       "        4.298200e-02, -9.250400e-02,  3.510810e-01, -5.058570e-01,\n",
       "        3.302500e-01, -1.519630e-01,  2.928080e-01, -3.726240e-01,\n",
       "        2.349020e-01, -6.106410e-01, -2.689670e-01,  2.497600e-02,\n",
       "       -4.958700e-01, -9.710000e-04,  2.185640e-01,  3.168600e-02,\n",
       "        1.913000e-03, -3.267630e-01, -1.088420e-01, -4.032010e-01,\n",
       "        3.513280e-01,  4.043270e-01,  1.010589e+00,  3.492730e-01,\n",
       "        5.530510e-01,  3.327140e-01,  3.543940e-01, -3.930710e-01,\n",
       "        2.117930e-01, -2.591960e-01,  6.118800e-02, -1.821120e-01,\n",
       "        1.959210e-01, -3.427970e-01,  3.783610e-01, -2.623000e-01,\n",
       "        3.428700e-02, -4.647800e-01,  2.145760e-01, -3.252480e-01,\n",
       "       -2.831000e-01,  3.878060e-01,  2.029820e-01, -6.376000e-03,\n",
       "       -1.465580e-01,  2.060740e-01,  5.552690e-01,  1.636660e-01,\n",
       "       -1.840720e-01, -1.186690e-01, -6.515260e-01, -3.889470e-01,\n",
       "       -2.899040e-01,  4.094710e-01,  4.165670e-01,  1.496670e-01,\n",
       "       -4.594830e-01, -1.172640e-01,  6.308200e-02, -4.777000e-02,\n",
       "       -5.962740e-01,  8.139000e-03, -1.104290e-01,  4.557660e-01,\n",
       "       -4.744000e-02, -1.024940e-01, -3.992230e-01, -2.180580e-01,\n",
       "       -1.970630e-01,  1.614000e-02, -9.206000e-03,  1.731520e-01,\n",
       "       -3.249720e-01,  6.687550e-01, -2.956380e-01, -1.243010e-01,\n",
       "        1.601760e-01, -6.615110e-01,  4.250400e-02,  2.711760e-01,\n",
       "       -3.774470e-01, -3.145800e-01,  4.002570e-01, -2.713300e-02,\n",
       "        1.597470e-01, -4.653310e-01,  7.654000e-02,  1.161595e+00,\n",
       "       -5.699880e-01,  2.282930e-01,  1.654780e-01,  3.117800e-02,\n",
       "        1.430880e-01, -5.217930e-01, -5.924780e-01, -6.105800e-02,\n",
       "        7.629150e-01,  3.549400e-02, -5.654840e-01, -2.880150e-01,\n",
       "        5.211850e-01,  4.944000e-02,  2.135170e-01, -8.333300e-02,\n",
       "        7.908700e-02, -1.097930e-01,  4.044520e-01, -7.875820e-01,\n",
       "        3.178640e-01, -6.649400e-02,  3.582320e-01,  3.777800e-01,\n",
       "        4.631820e-01, -1.468390e-01,  1.696960e-01,  5.969630e-01,\n",
       "       -1.334470e-01,  3.905270e-01,  2.878610e-01,  1.755300e-01,\n",
       "        2.438260e-01, -3.173190e-01,  3.229320e-01,  1.686000e-02,\n",
       "       -3.252290e-01, -1.556370e-01, -1.946430e-01,  3.193080e-01,\n",
       "       -7.676200e-02,  4.371800e-02,  2.970340e-01,  2.958930e-01,\n",
       "        9.852320e-01, -6.542800e-02, -1.558010e-01,  2.422820e-01,\n",
       "        5.350500e-02,  3.985850e-01,  4.996080e-01,  3.617200e-02,\n",
       "       -3.674490e-01, -6.217650e-01,  1.999400e-02, -7.101600e-02,\n",
       "        2.939770e-01, -3.069110e-01, -3.553440e-01, -6.784200e-02,\n",
       "        1.860940e-01,  4.625370e-01,  3.202470e-01,  2.265640e-01,\n",
       "       -2.881030e-01, -1.308390e-01,  6.290000e-04, -2.396230e-01],\n",
       "      dtype=float32)"
      ]
     },
     "execution_count": 46,
     "metadata": {},
     "output_type": "execute_result"
    }
   ],
   "source": [
    "model1[\"haji\"]"
   ]
  },
  {
   "cell_type": "code",
   "execution_count": 36,
   "id": "4343b38e-89cb-4ffe-9d11-3c7a02d4aae9",
   "metadata": {},
   "outputs": [
    {
     "data": {
      "image/png": "[encoded data removed]",
      "text/plain": [
       "<Figure size 432x288 with 1 Axes>"
      ]
     },
     "metadata": {
      "needs_background": "light"
     },
     "output_type": "display_data"
    }
   ],
   "source": [
    "wordVectorsPlot(test1, \"umrah\", 5)"
   ]
  },
  {
   "cell_type": "code",
   "execution_count": 45,
   "id": "6e8950c6-d510-4966-b12f-f0c99911d586",
   "metadata": {},
   "outputs": [
    {
     "data": {
      "image/png": "[encoded data removed]",
      "text/plain": [
       "<Figure size 432x288 with 1 Axes>"
      ]
     },
     "metadata": {
      "needs_background": "light"
     },
     "output_type": "display_data"
    }
   ],
   "source": [
    "wordVectorsPlot(haji, \"haji\", 5)"
   ]
  },
  {
   "cell_type": "markdown",
   "id": "c8e058e1-1d29-4a6a-84aa-3e2b39b56056",
   "metadata": {},
   "source": [
    "Test Lanjutan\n",
    "\n",
    "https://github.com/RaRe-Technologies/gensim/wiki/Migrating-from-Gensim-3.x-to-4\n",
    "\n",
    "https://radimrehurek.com/gensim/models/keyedvectors.html"
   ]
  },
  {
   "cell_type": "code",
   "execution_count": 49,
   "id": "886d3879-6a39-4010-b7bc-c44e77a25573",
   "metadata": {},
   "outputs": [
    {
     "data": {
      "text/plain": [
       "104336"
      ]
     },
     "execution_count": 49,
     "metadata": {},
     "output_type": "execute_result"
    }
   ],
   "source": [
    "vocab_len = len(model1) \n",
    "vocab_len"
   ]
  },
  {
   "cell_type": "code",
   "execution_count": 52,
   "id": "0e9d0d99-2311-4d69-ab1a-6bde6e5189d4",
   "metadata": {},
   "outputs": [
    {
     "data": {
      "text/plain": [
       "4139"
      ]
     },
     "execution_count": 52,
     "metadata": {},
     "output_type": "execute_result"
    }
   ],
   "source": [
    "haji_idx = model1.key_to_index[\"haji\"]\n",
    "haji_idx"
   ]
  },
  {
   "cell_type": "code",
   "execution_count": 54,
   "id": "82337e16-a6ba-4895-88e7-0e8d986c2cf9",
   "metadata": {},
   "outputs": [
    {
     "data": {
      "text/plain": [
       "100197"
      ]
     },
     "execution_count": 54,
     "metadata": {},
     "output_type": "execute_result"
    }
   ],
   "source": [
    "haji_cnt = model1.get_vecattr(\"haji\", \"count\")\n",
    "haji_cnt"
   ]
  },
  {
   "cell_type": "code",
   "execution_count": 57,
   "id": "38ed7152-c54b-49d9-a4cc-f2eda7b34810",
   "metadata": {},
   "outputs": [
    {
     "data": {
      "text/plain": [
       "[('wada', 0.8263809680938721),\n",
       " ('ibadah', 0.8205979466438293),\n",
       " ('menunaikan', 0.8109956383705139),\n",
       " ('embarkasi', 0.8055841326713562),\n",
       " ('umrah', 0.7758373618125916),\n",
       " ('jemaah', 0.7602464556694031),\n",
       " ('jamaah', 0.7507472038269043),\n",
       " ('kemusyrikan', 0.7297725677490234),\n",
       " ('muamalah', 0.7176981568336487),\n",
       " ('Dzulhijah', 0.7146812081336975)]"
      ]
     },
     "execution_count": 57,
     "metadata": {},
     "output_type": "execute_result"
    }
   ],
   "source": [
    "haji_cos = model1.most_similar_cosmul(\"haji\")\n",
    "haji_cos"
   ]
  },
  {
   "cell_type": "code",
   "execution_count": 58,
   "id": "e8563e13-8e41-4804-bca8-157a65d26a5d",
   "metadata": {},
   "outputs": [
    {
     "data": {
      "text/plain": [
       "0.55167615"
      ]
     },
     "execution_count": 58,
     "metadata": {},
     "output_type": "execute_result"
    }
   ],
   "source": [
    "sim = model1.similarity(\"haji\", \"umrah\")\n",
    "sim"
   ]
  },
  {
   "cell_type": "code",
   "execution_count": 60,
   "id": "5596aca8-f0c2-4e87-9d6b-f663b66b134e",
   "metadata": {},
   "outputs": [
    {
     "data": {
      "text/plain": [
       "[('wada', 0.6527634859085083),\n",
       " ('ibadah', 0.6411975026130676),\n",
       " ('menunaikan', 0.621992826461792),\n",
       " ('embarkasi', 0.6111697554588318),\n",
       " ('umrah', 0.5516761541366577),\n",
       " ('jemaah', 0.5204943418502808),\n",
       " ('jamaah', 0.501495897769928),\n",
       " ('kemusyrikan', 0.45954659581184387),\n",
       " ('muamalah', 0.4353976845741272),\n",
       " ('Dzulhijah', 0.4293636679649353)]"
      ]
     },
     "execution_count": 60,
     "metadata": {},
     "output_type": "execute_result"
    }
   ],
   "source": [
    "sim_word = model1.similar_by_word(\"haji\")\n",
    "sim_word"
   ]
  },
  {
   "cell_type": "code",
   "execution_count": 61,
   "id": "1b502891-4629-452a-8c61-a05e4c43f7a6",
   "metadata": {},
   "outputs": [
    {
     "data": {
      "text/plain": [
       "[('wada', 0.6527634859085083),\n",
       " ('ibadah', 0.6411975026130676),\n",
       " ('menunaikan', 0.621992826461792),\n",
       " ('embarkasi', 0.6111697554588318),\n",
       " ('umrah', 0.5516761541366577),\n",
       " ('jemaah', 0.5204943418502808),\n",
       " ('jamaah', 0.501495897769928),\n",
       " ('kemusyrikan', 0.45954659581184387),\n",
       " ('muamalah', 0.4353976845741272),\n",
       " ('Dzulhijah', 0.4293636679649353)]"
      ]
     },
     "execution_count": 61,
     "metadata": {},
     "output_type": "execute_result"
    }
   ],
   "source": [
    "sim_vector = model1.similar_by_vector(\"haji\")\n",
    "sim_vector"
   ]
  },
  {
   "cell_type": "code",
   "execution_count": 70,
   "id": "a8ca1bd1-f402-43b0-8148-64e6537c0f73",
   "metadata": {},
   "outputs": [
    {
     "name": "stdout",
     "output_type": "stream",
     "text": [
      "shalat\n"
     ]
    }
   ],
   "source": [
    " print(model1.doesnt_match(\"adalah sebuah shalat\".split()))"
   ]
  },
  {
   "cell_type": "code",
   "execution_count": 76,
   "id": "987560f5-46c8-4ed0-9c21-6df599d58806",
   "metadata": {},
   "outputs": [
    {
     "data": {
      "text/plain": [
       "0.4483238458633423"
      ]
     },
     "execution_count": 76,
     "metadata": {},
     "output_type": "execute_result"
    }
   ],
   "source": [
    "distance = model1.distance(\"haji\", \"umrah\")\n",
    "distance"
   ]
  },
  {
   "cell_type": "code",
   "execution_count": 77,
   "id": "1f2f4a13-41d9-42dd-85ab-7c78ba22f39b",
   "metadata": {},
   "outputs": [
    {
     "data": {
      "text/plain": [
       "(300,)"
      ]
     },
     "execution_count": 77,
     "metadata": {},
     "output_type": "execute_result"
    }
   ],
   "source": [
    "vector = model1['haji']  # numpy vector of a word\n",
    "vector.shape"
   ]
  },
  {
   "cell_type": "code",
   "execution_count": null,
   "id": "249d2024-e202-4001-8cf2-b7a5d4ae090a",
   "metadata": {},
   "outputs": [],
   "source": []
  }
 ],
 "metadata": {
  "kernelspec": {
   "display_name": "Python 3",
   "language": "python",
   "name": "python3"
  },
  "language_info": {
   "codemirror_mode": {
    "name": "ipython",
    "version": 3
   },
   "file_extension": ".py",
   "mimetype": "text/x-python",
   "name": "python",
   "nbconvert_exporter": "python",
   "pygments_lexer": "ipython3",
   "version": "3.8.8"
  }
 },
 "nbformat": 4,
 "nbformat_minor": 5
}
