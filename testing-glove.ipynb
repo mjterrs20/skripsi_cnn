{
 "cells": [
  {
   "cell_type": "code",
   "execution_count": 1,
   "id": "41f5eb48-461a-4f76-85b0-550ef5f2a0ca",
   "metadata": {},
   "outputs": [],
   "source": [
    "# tesing glove\n",
    "# use glove indonesia and check model again\n",
    "from gensim.test.utils import datapath, get_tmpfile\n",
    "from gensim.scripts.glove2word2vec import glove2word2vec\n",
    "from gensim.models import KeyedVectors"
   ]
  },
  {
   "cell_type": "code",
   "execution_count": 2,
   "id": "224ecc56-4735-471a-a754-ca27511913a8",
   "metadata": {},
   "outputs": [],
   "source": [
    "import numpy as np\n",
    "import matplotlib.pyplot as plt\n",
    "from sklearn.decomposition import PCA"
   ]
  },
  {
   "cell_type": "markdown",
   "id": "4a6a1f06-14fa-40b2-b6d5-0c258242a333",
   "metadata": {},
   "source": [
    "GLOVE disini melakukan beberapa testing dengan beberapa simulasi diantaranya:\n",
    "\n",
    "Model1 => glove_input_file      : glove_wiki_id_300.txt\n",
    "          word2vec_output_file  : get_tmpfile(\"w2v_format.txt\")\n",
    "          \n",
    "Model2 => glove_input_file      : glove_wiki_id_300.txt\n",
    "          word2vec_output_file2 : w2vec_skipgram_wiki_id300_0.txt\n",
    "          \n",
    "Model3 => glove_input_file      : glove_wiki_id_300.txt\n",
    "          word2vec_output_file3 : w2vec_cbow_wiki_id300_0.txt"
   ]
  },
  {
   "cell_type": "code",
   "execution_count": 3,
   "id": "36186c26-b5ef-49b5-884a-b6478532afe4",
   "metadata": {},
   "outputs": [
    {
     "name": "stderr",
     "output_type": "stream",
     "text": [
      "<ipython-input-3-dbd99eb9ce14>:5: DeprecationWarning: Call to deprecated `glove2word2vec` (KeyedVectors.load_word2vec_format(.., binary=False, no_header=True) loads GLoVE text vectors.).\n",
      "  glove2word2vec(glove_input_file, word2vec_output_file)\n"
     ]
    }
   ],
   "source": [
    "# Simulasi Model 1\n",
    "glove_input_file = 'dataset/glove/vectors.txt'\n",
    "word2vec_output_file = get_tmpfile(\"w2v_format.txt\")\n",
    "\n",
    "glove2word2vec(glove_input_file, word2vec_output_file)\n",
    "\n",
    "model1 = KeyedVectors.load_word2vec_format(word2vec_output_file, binary=False)"
   ]
  },
  {
   "cell_type": "code",
   "execution_count": null,
   "id": "0dcf4954-5ade-4239-9fe3-30064d22facc",
   "metadata": {},
   "outputs": [],
   "source": [
    "# Simulasi Model 2\n",
    "word2vec_output_file2 = 'dataset/w2v/w2vec_skipgram_wiki_id300_0.txt'\n",
    "\n",
    "glove2word2vec(glove_input_file, word2vec_output_file2)\n",
    "\n",
    "model2 = KeyedVectors.load_word2vec_format(word2vec_output_file2, binary=False)"
   ]
  },
  {
   "cell_type": "code",
   "execution_count": null,
   "id": "95fb9eef-670e-4b74-8b44-2f1aa2ea2eeb",
   "metadata": {},
   "outputs": [],
   "source": [
    "# Simulasi Model 3\n",
    "word2vec_output_file3 = 'dataset/w2v/w2vec_cbow_wiki_id300_0.txt'\n",
    "\n",
    "glove2word2vec(glove_input_file, word2vec_output_file3)\n",
    "\n",
    "model3 = KeyedVectors.load_word2vec_format(word2vec_output_file3, binary=False)"
   ]
  },
  {
   "cell_type": "code",
   "execution_count": 10,
   "id": "fa2ab769-a4f6-4bb1-86b7-f0971f33fe33",
   "metadata": {},
   "outputs": [],
   "source": [
    "# Melakukan test keberapa pemodelan\n",
    "test1 = model1.most_similar('dukhul')"
   ]
  },
  {
   "cell_type": "code",
   "execution_count": 11,
   "id": "29cbcc0a-7fcf-4dd9-93df-97e3a0a123f0",
   "metadata": {},
   "outputs": [
    {
     "data": {
      "text/plain": [
       "[('irgc', 0.7735472321510315),\n",
       " ('crochet', 0.698003888130188),\n",
       " ('mofid', 0.6925829648971558),\n",
       " ('iiifrederick', 0.6838711500167847),\n",
       " ('sgai', 0.6680823564529419),\n",
       " ('investasirp', 0.6669288873672485),\n",
       " ('moriones', 0.6644648313522339),\n",
       " ('gamespada', 0.6614095568656921),\n",
       " ('surong', 0.6603832244873047),\n",
       " ('tanzt', 0.6589555740356445)]"
      ]
     },
     "execution_count": 11,
     "metadata": {},
     "output_type": "execute_result"
    }
   ],
   "source": [
    "test1"
   ]
  },
  {
   "cell_type": "code",
   "execution_count": null,
   "id": "79dc95fa-eb03-421e-b702-2b463197ce82",
   "metadata": {},
   "outputs": [],
   "source": [
    "test2 = model1.most_similar('tahalul')\n",
    "test2"
   ]
  },
  {
   "cell_type": "code",
   "execution_count": null,
   "id": "13b9707d-989e-48b8-807c-c783b58638d9",
   "metadata": {},
   "outputs": [],
   "source": [
    "test3"
   ]
  },
  {
   "cell_type": "code",
   "execution_count": null,
   "id": "07d92b63-f633-42b5-af93-cb2c1cdeb902",
   "metadata": {},
   "outputs": [],
   "source": [
    "haji = model1.most_similar('haji')\n",
    "haji"
   ]
  },
  {
   "cell_type": "code",
   "execution_count": null,
   "id": "87e27a94-d0c0-4fbe-83bc-f62567a31338",
   "metadata": {},
   "outputs": [],
   "source": [
    "result1 = model1.most_similar(positive=['woman', 'king'], negative=['man'], topn=1)\n",
    "print(result1)\n",
    "\n",
    "result2 = model2.most_similar(positive=['woman', 'king'], negative=['man'], topn=1)\n",
    "print(result2)\n",
    "\n",
    "result3 = model3.most_similar(positive=['woman', 'king'], negative=['man'], topn=1)\n",
    "print(result3)"
   ]
  },
  {
   "cell_type": "markdown",
   "id": "1dfe3341-8267-4a76-bba0-3452c14b0e0f",
   "metadata": {},
   "source": [
    "Tidak ada perbedaan antara hasil tersebut\n",
    "Sehingga bisa disimpulkann word2vec tidak begitu pengaruh terhadap glove\n",
    "bisa diartikan sama saja hasilnya"
   ]
  },
  {
   "cell_type": "code",
   "execution_count": null,
   "id": "816a37c6-f2ea-4a0e-adbe-36acbbae1bd9",
   "metadata": {},
   "outputs": [],
   "source": [
    "# Test menggunakan plot\n",
    "def wordVectorsPlot(arr, center, rg):\n",
    "    words = []\n",
    "    vecs = []\n",
    "    \n",
    "    words.append(center)\n",
    "    vecs.append(model1[center])\n",
    "    \n",
    "    for word, cosine in arr:\n",
    "        words.append(word)\n",
    "        vecs.append(model1[word])\n",
    "        \n",
    "    words = np.array(words)\n",
    "    vecs = np.array(vecs)\n",
    "    \n",
    "    pca = PCA(n_components=2)\n",
    "    vecs_pca = pca.fit_transform(vecs)\n",
    "    \n",
    "    fig, ax = plt.subplots()\n",
    "    if rg != -1:\n",
    "        plt.xlim([-rg, rg])\n",
    "        plt.ylim([-rg, rg])\n",
    "    ax.scatter(vecs_pca[:,0], vecs_pca[:,1], color=\"w\")\n",
    "    \n",
    "    for i, dot in enumerate(vecs_pca):\n",
    "        ax.annotate(words[i], dot)"
   ]
  },
  {
   "cell_type": "code",
   "execution_count": null,
   "id": "e7c12aaa-a914-4635-8748-54af00898501",
   "metadata": {},
   "outputs": [],
   "source": [
    "model1[\"haji\"]"
   ]
  },
  {
   "cell_type": "code",
   "execution_count": null,
   "id": "4343b38e-89cb-4ffe-9d11-3c7a02d4aae9",
   "metadata": {},
   "outputs": [],
   "source": [
    "wordVectorsPlot(test1, \"umrah\", 5)"
   ]
  },
  {
   "cell_type": "code",
   "execution_count": null,
   "id": "6e8950c6-d510-4966-b12f-f0c99911d586",
   "metadata": {},
   "outputs": [],
   "source": [
    "wordVectorsPlot(haji, \"haji\", 5)"
   ]
  },
  {
   "cell_type": "markdown",
   "id": "c8e058e1-1d29-4a6a-84aa-3e2b39b56056",
   "metadata": {},
   "source": [
    "Test Lanjutan\n",
    "\n",
    "https://github.com/RaRe-Technologies/gensim/wiki/Migrating-from-Gensim-3.x-to-4\n",
    "\n",
    "https://radimrehurek.com/gensim/models/keyedvectors.html"
   ]
  },
  {
   "cell_type": "code",
   "execution_count": null,
   "id": "886d3879-6a39-4010-b7bc-c44e77a25573",
   "metadata": {},
   "outputs": [],
   "source": [
    "vocab_len = len(model1) \n",
    "vocab_len"
   ]
  },
  {
   "cell_type": "code",
   "execution_count": null,
   "id": "0e9d0d99-2311-4d69-ab1a-6bde6e5189d4",
   "metadata": {},
   "outputs": [],
   "source": [
    "haji_idx = model1.key_to_index[\"laksana\"]\n",
    "haji_idx"
   ]
  },
  {
   "cell_type": "code",
   "execution_count": null,
   "id": "82337e16-a6ba-4895-88e7-0e8d986c2cf9",
   "metadata": {},
   "outputs": [],
   "source": [
    "haji_cnt = model1.get_vecattr(\"haji\", \"count\")\n",
    "haji_cnt"
   ]
  },
  {
   "cell_type": "code",
   "execution_count": null,
   "id": "38ed7152-c54b-49d9-a4cc-f2eda7b34810",
   "metadata": {},
   "outputs": [],
   "source": [
    "haji_cos = model1.most_similar_cosmul(\"haji\")\n",
    "haji_cos"
   ]
  },
  {
   "cell_type": "code",
   "execution_count": null,
   "id": "e8563e13-8e41-4804-bca8-157a65d26a5d",
   "metadata": {},
   "outputs": [],
   "source": [
    "sim = model1.similarity(\"haji\", \"umrah\")\n",
    "sim"
   ]
  },
  {
   "cell_type": "code",
   "execution_count": null,
   "id": "5596aca8-f0c2-4e87-9d6b-f663b66b134e",
   "metadata": {},
   "outputs": [],
   "source": [
    "sim_word = model1.similar_by_word(\"haji\")\n",
    "sim_word"
   ]
  },
  {
   "cell_type": "code",
   "execution_count": null,
   "id": "1b502891-4629-452a-8c61-a05e4c43f7a6",
   "metadata": {},
   "outputs": [],
   "source": [
    "sim_vector = model1.similar_by_vector(\"haji\")\n",
    "sim_vector"
   ]
  },
  {
   "cell_type": "code",
   "execution_count": null,
   "id": "a8ca1bd1-f402-43b0-8148-64e6537c0f73",
   "metadata": {},
   "outputs": [],
   "source": [
    " print(model1.doesnt_match(\"adalah sebuah shalat\".split()))"
   ]
  },
  {
   "cell_type": "code",
   "execution_count": null,
   "id": "987560f5-46c8-4ed0-9c21-6df599d58806",
   "metadata": {},
   "outputs": [],
   "source": [
    "distance = model1.distance(\"haji\", \"umrah\")\n",
    "distance"
   ]
  },
  {
   "cell_type": "code",
   "execution_count": null,
   "id": "1f2f4a13-41d9-42dd-85ab-7c78ba22f39b",
   "metadata": {},
   "outputs": [],
   "source": [
    "vector = model1['haji']  # numpy vector of a word\n",
    "vector.shape"
   ]
  },
  {
   "cell_type": "code",
   "execution_count": null,
   "id": "249d2024-e202-4001-8cf2-b7a5d4ae090a",
   "metadata": {},
   "outputs": [],
   "source": []
  }
 ],
 "metadata": {
  "kernelspec": {
   "display_name": "Python 3",
   "language": "python",
   "name": "python3"
  },
  "language_info": {
   "codemirror_mode": {
    "name": "ipython",
    "version": 3
   },
   "file_extension": ".py",
   "mimetype": "text/x-python",
   "name": "python",
   "nbconvert_exporter": "python",
   "pygments_lexer": "ipython3",
   "version": "3.8.8"
  }
 },
 "nbformat": 4,
 "nbformat_minor": 5
}
