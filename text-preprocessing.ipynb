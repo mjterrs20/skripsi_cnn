{
 "cells": [
  {
   "cell_type": "code",
   "execution_count": 1,
   "id": "4c982386-2274-4b29-9053-cd64e966f338",
   "metadata": {},
   "outputs": [],
   "source": [
    "import re\n",
    "import string"
   ]
  },
  {
   "cell_type": "code",
   "execution_count": 2,
   "id": "d9cc6dca-2ff7-461d-9913-9c2b264ee3c5",
   "metadata": {},
   "outputs": [
    {
     "name": "stdout",
     "output_type": "stream",
     "text": [
      "berikut ini adalah 5 negara dengan pendidikan terbaik di dunia adalah korea selatan, jepang, singapura, hong kong, dan finlandia.\n"
     ]
    }
   ],
   "source": [
    "# CASE FOLDING : LOWER CASE\n",
    "# Merubah format teks menjadi format huruf kecil semua (lowercase).\n",
    "\n",
    "kalimat = \"Berikut ini adalah 5 negara dengan pendidikan terbaik di dunia adalah Korea Selatan, Jepang, Singapura, Hong Kong, dan Finlandia.\"\n",
    "lower_case = kalimat.lower()\n",
    "print(lower_case)"
   ]
  },
  {
   "cell_type": "code",
   "execution_count": 3,
   "id": "d58efc31-0c5e-4940-b49d-532208561b14",
   "metadata": {},
   "outputs": [
    {
     "name": "stdout",
     "output_type": "stream",
     "text": [
      "Berikut ini adalah  negara dengan pendidikan terbaik di dunia adalah Korea Selatan, Jepang, Singapura, Hong Kong, dan Finlandia.\n"
     ]
    }
   ],
   "source": [
    "# CASE FOLDING : REMOVING NUMBER\n",
    "# Menghapus karakter angka.\n",
    "\n",
    "kalimat = \"Berikut ini adalah 5 negara dengan pendidikan terbaik di dunia adalah Korea Selatan, Jepang, Singapura, Hong Kong, dan Finlandia.\"\n",
    "hasil = re.sub(r\"\\d+\", \"\", kalimat)\n",
    "print(hasil)"
   ]
  },
  {
   "cell_type": "code",
   "execution_count": 4,
   "id": "7f29bb8a-1212-47db-add0-6db33fa7e629",
   "metadata": {},
   "outputs": [
    {
     "name": "stdout",
     "output_type": "stream",
     "text": [
      "Ini adalah contoh kalimat dengan tanda baca sai\n"
     ]
    }
   ],
   "source": [
    "# CASE FOLDING : REMOVING PUNCTUATION\n",
    "# Menghapus tanda baca.\n",
    "\n",
    "kalimat = \"Ini &adalah [contoh] kalimat? {dengan} tanda. baca?!! sa'i\"\n",
    "hasil = kalimat.translate(str.maketrans(\"\",\"\",string.punctuation))\n",
    "print(hasil)"
   ]
  },
  {
   "cell_type": "code",
   "execution_count": 11,
   "id": "0b77a5af-9ab1-4f37-af84-6750dca35c75",
   "metadata": {},
   "outputs": [
    {
     "name": "stdout",
     "output_type": "stream",
     "text": [
      "ini kalimat contoh haji\n"
     ]
    }
   ],
   "source": [
    "# CASE FOLDING : REMOVING WHITESPACE\n",
    "# Menghapus karakter kosong.\n",
    "\n",
    "kalimat = \" \\t ini kalimat contoh haji\"\n",
    "hasil = kalimat.strip()\n",
    "print(hasil)"
   ]
  },
  {
   "cell_type": "code",
   "execution_count": 99,
   "id": "22d6ce4e-b035-4cce-aa59-b86a43ad0fad",
   "metadata": {},
   "outputs": [
    {
     "name": "stdout",
     "output_type": "stream",
     "text": [
      "['rumah', 'idaman', 'adalah', 'rumah', 'yang', 'bersih']\n"
     ]
    }
   ],
   "source": [
    "kalimat = \"rumah idaman adalah rumah yang bersih\"\n",
    "pisah = kalimat.split()\n",
    "print(pisah)"
   ]
  },
  {
   "cell_type": "code",
   "execution_count": 13,
   "id": "47264141-2590-4d54-b522-07844f07c2e4",
   "metadata": {},
   "outputs": [
    {
     "name": "stdout",
     "output_type": "stream",
     "text": [
      "Collecting Sastrawi\n",
      "  Downloading Sastrawi-1.0.1-py2.py3-none-any.whl (209 kB)\n",
      "\u001b[K     |████████████████████████████████| 209 kB 1.8 MB/s eta 0:00:01\n",
      "\u001b[?25hInstalling collected packages: Sastrawi\n",
      "Successfully installed Sastrawi-1.0.1\n",
      "\u001b[33mWARNING: You are using pip version 21.1.3; however, version 21.2.4 is available.\n",
      "You should consider upgrading via the '/Users/muhammadrizkiaditia/opt/anaconda3/bin/python -m pip install --upgrade pip' command.\u001b[0m\n",
      "Note: you may need to restart the kernel to use updated packages.\n"
     ]
    }
   ],
   "source": [
    "pip install Sastrawi"
   ]
  },
  {
   "cell_type": "code",
   "execution_count": 17,
   "id": "4ed69965-8bfb-4c60-9971-43cd9ed183c1",
   "metadata": {},
   "outputs": [],
   "source": [
    "from Sastrawi.StopWordRemover.StopWordRemoverFactory import StopWordRemoverFactory\n",
    "from Sastrawi.Stemmer.StemmerFactory import StemmerFactory"
   ]
  },
  {
   "cell_type": "code",
   "execution_count": 15,
   "id": "c75f338b-46d5-4dee-ac4d-77b19a3087a1",
   "metadata": {},
   "outputs": [
    {
     "name": "stdout",
     "output_type": "stream",
     "text": [
      "['yang', 'untuk', 'pada', 'ke', 'para', 'namun', 'menurut', 'antara', 'dia', 'dua', 'ia', 'seperti', 'jika', 'jika', 'sehingga', 'kembali', 'dan', 'tidak', 'ini', 'karena', 'kepada', 'oleh', 'saat', 'harus', 'sementara', 'setelah', 'belum', 'kami', 'sekitar', 'bagi', 'serta', 'di', 'dari', 'telah', 'sebagai', 'masih', 'hal', 'ketika', 'adalah', 'itu', 'dalam', 'bisa', 'bahwa', 'atau', 'hanya', 'kita', 'dengan', 'akan', 'juga', 'ada', 'mereka', 'sudah', 'saya', 'terhadap', 'secara', 'agar', 'lain', 'anda', 'begitu', 'mengapa', 'kenapa', 'yaitu', 'yakni', 'daripada', 'itulah', 'lagi', 'maka', 'tentang', 'demi', 'dimana', 'kemana', 'pula', 'sambil', 'sebelum', 'sesudah', 'supaya', 'guna', 'kah', 'pun', 'sampai', 'sedangkan', 'selagi', 'sementara', 'tetapi', 'apakah', 'kecuali', 'sebab', 'selain', 'seolah', 'seraya', 'seterusnya', 'tanpa', 'agak', 'boleh', 'dapat', 'dsb', 'dst', 'dll', 'dahulu', 'dulunya', 'anu', 'demikian', 'tapi', 'ingin', 'juga', 'nggak', 'mari', 'nanti', 'melainkan', 'oh', 'ok', 'seharusnya', 'sebetulnya', 'setiap', 'setidaknya', 'sesuatu', 'pasti', 'saja', 'toh', 'ya', 'walau', 'tolong', 'tentu', 'amat', 'apalagi', 'bagaimanapun']\n"
     ]
    }
   ],
   "source": [
    "# LIST STOPWORD SASTRAWI\n",
    "\n",
    "factory = StopWordRemoverFactory()\n",
    "stopwords = factory.get_stop_words()\n",
    "print(stopwords)"
   ]
  },
  {
   "cell_type": "code",
   "execution_count": 18,
   "id": "a07ffe9b-31dc-41e3-8973-1ca93ebfef32",
   "metadata": {},
   "outputs": [],
   "source": [
    "# Stemming Bahasa Indonesia using Sastrawi\n",
    "factory = StemmerFactory()\n",
    "stemmer = factory.create_stemmer()"
   ]
  },
  {
   "cell_type": "code",
   "execution_count": 19,
   "id": "e3a0d66d-f970-4608-8878-b43977846d87",
   "metadata": {},
   "outputs": [
    {
     "name": "stdout",
     "output_type": "stream",
     "text": [
      "andi kerap laku transaksi rutin cara daring atau online turut andi belanja online lebih praktis murah\n"
     ]
    }
   ],
   "source": [
    "kalimat = \"Andi kerap melakukan transaksi rutin secara daring atau online. Menurut Andi belanja online lebih praktis & murah.\"\n",
    "\n",
    "hasil = stemmer.stem(kalimat)\n",
    "print(hasil)"
   ]
  },
  {
   "cell_type": "code",
   "execution_count": 31,
   "id": "8a9e4419-0a57-46e8-a63c-87513495001a",
   "metadata": {},
   "outputs": [
    {
     "name": "stdout",
     "output_type": "stream",
     "text": [
      "ada waktu tentu yang jadi waktu baik untuk laksana umrah apa yg maksud dengan\n"
     ]
    }
   ],
   "source": [
    "print(stemmer.stem('Adakah waktu tertentu yang menjadi waktu terbaik untuk melaksanakan umrah? apa yg dimaksud dengan'))"
   ]
  },
  {
   "cell_type": "code",
   "execution_count": 33,
   "id": "51bf3525-b9d5-4f55-bd2b-95f2299638af",
   "metadata": {},
   "outputs": [
    {
     "name": "stdout",
     "output_type": "stream",
     "text": [
      "Requirement already satisfied: nltk in /Users/muhammadrizkiaditia/opt/anaconda3/lib/python3.8/site-packages (3.6.1)\n",
      "Requirement already satisfied: tqdm in /Users/muhammadrizkiaditia/opt/anaconda3/lib/python3.8/site-packages (from nltk) (4.59.0)\n",
      "Requirement already satisfied: joblib in /Users/muhammadrizkiaditia/opt/anaconda3/lib/python3.8/site-packages (from nltk) (1.0.1)\n",
      "Requirement already satisfied: regex in /Users/muhammadrizkiaditia/opt/anaconda3/lib/python3.8/site-packages (from nltk) (2021.4.4)\n",
      "Requirement already satisfied: click in /Users/muhammadrizkiaditia/opt/anaconda3/lib/python3.8/site-packages (from nltk) (7.1.2)\n",
      "\u001b[33mWARNING: You are using pip version 21.1.3; however, version 21.2.4 is available.\n",
      "You should consider upgrading via the '/Users/muhammadrizkiaditia/opt/anaconda3/bin/python -m pip install --upgrade pip' command.\u001b[0m\n",
      "Note: you may need to restart the kernel to use updated packages.\n"
     ]
    }
   ],
   "source": [
    "pip install nltk"
   ]
  },
  {
   "cell_type": "code",
   "execution_count": 37,
   "id": "5a20d13f-5fa5-45a2-92c3-dbf06569475f",
   "metadata": {},
   "outputs": [],
   "source": [
    "# TOKENIZING\n",
    "import nltk\n",
    "from nltk.tokenize import word_tokenize "
   ]
  },
  {
   "cell_type": "code",
   "execution_count": 109,
   "id": "9f20da20-2c69-43a9-aab4-1d033021d07e",
   "metadata": {},
   "outputs": [
    {
     "name": "stdout",
     "output_type": "stream",
     "text": [
      "['Andi', 'kerap', 'melakukan', 'thowaf', 'transaksi', 'rutin', 'secara', 'daring', 'atau', 'yg', 'online', '.']\n"
     ]
    }
   ],
   "source": [
    "kalimat = \"Andi kerap melakukan thowaf transaksi rutin secara daring atau yg online.\"\n",
    "\n",
    "tokens = nltk.tokenize.word_tokenize(kalimat)\n",
    "print(tokens)"
   ]
  },
  {
   "cell_type": "code",
   "execution_count": 45,
   "id": "3d4031ff-0e17-40bd-a21e-995d199a2614",
   "metadata": {},
   "outputs": [],
   "source": [
    "import pandas as pd\n",
    "import json"
   ]
  },
  {
   "cell_type": "code",
   "execution_count": 46,
   "id": "0dee5d16-a5ac-4454-bcb0-98f54e325a38",
   "metadata": {},
   "outputs": [],
   "source": [
    "# NORMALIZATION\n",
    "# untuk menormalisasi dan menyamakan beberapa kata\n",
    "with open('normalisasi.json','r') as f:\n",
    "    data = json.loads(f.read())\n",
    "    \n",
    "# Normalizing data\n",
    "normalizad_word = pd.json_normalize(data, record_path =['items'])"
   ]
  },
  {
   "cell_type": "code",
   "execution_count": 62,
   "id": "5a67d0f6-2159-4c70-8e0a-42b20ad73771",
   "metadata": {},
   "outputs": [
    {
     "data": {
      "text/html": [
       "<div>\n",
       "<style scoped>\n",
       "    .dataframe tbody tr th:only-of-type {\n",
       "        vertical-align: middle;\n",
       "    }\n",
       "\n",
       "    .dataframe tbody tr th {\n",
       "        vertical-align: top;\n",
       "    }\n",
       "\n",
       "    .dataframe thead th {\n",
       "        text-align: right;\n",
       "    }\n",
       "</style>\n",
       "<table border=\"1\" class=\"dataframe\">\n",
       "  <thead>\n",
       "    <tr style=\"text-align: right;\">\n",
       "      <th></th>\n",
       "      <th>before</th>\n",
       "      <th>after</th>\n",
       "    </tr>\n",
       "  </thead>\n",
       "  <tbody>\n",
       "    <tr>\n",
       "      <th>0</th>\n",
       "      <td>tahallul</td>\n",
       "      <td>tahalul</td>\n",
       "    </tr>\n",
       "    <tr>\n",
       "      <th>1</th>\n",
       "      <td>towaf</td>\n",
       "      <td>thawaf</td>\n",
       "    </tr>\n",
       "    <tr>\n",
       "      <th>2</th>\n",
       "      <td>tawaf</td>\n",
       "      <td>thawaf</td>\n",
       "    </tr>\n",
       "    <tr>\n",
       "      <th>3</th>\n",
       "      <td>thowaf</td>\n",
       "      <td>thawaf</td>\n",
       "    </tr>\n",
       "    <tr>\n",
       "      <th>4</th>\n",
       "      <td>yg</td>\n",
       "      <td>yang</td>\n",
       "    </tr>\n",
       "  </tbody>\n",
       "</table>\n",
       "</div>"
      ],
      "text/plain": [
       "     before    after\n",
       "0  tahallul  tahalul\n",
       "1     towaf   thawaf\n",
       "2     tawaf   thawaf\n",
       "3    thowaf   thawaf\n",
       "4        yg     yang"
      ]
     },
     "execution_count": 62,
     "metadata": {},
     "output_type": "execute_result"
    }
   ],
   "source": [
    "normalizad_word"
   ]
  },
  {
   "cell_type": "code",
   "execution_count": 91,
   "id": "ab7dcb20-0f5e-45b7-b3cf-c485ecb5a021",
   "metadata": {},
   "outputs": [
    {
     "data": {
      "text/html": [
       "<div>\n",
       "<style scoped>\n",
       "    .dataframe tbody tr th:only-of-type {\n",
       "        vertical-align: middle;\n",
       "    }\n",
       "\n",
       "    .dataframe tbody tr th {\n",
       "        vertical-align: top;\n",
       "    }\n",
       "\n",
       "    .dataframe thead th {\n",
       "        text-align: right;\n",
       "    }\n",
       "</style>\n",
       "<table border=\"1\" class=\"dataframe\">\n",
       "  <thead>\n",
       "    <tr style=\"text-align: right;\">\n",
       "      <th></th>\n",
       "      <th>labels</th>\n",
       "      <th>questions</th>\n",
       "      <th>answers</th>\n",
       "    </tr>\n",
       "  </thead>\n",
       "  <tbody>\n",
       "    <tr>\n",
       "      <th>0</th>\n",
       "      <td>haji</td>\n",
       "      <td>@Apakah yang dimaksud ibadah ha'ji? tan'im yg ...</td>\n",
       "      <td>Ibadah haji ialah berkunjung ke Baitullah (Ka’...</td>\n",
       "    </tr>\n",
       "    <tr>\n",
       "      <th>1</th>\n",
       "      <td>haji</td>\n",
       "      <td>apa itu thowaf?</td>\n",
       "      <td>Ibadah haji ialah berkunjung ke Baitullah (Ka’...</td>\n",
       "    </tr>\n",
       "  </tbody>\n",
       "</table>\n",
       "</div>"
      ],
      "text/plain": [
       "  labels                                          questions  \\\n",
       "0   haji  @Apakah yang dimaksud ibadah ha'ji? tan'im yg ...   \n",
       "1   haji                                    apa itu thowaf?   \n",
       "\n",
       "                                             answers  \n",
       "0  Ibadah haji ialah berkunjung ke Baitullah (Ka’...  \n",
       "1  Ibadah haji ialah berkunjung ke Baitullah (Ka’...  "
      ]
     },
     "execution_count": 91,
     "metadata": {},
     "output_type": "execute_result"
    }
   ],
   "source": [
    "# load data using Python JSON module\n",
    "with open('dataset/haji_dataset.json','r') as f:\n",
    "    data = json.loads(f.read())\n",
    "    \n",
    "# Normalizing data\n",
    "df = pd.json_normalize(data, record_path =['items'])\n",
    "df.head()"
   ]
  },
  {
   "cell_type": "code",
   "execution_count": 82,
   "id": "41463409-0dad-4b9a-8051-0fb5e6787da3",
   "metadata": {},
   "outputs": [],
   "source": [
    "from nltk.tokenize import word_tokenize "
   ]
  },
  {
   "cell_type": "code",
   "execution_count": 96,
   "id": "8fda59ad-b0ca-4cd9-953d-24d3238ea90a",
   "metadata": {},
   "outputs": [
    {
     "data": {
      "text/plain": [
       "0    [@, Apakah, yang, dimaksud, ibadah, ha'ji, ?, ...\n",
       "1                                [apa, itu, thowaf, ?]\n",
       "Name: tokenize, dtype: object"
      ]
     },
     "execution_count": 96,
     "metadata": {},
     "output_type": "execute_result"
    }
   ],
   "source": [
    "# Lakukan tokenizer terlebih dahulu\n",
    "def word_tokenize_wrapper(text):\n",
    "    return word_tokenize(text)\n",
    "\n",
    "df['tokenize'] = df['questions'].apply(word_tokenize_wrapper)\n",
    "\n",
    "df['tokenize']"
   ]
  },
  {
   "cell_type": "code",
   "execution_count": 94,
   "id": "3b2d6dbf-a886-491a-ac8b-f920bab1f283",
   "metadata": {},
   "outputs": [
    {
     "data": {
      "text/plain": [
       "0    [@, Apakah, yang, dimaksud, ibadah, ha'ji, ?, ...\n",
       "1                                [apa, itu, thawaf, ?]\n",
       "Name: normalized, dtype: object"
      ]
     },
     "execution_count": 94,
     "metadata": {},
     "output_type": "execute_result"
    }
   ],
   "source": [
    "normalizad_word_dict = {}\n",
    "\n",
    "for index, row in normalizad_word.iterrows():\n",
    "    if row[0] not in normalizad_word_dict:\n",
    "        normalizad_word_dict[row[0]] = row[1] \n",
    "\n",
    "def normalized_term(document):\n",
    "    return [normalizad_word_dict[term] if term in normalizad_word_dict else term for term in document]\n",
    "\n",
    "\n",
    "df['normalized'] = df['tokenize'].apply(normalized_term)\n",
    "# berubah thowaf menjadi thawaf\n",
    "df['normalized']"
   ]
  },
  {
   "cell_type": "code",
   "execution_count": 102,
   "id": "90dea327-3dce-4c7a-96c4-20d36021daaa",
   "metadata": {},
   "outputs": [],
   "source": [
    "# detokenize\n",
    "from nltk.tokenize.treebank import TreebankWordDetokenizer"
   ]
  },
  {
   "cell_type": "code",
   "execution_count": 104,
   "id": "560b8b9c-3b52-40d1-a89e-c5ca0e158ca2",
   "metadata": {},
   "outputs": [
    {
     "data": {
      "text/plain": [
       "\"@ Apakah yang dimaksud ibadah ha'ji? tan'im yang ji'ronah\""
      ]
     },
     "execution_count": 104,
     "metadata": {},
     "output_type": "execute_result"
    }
   ],
   "source": [
    "TreebankWordDetokenizer().detokenize(df['normalized'][0])"
   ]
  },
  {
   "cell_type": "code",
   "execution_count": 110,
   "id": "5a5996ba-dfc0-4a1c-afca-e5b0acd95608",
   "metadata": {},
   "outputs": [
    {
     "data": {
      "text/plain": [
       "['Andi',\n",
       " 'kerap',\n",
       " 'melakukan',\n",
       " 'thowaf',\n",
       " 'transaksi',\n",
       " 'rutin',\n",
       " 'secara',\n",
       " 'daring',\n",
       " 'atau',\n",
       " 'yg',\n",
       " 'online',\n",
       " '.']"
      ]
     },
     "execution_count": 110,
     "metadata": {},
     "output_type": "execute_result"
    }
   ],
   "source": [
    "# menormalisasi hanya 1 kalimat saja\n",
    "tokens"
   ]
  },
  {
   "cell_type": "code",
   "execution_count": 122,
   "id": "91788bf0-a77f-4644-9fa6-a989d66bf2bd",
   "metadata": {},
   "outputs": [
    {
     "name": "stdout",
     "output_type": "stream",
     "text": [
      "thawaf\n",
      "yang\n"
     ]
    }
   ],
   "source": [
    "\n",
    "for idx, items in enumerate(tokens):\n",
    "    for j in range(len(normalizad_word.before)):\n",
    "        if items == normalizad_word.before[j]:\n",
    "            tokens[idx] = normalizad_word.after[j]\n",
    "            print(tokens[idx])\n"
   ]
  },
  {
   "cell_type": "code",
   "execution_count": 124,
   "id": "bebc0192-ddcc-4e43-96da-de723d4448dc",
   "metadata": {},
   "outputs": [
    {
     "data": {
      "text/plain": [
       "['Andi',\n",
       " 'kerap',\n",
       " 'melakukan',\n",
       " 'thawaf',\n",
       " 'transaksi',\n",
       " 'rutin',\n",
       " 'secara',\n",
       " 'daring',\n",
       " 'atau',\n",
       " 'yang',\n",
       " 'online',\n",
       " '.']"
      ]
     },
     "execution_count": 124,
     "metadata": {},
     "output_type": "execute_result"
    }
   ],
   "source": [
    "tokens"
   ]
  },
  {
   "cell_type": "code",
   "execution_count": null,
   "id": "cf87f23a-dc22-4e31-8524-f718a953f023",
   "metadata": {},
   "outputs": [],
   "source": []
  }
 ],
 "metadata": {
  "kernelspec": {
   "display_name": "Python 3",
   "language": "python",
   "name": "python3"
  },
  "language_info": {
   "codemirror_mode": {
    "name": "ipython",
    "version": 3
   },
   "file_extension": ".py",
   "mimetype": "text/x-python",
   "name": "python",
   "nbconvert_exporter": "python",
   "pygments_lexer": "ipython3",
   "version": "3.8.8"
  }
 },
 "nbformat": 4,
 "nbformat_minor": 5
}
