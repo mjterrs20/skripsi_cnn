{
 "cells": [
  {
   "cell_type": "code",
   "execution_count": null,
   "id": "4c982386-2274-4b29-9053-cd64e966f338",
   "metadata": {},
   "outputs": [],
   "source": [
    "import re\n",
    "import string"
   ]
  },
  {
   "cell_type": "code",
   "execution_count": null,
   "id": "d9cc6dca-2ff7-461d-9913-9c2b264ee3c5",
   "metadata": {},
   "outputs": [],
   "source": [
    "# CASE FOLDING : LOWER CASE\n",
    "# Merubah format teks menjadi format huruf kecil semua (lowercase).\n",
    "\n",
    "kalimat = \"Berikut ini adalah 5 negara dengan pendidikan terbaik di dunia adalah Korea Selatan, Jepang, Singapura, Hong Kong, dan Finlandia.\"\n",
    "lower_case = kalimat.lower()\n",
    "print(lower_case)"
   ]
  },
  {
   "cell_type": "code",
   "execution_count": null,
   "id": "d58efc31-0c5e-4940-b49d-532208561b14",
   "metadata": {},
   "outputs": [],
   "source": [
    "# CASE FOLDING : REMOVING NUMBER\n",
    "# Menghapus karakter angka.\n",
    "\n",
    "kalimat = \"Berikut ini adalah 5 negara dengan pendidikan terbaik di dunia adalah Korea Selatan, Jepang, Singapura, Hong Kong, dan Finlandia.\"\n",
    "hasil = re.sub(r\"\\d+\", \"\", kalimat)\n",
    "print(hasil)"
   ]
  },
  {
   "cell_type": "code",
   "execution_count": null,
   "id": "0c90275e-ab8a-4a29-a914-7ca560dd186b",
   "metadata": {},
   "outputs": [],
   "source": [
    "import string\n",
    "\n",
    "# Thanks to Martijn Pieters for this improved version\n",
    "\n",
    "# This uses the 3-argument version of str.maketrans\n",
    "# with arguments (x, y, z) where 'x' and 'y'\n",
    "# must be equal-length strings and characters in 'x'\n",
    "# are replaced by characters in 'y'. 'z'\n",
    "# is a string (string.punctuation here)\n",
    "# where each character in the string is mapped\n",
    "# to None\n",
    "x = '!\"#$%&()*+,./:;<=>?@[\\]^_`{|}~\\''\n",
    "translator = str.maketrans('', '', x)\n",
    "\n",
    "# This is an alternative that creates a dictionary mapping\n",
    "# of every character from string.punctuation to None (this will\n",
    "# also work)\n",
    "#translator = str.maketrans(dict.fromkeys(string.punctuation))\n",
    "\n",
    "s = \"string with \\\"punctuation\\\" inside of it! Doe's th-is work? I hope so.\"\n",
    "\n",
    "# pass the translator to the string's translate method.\n",
    "print(s.translate(translator))"
   ]
  },
  {
   "cell_type": "code",
   "execution_count": null,
   "id": "a58775db-09a4-4bfa-9c73-fe56552a562b",
   "metadata": {},
   "outputs": [],
   "source": [
    "value = \"\\\"ROM\\\"\"\n",
    "value"
   ]
  },
  {
   "cell_type": "code",
   "execution_count": null,
   "id": "7f29bb8a-1212-47db-add0-6db33fa7e629",
   "metadata": {},
   "outputs": [],
   "source": [
    "# CASE FOLDING : REMOVING PUNCTUATION\n",
    "# Menghapus tanda baca.\n",
    "\n",
    "kalimat = \"sa'i\"\n",
    "hasil = kalimat.translate(str.maketrans(\"\",\"\",string.punctuation))\n",
    "print(hasil)"
   ]
  },
  {
   "cell_type": "code",
   "execution_count": null,
   "id": "0b77a5af-9ab1-4f37-af84-6750dca35c75",
   "metadata": {},
   "outputs": [],
   "source": [
    "# CASE FOLDING : REMOVING WHITESPACE\n",
    "# Menghapus karakter kosong.\n",
    "\n",
    "kalimat = \" \\t ini kalimat contoh haji\"\n",
    "hasil = kalimat.strip()\n",
    "print(hasil)"
   ]
  },
  {
   "cell_type": "code",
   "execution_count": null,
   "id": "22d6ce4e-b035-4cce-aa59-b86a43ad0fad",
   "metadata": {},
   "outputs": [],
   "source": [
    "kalimat = \"rumah idaman adalah rumah yang bersih\"\n",
    "pisah = kalimat.split()\n",
    "print(pisah)"
   ]
  },
  {
   "cell_type": "code",
   "execution_count": null,
   "id": "47264141-2590-4d54-b522-07844f07c2e4",
   "metadata": {},
   "outputs": [],
   "source": [
    "pip install Sastrawi"
   ]
  },
  {
   "cell_type": "code",
   "execution_count": null,
   "id": "4ed69965-8bfb-4c60-9971-43cd9ed183c1",
   "metadata": {},
   "outputs": [],
   "source": [
    "from Sastrawi.StopWordRemover.StopWordRemoverFactory import StopWordRemoverFactory\n",
    "from Sastrawi.Stemmer.StemmerFactory import StemmerFactory"
   ]
  },
  {
   "cell_type": "code",
   "execution_count": null,
   "id": "c75f338b-46d5-4dee-ac4d-77b19a3087a1",
   "metadata": {},
   "outputs": [],
   "source": [
    "# LIST STOPWORD SASTRAWI\n",
    "\n",
    "factory = StopWordRemoverFactory()\n",
    "stopwords = factory.get_stop_words()\n",
    "print(stopwords)"
   ]
  },
  {
   "cell_type": "code",
   "execution_count": null,
   "id": "a07ffe9b-31dc-41e3-8973-1ca93ebfef32",
   "metadata": {},
   "outputs": [],
   "source": [
    "# Stemming Bahasa Indonesia using Sastrawi\n",
    "factory = StemmerFactory()\n",
    "stemmer = factory.create_stemmer()"
   ]
  },
  {
   "cell_type": "code",
   "execution_count": null,
   "id": "e3a0d66d-f970-4608-8878-b43977846d87",
   "metadata": {},
   "outputs": [],
   "source": [
    "kalimat = \"apa yang dimaksud miqat\"\n",
    "\n",
    "hasil = stemmer.stem(kalimat)\n",
    "print(hasil)"
   ]
  },
  {
   "cell_type": "code",
   "execution_count": null,
   "id": "8a9e4419-0a57-46e8-a63c-87513495001a",
   "metadata": {},
   "outputs": [],
   "source": [
    "print(stemmer.stem('Adakah waktu tertentu yang menjadi waktu terbaik untuk melaksanakan umrah? apa yg dimaksud dengan'))"
   ]
  },
  {
   "cell_type": "code",
   "execution_count": null,
   "id": "51bf3525-b9d5-4f55-bd2b-95f2299638af",
   "metadata": {},
   "outputs": [],
   "source": [
    "pip install nltk"
   ]
  },
  {
   "cell_type": "code",
   "execution_count": null,
   "id": "5a20d13f-5fa5-45a2-92c3-dbf06569475f",
   "metadata": {},
   "outputs": [],
   "source": [
    "# TOKENIZING\n",
    "import nltk\n",
    "from nltk.tokenize import word_tokenize "
   ]
  },
  {
   "cell_type": "code",
   "execution_count": null,
   "id": "9f20da20-2c69-43a9-aab4-1d033021d07e",
   "metadata": {},
   "outputs": [],
   "source": [
    "kalimat = \"Andi kerap melakukan thowaf transaksi rutin secara daring atau yg online.\"\n",
    "\n",
    "tokens = nltk.tokenize.word_tokenize(kalimat)\n",
    "print(tokens)"
   ]
  },
  {
   "cell_type": "code",
   "execution_count": null,
   "id": "3d4031ff-0e17-40bd-a21e-995d199a2614",
   "metadata": {},
   "outputs": [],
   "source": [
    "import pandas as pd\n",
    "import json"
   ]
  },
  {
   "cell_type": "code",
   "execution_count": null,
   "id": "0dee5d16-a5ac-4454-bcb0-98f54e325a38",
   "metadata": {},
   "outputs": [],
   "source": [
    "# NORMALIZATION\n",
    "# untuk menormalisasi dan menyamakan beberapa kata\n",
    "with open('normalisasi.json','r') as f:\n",
    "    data = json.loads(f.read())\n",
    "    \n",
    "# Normalizing data\n",
    "normalizad_word = pd.json_normalize(data, record_path =['items'])"
   ]
  },
  {
   "cell_type": "code",
   "execution_count": null,
   "id": "5a67d0f6-2159-4c70-8e0a-42b20ad73771",
   "metadata": {},
   "outputs": [],
   "source": [
    "normalizad_word"
   ]
  },
  {
   "cell_type": "code",
   "execution_count": null,
   "id": "ab7dcb20-0f5e-45b7-b3cf-c485ecb5a021",
   "metadata": {},
   "outputs": [],
   "source": [
    "# load data using Python JSON module\n",
    "with open('dataset/haji_dataset.json','r') as f:\n",
    "    data = json.loads(f.read())\n",
    "    \n",
    "# Normalizing data\n",
    "df = pd.json_normalize(data, record_path =['items'])\n",
    "df.head()"
   ]
  },
  {
   "cell_type": "code",
   "execution_count": null,
   "id": "41463409-0dad-4b9a-8051-0fb5e6787da3",
   "metadata": {},
   "outputs": [],
   "source": [
    "from nltk.tokenize import word_tokenize "
   ]
  },
  {
   "cell_type": "code",
   "execution_count": null,
   "id": "8fda59ad-b0ca-4cd9-953d-24d3238ea90a",
   "metadata": {},
   "outputs": [],
   "source": [
    "# Lakukan tokenizer terlebih dahulu\n",
    "def word_tokenize_wrapper(text):\n",
    "    return word_tokenize(text)\n",
    "\n",
    "df['tokenize'] = df['questions'].apply(word_tokenize_wrapper)\n",
    "\n",
    "df['tokenize']"
   ]
  },
  {
   "cell_type": "code",
   "execution_count": null,
   "id": "3b2d6dbf-a886-491a-ac8b-f920bab1f283",
   "metadata": {},
   "outputs": [],
   "source": [
    "normalizad_word_dict = {}\n",
    "\n",
    "for index, row in normalizad_word.iterrows():\n",
    "    if row[0] not in normalizad_word_dict:\n",
    "        normalizad_word_dict[row[0]] = row[1] \n",
    "\n",
    "def normalized_term(document):\n",
    "    return [normalizad_word_dict[term] if term in normalizad_word_dict else term for term in document]\n",
    "\n",
    "\n",
    "df['normalized'] = df['tokenize'].apply(normalized_term)\n",
    "# berubah thowaf menjadi thawaf\n",
    "df['normalized']"
   ]
  },
  {
   "cell_type": "code",
   "execution_count": null,
   "id": "90dea327-3dce-4c7a-96c4-20d36021daaa",
   "metadata": {},
   "outputs": [],
   "source": [
    "# detokenize\n",
    "from nltk.tokenize.treebank import TreebankWordDetokenizer"
   ]
  },
  {
   "cell_type": "code",
   "execution_count": null,
   "id": "560b8b9c-3b52-40d1-a89e-c5ca0e158ca2",
   "metadata": {},
   "outputs": [],
   "source": [
    "TreebankWordDetokenizer().detokenize(df['normalized'][0])"
   ]
  },
  {
   "cell_type": "code",
   "execution_count": null,
   "id": "5a5996ba-dfc0-4a1c-afca-e5b0acd95608",
   "metadata": {},
   "outputs": [],
   "source": [
    "# menormalisasi hanya 1 kalimat saja\n",
    "tokens"
   ]
  },
  {
   "cell_type": "code",
   "execution_count": null,
   "id": "91788bf0-a77f-4644-9fa6-a989d66bf2bd",
   "metadata": {},
   "outputs": [],
   "source": [
    "\n",
    "for idx, items in enumerate(tokens):\n",
    "    for j in range(len(normalizad_word.before)):\n",
    "        if items == normalizad_word.before[j]:\n",
    "            tokens[idx] = normalizad_word.after[j]\n",
    "            print(tokens[idx])\n"
   ]
  },
  {
   "cell_type": "code",
   "execution_count": null,
   "id": "bebc0192-ddcc-4e43-96da-de723d4448dc",
   "metadata": {},
   "outputs": [],
   "source": [
    "tokens"
   ]
  },
  {
   "cell_type": "code",
   "execution_count": null,
   "id": "b09ffa2e-5cd3-4687-92de-fcf97bc12820",
   "metadata": {},
   "outputs": [],
   "source": [
    "list_A = ['haji', 'manasik']\n",
    "list_B = ['haji', 'umrah', 'mabrur']"
   ]
  },
  {
   "cell_type": "code",
   "execution_count": null,
   "id": "cf87f23a-dc22-4e31-8524-f718a953f023",
   "metadata": {},
   "outputs": [],
   "source": [
    "# Mencoba Cosine Similarity\n",
    "from collections import Counter\n",
    "import math\n",
    "\n",
    "\n",
    "counterA = Counter(list_A)\n",
    "counterB = Counter(list_B)\n",
    "\n",
    "\n",
    "def counter_cosine_similarity(c1, c2):\n",
    "    terms = set(c1).union(c2)\n",
    "    dotprod = sum(c1.get(k, 0) * c2.get(k, 0) for k in terms)\n",
    "    magA = math.sqrt(sum(c1.get(k, 0)**2 for k in terms))\n",
    "    magB = math.sqrt(sum(c2.get(k, 0)**2 for k in terms))\n",
    "    return dotprod / (magA * magB)\n",
    "\n",
    "print(counter_cosine_similarity(counterA, counterB) * 100)"
   ]
  },
  {
   "cell_type": "code",
   "execution_count": null,
   "id": "4aedb1ce-d29f-467c-8c96-9439ccc6d436",
   "metadata": {},
   "outputs": [],
   "source": [
    "counterA"
   ]
  },
  {
   "cell_type": "code",
   "execution_count": null,
   "id": "54e5beaf-6a1e-4d2a-ab28-5b01b67af027",
   "metadata": {},
   "outputs": [],
   "source": [
    "terms = set(counterA).union(counterB)\n",
    "terms"
   ]
  },
  {
   "cell_type": "code",
   "execution_count": null,
   "id": "533f95ed-adbc-48ec-bbf1-0cab46741a4a",
   "metadata": {},
   "outputs": [],
   "source": [
    "dotprod = sum(counterA.get(k, 0) * counterB.get(k, 0) for k in terms)\n",
    "dotprod"
   ]
  },
  {
   "cell_type": "code",
   "execution_count": null,
   "id": "a6959efa-c1dc-4a4c-b9c0-4175b57d3946",
   "metadata": {},
   "outputs": [],
   "source": [
    "magA = math.sqrt(sum(counterA.get(k, 0)**2 for k in terms))\n",
    "magA"
   ]
  },
  {
   "cell_type": "code",
   "execution_count": null,
   "id": "0ac80724-e48f-4d64-b4d0-a9d43394929e",
   "metadata": {},
   "outputs": [],
   "source": [
    "magB = math.sqrt(sum(counterB.get(k, 0)**2 for k in terms))\n",
    "magB"
   ]
  },
  {
   "cell_type": "code",
   "execution_count": null,
   "id": "ae155200-2214-4a97-becc-847a738af4e7",
   "metadata": {},
   "outputs": [],
   "source": [
    "magA * magB\n"
   ]
  },
  {
   "cell_type": "code",
   "execution_count": 1,
   "id": "5557368d-f7f2-4e09-a66f-4294d45de108",
   "metadata": {},
   "outputs": [],
   "source": [
    "# test Cosine similarity\n",
    "\n",
    "import math\n",
    "import re\n",
    "from collections import Counter\n",
    "\n",
    "WORD = re.compile(r\"\\w+\")\n",
    "\n",
    "\n",
    "def get_cosine(vec1, vec2):\n",
    "    intersection = set(vec1.keys()) & set(vec2.keys())\n",
    "    numerator = sum([vec1[x] * vec2[x] for x in intersection])\n",
    "\n",
    "    sum1 = sum([vec1[x] ** 2 for x in list(vec1.keys())])\n",
    "    sum2 = sum([vec2[x] ** 2 for x in list(vec2.keys())])\n",
    "    denominator = math.sqrt(sum1) * math.sqrt(sum2)\n",
    "\n",
    "    if not denominator:\n",
    "        return 0.0\n",
    "    else:\n",
    "        return float(numerator) / denominator\n",
    "\n",
    "\n",
    "def text_to_vector(text):\n",
    "    words = WORD.findall(text)\n",
    "    return Counter(words)\n",
    "\n"
   ]
  },
  {
   "cell_type": "code",
   "execution_count": 8,
   "id": "bc39caae-86b8-4b52-857c-bb0026ee7d20",
   "metadata": {},
   "outputs": [
    {
     "name": "stdout",
     "output_type": "stream",
     "text": [
      "Cosine: 0.769800358919501\n"
     ]
    }
   ],
   "source": [
    "text1 = \"bagaimana jika ragu ragu dalam hitungan sai\"\n",
    "text2 = \"ragu hitungan sai\"\n",
    "\n",
    "vector1 = text_to_vector(text1)\n",
    "vector2 = text_to_vector(text2)\n",
    "\n",
    "cosine = get_cosine(vector1, vector2)\n",
    "\n",
    "print(\"Cosine:\", cosine)"
   ]
  },
  {
   "cell_type": "code",
   "execution_count": 9,
   "id": "9950ff3f-26b1-4f90-a4ca-30bc43a0e106",
   "metadata": {},
   "outputs": [],
   "source": [
    "import difflib"
   ]
  },
  {
   "cell_type": "code",
   "execution_count": 14,
   "id": "21e049b9-c49d-40ea-9a01-95f1a8849da3",
   "metadata": {},
   "outputs": [
    {
     "name": "stdout",
     "output_type": "stream",
     "text": [
      "61.53846153846154\n"
     ]
    }
   ],
   "source": [
    "a='ragu haji'\n",
    "b='haji'\n",
    "seq=difflib.SequenceMatcher(None, a,b)\n",
    "d=seq.ratio()*100\n",
    "print(d)"
   ]
  },
  {
   "cell_type": "code",
   "execution_count": null,
   "id": "53c43e96-b317-45dd-88a7-97ef2151c91c",
   "metadata": {},
   "outputs": [],
   "source": []
  }
 ],
 "metadata": {
  "kernelspec": {
   "display_name": "Python 3",
   "language": "python",
   "name": "python3"
  },
  "language_info": {
   "codemirror_mode": {
    "name": "ipython",
    "version": 3
   },
   "file_extension": ".py",
   "mimetype": "text/x-python",
   "name": "python",
   "nbconvert_exporter": "python",
   "pygments_lexer": "ipython3",
   "version": "3.8.8"
  }
 },
 "nbformat": 4,
 "nbformat_minor": 5
}
