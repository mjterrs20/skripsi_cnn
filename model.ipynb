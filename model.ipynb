{
 "cells": [
  {
   "cell_type": "code",
   "execution_count": 1,
   "metadata": {},
   "outputs": [],
   "source": [
    "import numpy as np \n",
    "import pandas as pd\n",
    "import matplotlib.pyplot as plt\n",
    "%matplotlib inline"
   ]
  },
  {
   "cell_type": "code",
   "execution_count": 2,
   "metadata": {},
   "outputs": [],
   "source": [
    "import os\n",
    "import keras\n",
    "import keras.utils\n",
    "\n",
    "from sklearn import preprocessing\n",
    "from keras.preprocessing.sequence import pad_sequences\n",
    "from keras.models import Sequential\n",
    "from keras.layers import Dense, Dropout, Activation\n",
    "from keras.layers import Embedding\n",
    "from keras.layers import Conv1D, GlobalMaxPooling1D, MaxPooling1D, Flatten\n",
    "from keras.preprocessing.text import Tokenizer\n",
    "from keras.preprocessing import sequence\n",
    "from sklearn.preprocessing import LabelEncoder\n",
    "from keras.utils.np_utils import to_categorical\n",
    "from sklearn.model_selection import train_test_split\n",
    "# from keras.callbacks import ModelCheckpoint, EarlyStopping\n",
    "\n",
    "import time\n",
    "from keras import metrics"
   ]
  },
  {
   "cell_type": "code",
   "execution_count": 18,
   "metadata": {},
   "outputs": [],
   "source": [
    "MAX_SEQUENCES_LENGTH = 50 # Maximum kata pada kalimat 40 biasanya\n",
    "MAX_NB_WORDS = 1000 # Vocabulary size\n",
    "EMBEDDING_DIM = 50 # Dimensions of Glove word vector kadang bisa juga 100"
   ]
  },
  {
   "cell_type": "code",
   "execution_count": 19,
   "metadata": {
    "scrolled": true
   },
   "outputs": [],
   "source": [
    "import json\n",
    "# load data using Python JSON module\n",
    "with open('dataset/haji_dataset_final_banget.json','r') as f:\n",
    "    data = json.loads(f.read())\n",
    "    \n",
    "# Normalizing data\n",
    "df = pd.json_normalize(data, record_path =['items'])"
   ]
  },
  {
   "cell_type": "code",
   "execution_count": 20,
   "metadata": {},
   "outputs": [
    {
     "data": {
      "text/html": [
       "<div>\n",
       "<style scoped>\n",
       "    .dataframe tbody tr th:only-of-type {\n",
       "        vertical-align: middle;\n",
       "    }\n",
       "\n",
       "    .dataframe tbody tr th {\n",
       "        vertical-align: top;\n",
       "    }\n",
       "\n",
       "    .dataframe thead th {\n",
       "        text-align: right;\n",
       "    }\n",
       "</style>\n",
       "<table border=\"1\" class=\"dataframe\">\n",
       "  <thead>\n",
       "    <tr style=\"text-align: right;\">\n",
       "      <th></th>\n",
       "      <th>labels</th>\n",
       "      <th>questions</th>\n",
       "      <th>answers</th>\n",
       "    </tr>\n",
       "  </thead>\n",
       "  <tbody>\n",
       "    <tr>\n",
       "      <th>0</th>\n",
       "      <td>haji</td>\n",
       "      <td>Apa yang dimaksud ibadah haji?</td>\n",
       "      <td>Ibadah haji ialah berkunjung ke Baitullah (Ka’...</td>\n",
       "    </tr>\n",
       "    <tr>\n",
       "      <th>1</th>\n",
       "      <td>haji</td>\n",
       "      <td>Apa hukum ibadah haji dan umrah?</td>\n",
       "      <td>Hukum ibadah haji dan umrah adalah wajib bagi ...</td>\n",
       "    </tr>\n",
       "    <tr>\n",
       "      <th>2</th>\n",
       "      <td>haji</td>\n",
       "      <td>Apa setiap ibadah haji harus digabung dengan u...</td>\n",
       "      <td>Ibadah haji dan ibadah umrah merupa- kan 2 (du...</td>\n",
       "    </tr>\n",
       "    <tr>\n",
       "      <th>3</th>\n",
       "      <td>haji</td>\n",
       "      <td>Apa yang dimaksud haji tamattu?</td>\n",
       "      <td>Haji tamattu’ ialah melakukan umrah lebih dahu...</td>\n",
       "    </tr>\n",
       "    <tr>\n",
       "      <th>4</th>\n",
       "      <td>haji</td>\n",
       "      <td>Apa yang dimaksud haji ifrad?</td>\n",
       "      <td>Haji ifrad ialah melakukan haji saja. Bagi yan...</td>\n",
       "    </tr>\n",
       "  </tbody>\n",
       "</table>\n",
       "</div>"
      ],
      "text/plain": [
       "  labels                                          questions  \\\n",
       "0   haji                     Apa yang dimaksud ibadah haji?   \n",
       "1   haji                   Apa hukum ibadah haji dan umrah?   \n",
       "2   haji  Apa setiap ibadah haji harus digabung dengan u...   \n",
       "3   haji                    Apa yang dimaksud haji tamattu?   \n",
       "4   haji                      Apa yang dimaksud haji ifrad?   \n",
       "\n",
       "                                             answers  \n",
       "0  Ibadah haji ialah berkunjung ke Baitullah (Ka’...  \n",
       "1  Hukum ibadah haji dan umrah adalah wajib bagi ...  \n",
       "2  Ibadah haji dan ibadah umrah merupa- kan 2 (du...  \n",
       "3  Haji tamattu’ ialah melakukan umrah lebih dahu...  \n",
       "4  Haji ifrad ialah melakukan haji saja. Bagi yan...  "
      ]
     },
     "execution_count": 20,
     "metadata": {},
     "output_type": "execute_result"
    }
   ],
   "source": [
    "df.head()"
   ]
  },
  {
   "cell_type": "code",
   "execution_count": null,
   "metadata": {},
   "outputs": [],
   "source": [
    "# untuk puntuation hanya ' tidak usah ada penghilangan -\n",
    "# import string\n",
    "# string.punctuation\n",
    "\n",
    "# #defining the function to remove punctuation\n",
    "# def remove_punctuation(text):\n",
    "#     punctuationfree=\"\".join([i for i in text if i not in string.punctuation])\n",
    "#     return punctuationfree"
   ]
  },
  {
   "cell_type": "code",
   "execution_count": null,
   "metadata": {},
   "outputs": [],
   "source": [
    "# #storing the puntuation free text\n",
    "# df['punc']= df['questions'].apply(lambda x:remove_punctuation(x))\n",
    "# df['punc']"
   ]
  },
  {
   "cell_type": "code",
   "execution_count": 21,
   "metadata": {},
   "outputs": [],
   "source": [
    "# Preparing question to X\n",
    "questions = df.questions\n",
    "tokenizer = Tokenizer()\n",
    "tokenizer.fit_on_texts(questions)\n",
    "sequences = tokenizer.texts_to_sequences(questions)\n",
    "# Banyak kata yang telah di tokenizer\n",
    "word_index = tokenizer.word_index"
   ]
  },
  {
   "cell_type": "code",
   "execution_count": 22,
   "metadata": {},
   "outputs": [],
   "source": [
    "# memasukan hasil tokenizer ke dalam X \n",
    "X = pad_sequences(sequences, maxlen=MAX_SEQUENCES_LENGTH, padding='post')"
   ]
  },
  {
   "cell_type": "code",
   "execution_count": 23,
   "metadata": {},
   "outputs": [],
   "source": [
    "# Preparing Y\n",
    "# encode label because label alfabetic\n",
    "# menjadikan label ke kategorikal\n",
    "le = LabelEncoder()\n",
    "label = df.labels\n",
    "labelEncode = le.fit_transform(label)\n",
    "y = to_categorical(labelEncode)"
   ]
  },
  {
   "cell_type": "code",
   "execution_count": 24,
   "metadata": {},
   "outputs": [
    {
     "data": {
      "image/png": "[encoded data removed]",
      "text/plain": [
       "<Figure size 576x432 with 1 Axes>"
      ]
     },
     "metadata": {
      "needs_background": "light"
     },
     "output_type": "display_data"
    }
   ],
   "source": [
    "fig = plt.figure(figsize=(8,6))\n",
    "df.groupby('labels').questions.count().plot.bar(ylim=0)\n",
    "plt.show()"
   ]
  },
  {
   "cell_type": "code",
   "execution_count": null,
   "metadata": {},
   "outputs": [],
   "source": [
    "# df = preprocess_corpus(df, column='questions')\n",
    "# df.head()"
   ]
  },
  {
   "cell_type": "code",
   "execution_count": null,
   "metadata": {},
   "outputs": [],
   "source": [
    "# untuk melihat hasi lebel yang telah diencode\n",
    "list(le.classes_)\n",
    "# labelEncode"
   ]
  },
  {
   "cell_type": "code",
   "execution_count": null,
   "metadata": {},
   "outputs": [],
   "source": [
    "# Belajar Smote\n",
    "# from imblearn.over_sampling import SMOTE"
   ]
  },
  {
   "cell_type": "code",
   "execution_count": null,
   "metadata": {},
   "outputs": [],
   "source": [
    "# smote = SMOTE('minority')\n",
    "# X_sm, y_sm = smote.fit_sample(X_train, y_train)"
   ]
  },
  {
   "cell_type": "code",
   "execution_count": 25,
   "metadata": {},
   "outputs": [],
   "source": [
    "# bagi data menjadi 2 train dan test\n",
    "X_train, X_test, y_train, y_test = train_test_split(X, y, test_size=0.3, random_state=20, stratify=y)"
   ]
  },
  {
   "cell_type": "code",
   "execution_count": null,
   "metadata": {},
   "outputs": [],
   "source": [
    "\n",
    "# print(\"Before OverSampling, counts of label '0': {} \\n\".format(X.shape))\n",
    "# print(\"Before OverSampling, counts of label '0': {} \\n\".format(y.shape))\n"
   ]
  },
  {
   "cell_type": "code",
   "execution_count": null,
   "metadata": {},
   "outputs": [],
   "source": [
    "# checkpoint_path = 'data-target-model-wtl.h5'\n",
    "# early_stopper = EarlyStopping(monitor='val_accuracy', patience=5, verbose=0, mode='auto')\n",
    "# checkpointer = ModelCheckpoint(filepath=checkpoint_path, verbose=0, save_best_only=True)\n",
    "\n",
    "# tinggal memnambahkan callback pada model fit\n",
    "# untuk menyimpan model terbaik juga"
   ]
  },
  {
   "cell_type": "code",
   "execution_count": 26,
   "metadata": {},
   "outputs": [],
   "source": [
    "# create model CNN\n",
    "def build_cnn_model():\n",
    "    model = Sequential()\n",
    "    \n",
    "    model.add(Embedding(len(word_index) + 1, EMBEDDING_DIM, input_length=MAX_SEQUENCES_LENGTH))\n",
    "\n",
    "    model.add(Conv1D(128, 3, padding='same', activation='relu'))\n",
    "    # bisa menggunakan 128 atau 65\n",
    "#     model.add(MaxPooling1D(2))\n",
    "\n",
    "    model.add(GlobalMaxPooling1D())\n",
    "#     model.add(Dropout(0.25))\n",
    "    model.add(Flatten())\n",
    "    \n",
    "#     model.add(Dense(units=250,activation=\"relu\"))  \n",
    "    model.add(Dense(15, activation='softmax'))\n",
    "    \n",
    "    model.compile(optimizer=\"adam\",metrics=[\"accuracy\"],loss=\"categorical_crossentropy\")\n",
    "\n",
    "    model.summary()\n",
    "    return model"
   ]
  },
  {
   "cell_type": "code",
   "execution_count": 27,
   "metadata": {},
   "outputs": [
    {
     "name": "stdout",
     "output_type": "stream",
     "text": [
      "Model: \"sequential_2\"\n",
      "_________________________________________________________________\n",
      "Layer (type)                 Output Shape              Param #   \n",
      "=================================================================\n",
      "embedding_2 (Embedding)      (None, 50, 100)           41300     \n",
      "_________________________________________________________________\n",
      "conv1d_2 (Conv1D)            (None, 50, 128)           38528     \n",
      "_________________________________________________________________\n",
      "global_max_pooling1d_2 (Glob (None, 128)               0         \n",
      "_________________________________________________________________\n",
      "flatten_2 (Flatten)          (None, 128)               0         \n",
      "_________________________________________________________________\n",
      "dense_2 (Dense)              (None, 15)                1935      \n",
      "=================================================================\n",
      "Total params: 81,763\n",
      "Trainable params: 81,763\n",
      "Non-trainable params: 0\n",
      "_________________________________________________________________\n",
      "Epoch 1/30\n",
      "5/5 [==============================] - 1s 65ms/step - loss: 2.6940 - accuracy: 0.0889 - val_loss: 2.6630 - val_accuracy: 0.1884\n",
      "Epoch 2/30\n",
      "5/5 [==============================] - 0s 9ms/step - loss: 2.6232 - accuracy: 0.2875 - val_loss: 2.6218 - val_accuracy: 0.1884\n",
      "Epoch 3/30\n",
      "5/5 [==============================] - 0s 9ms/step - loss: 2.5405 - accuracy: 0.3093 - val_loss: 2.5781 - val_accuracy: 0.2174\n",
      "Epoch 4/30\n",
      "5/5 [==============================] - 0s 9ms/step - loss: 2.4975 - accuracy: 0.2656 - val_loss: 2.5361 - val_accuracy: 0.2464\n",
      "Epoch 5/30\n",
      "5/5 [==============================] - 0s 9ms/step - loss: 2.4261 - accuracy: 0.3152 - val_loss: 2.4900 - val_accuracy: 0.3043\n",
      "Epoch 6/30\n",
      "5/5 [==============================] - 0s 9ms/step - loss: 2.3281 - accuracy: 0.3955 - val_loss: 2.4405 - val_accuracy: 0.3188\n",
      "Epoch 7/30\n",
      "5/5 [==============================] - 0s 9ms/step - loss: 2.2601 - accuracy: 0.4275 - val_loss: 2.3893 - val_accuracy: 0.3478\n",
      "Epoch 8/30\n",
      "5/5 [==============================] - 0s 9ms/step - loss: 2.1361 - accuracy: 0.4611 - val_loss: 2.3319 - val_accuracy: 0.4058\n",
      "Epoch 9/30\n",
      "5/5 [==============================] - 0s 9ms/step - loss: 2.0748 - accuracy: 0.4769 - val_loss: 2.2685 - val_accuracy: 0.4203\n",
      "Epoch 10/30\n",
      "5/5 [==============================] - 0s 10ms/step - loss: 1.9804 - accuracy: 0.4746 - val_loss: 2.1972 - val_accuracy: 0.4203\n",
      "Epoch 11/30\n",
      "5/5 [==============================] - 0s 9ms/step - loss: 1.8815 - accuracy: 0.5400 - val_loss: 2.1148 - val_accuracy: 0.4493\n",
      "Epoch 12/30\n",
      "5/5 [==============================] - 0s 9ms/step - loss: 1.7701 - accuracy: 0.6102 - val_loss: 2.0233 - val_accuracy: 0.4638\n",
      "Epoch 13/30\n",
      "5/5 [==============================] - 0s 9ms/step - loss: 1.6114 - accuracy: 0.6518 - val_loss: 1.9215 - val_accuracy: 0.5072\n",
      "Epoch 14/30\n",
      "5/5 [==============================] - 0s 9ms/step - loss: 1.5085 - accuracy: 0.7266 - val_loss: 1.8130 - val_accuracy: 0.5362\n",
      "Epoch 15/30\n",
      "5/5 [==============================] - 0s 9ms/step - loss: 1.3793 - accuracy: 0.7607 - val_loss: 1.7037 - val_accuracy: 0.5797\n",
      "Epoch 16/30\n",
      "5/5 [==============================] - 0s 9ms/step - loss: 1.2315 - accuracy: 0.7898 - val_loss: 1.5962 - val_accuracy: 0.6232\n",
      "Epoch 17/30\n",
      "5/5 [==============================] - 0s 9ms/step - loss: 1.0549 - accuracy: 0.8103 - val_loss: 1.4953 - val_accuracy: 0.6522\n",
      "Epoch 18/30\n",
      "5/5 [==============================] - 0s 9ms/step - loss: 0.9573 - accuracy: 0.8242 - val_loss: 1.4060 - val_accuracy: 0.6812\n",
      "Epoch 19/30\n",
      "5/5 [==============================] - 0s 10ms/step - loss: 0.8665 - accuracy: 0.8753 - val_loss: 1.3200 - val_accuracy: 0.7101\n",
      "Epoch 20/30\n",
      "5/5 [==============================] - 0s 11ms/step - loss: 0.6760 - accuracy: 0.9180 - val_loss: 1.2435 - val_accuracy: 0.7101\n",
      "Epoch 21/30\n",
      "5/5 [==============================] - 0s 10ms/step - loss: 0.6305 - accuracy: 0.9275 - val_loss: 1.1719 - val_accuracy: 0.7391\n",
      "Epoch 22/30\n",
      "5/5 [==============================] - 0s 10ms/step - loss: 0.5863 - accuracy: 0.9429 - val_loss: 1.1050 - val_accuracy: 0.7391\n",
      "Epoch 23/30\n",
      "5/5 [==============================] - 0s 10ms/step - loss: 0.4479 - accuracy: 0.9698 - val_loss: 1.0423 - val_accuracy: 0.7681\n",
      "Epoch 24/30\n",
      "5/5 [==============================] - 0s 10ms/step - loss: 0.4316 - accuracy: 0.9506 - val_loss: 0.9851 - val_accuracy: 0.7826\n",
      "Epoch 25/30\n",
      "5/5 [==============================] - 0s 10ms/step - loss: 0.3166 - accuracy: 0.9834 - val_loss: 0.9316 - val_accuracy: 0.7826\n",
      "Epoch 26/30\n",
      "5/5 [==============================] - 0s 10ms/step - loss: 0.3213 - accuracy: 0.9691 - val_loss: 0.8849 - val_accuracy: 0.7826\n",
      "Epoch 27/30\n",
      "5/5 [==============================] - 0s 10ms/step - loss: 0.2430 - accuracy: 0.9838 - val_loss: 0.8410 - val_accuracy: 0.7971\n",
      "Epoch 28/30\n",
      "5/5 [==============================] - 0s 11ms/step - loss: 0.1954 - accuracy: 0.9868 - val_loss: 0.8013 - val_accuracy: 0.8406\n",
      "Epoch 29/30\n",
      "5/5 [==============================] - 0s 10ms/step - loss: 0.1632 - accuracy: 0.9949 - val_loss: 0.7665 - val_accuracy: 0.8261\n",
      "Epoch 30/30\n",
      "5/5 [==============================] - 0s 10ms/step - loss: 0.1277 - accuracy: 1.0000 - val_loss: 0.7357 - val_accuracy: 0.8261\n"
     ]
    }
   ],
   "source": [
    "# Train Model\n",
    "cnn_model = build_cnn_model()\n",
    "cnn_history = cnn_model.fit(X_train,y_train,epochs=30,validation_data=(X_test, y_test))"
   ]
  },
  {
   "cell_type": "code",
   "execution_count": null,
   "metadata": {},
   "outputs": [],
   "source": [
    "# save model cnn\n",
    "# cnn_model.save('cnn_model_test.h5')"
   ]
  },
  {
   "cell_type": "code",
   "execution_count": null,
   "metadata": {},
   "outputs": [],
   "source": [
    "# load model\n",
    "# from keras.models import load_model\n",
    "\n",
    "# new_model = load_model('cnn_model.h5')"
   ]
  },
  {
   "cell_type": "code",
   "execution_count": 28,
   "metadata": {},
   "outputs": [
    {
     "data": {
      "image/png": "[encoded data removed]",
      "text/plain": [
       "<Figure size 1296x1008 with 1 Axes>"
      ]
     },
     "metadata": {
      "needs_background": "light"
     },
     "output_type": "display_data"
    }
   ],
   "source": [
    "from sklearn.metrics import accuracy_score, confusion_matrix\n",
    "import seaborn as sns\n",
    "ypred = cnn_model.predict(X_test)\n",
    "cnn_accuracy = accuracy_score(y_test.argmax(axis=-1),ypred.argmax(axis=-1))\n",
    "#print(\"CNN Accuracy:\",cnn_accuracy)\n",
    "cnn_cn = confusion_matrix(y_test.argmax(axis=-1),ypred.argmax(axis=-1))\n",
    "plt.subplots(figsize=(18,14))\n",
    "sns.heatmap(cnn_cn,annot=True,fmt=\"1d\",cbar=False,xticklabels=le.classes_,yticklabels=le.classes_)\n",
    "plt.title(\"CNN Accuracy: {}\".format(cnn_accuracy),fontsize=50)\n",
    "plt.xlabel(\"Predicted\",fontsize=15)\n",
    "plt.ylabel(\"Actual\",fontsize=15)\n",
    "plt.show()"
   ]
  },
  {
   "cell_type": "code",
   "execution_count": 29,
   "metadata": {},
   "outputs": [
    {
     "data": {
      "image/png": "[encoded data removed]",
      "text/plain": [
       "<Figure size 1080x360 with 2 Axes>"
      ]
     },
     "metadata": {
      "needs_background": "light"
     },
     "output_type": "display_data"
    }
   ],
   "source": [
    "fig3, axe1 = plt.subplots(nrows=1, ncols=2, figsize=(15,5))\n",
    "axe1[0].plot(cnn_history.history[\"accuracy\"],label=\"accuracy\",color=\"blue\")\n",
    "axe1[1].plot(cnn_history.history[\"loss\"],label=\"loss\",color=\"red\")\n",
    "axe1[0].title.set_text(\"CNN Accuracy\")\n",
    "axe1[1].title.set_text(\"CNN Loss\")\n",
    "axe1[0].set_xlabel(\"Epoch\")\n",
    "axe1[1].set_xlabel(\"Epoch\")\n",
    "axe1[0].set_ylabel(\"Rate\")\n",
    "plt.show()"
   ]
  },
  {
   "cell_type": "code",
   "execution_count": null,
   "metadata": {},
   "outputs": [],
   "source": [
    "from rake_nltk import Rake, Metric\n",
    "from collections import Counter\n",
    "import math\n",
    "\n",
    "r = Rake(language=\"indonesian\", min_length=1, max_length=5)\n",
    "\n",
    "def counter(quest):\n",
    "    counter = Counter(quest)\n",
    "    return counter\n",
    "\n",
    "def counter_cosine_similarity(c1, c2):\n",
    "    terms = set(c1).union(c2)\n",
    "    dotprod = sum(c1.get(k, 0) * c2.get(k, 0) for k in terms)\n",
    "    magA = math.sqrt(sum(c1.get(k, 0)**2 for k in terms))\n",
    "    magB = math.sqrt(sum(c2.get(k, 0)**2 for k in terms))\n",
    "    return dotprod / (magA * magB)\n",
    "\n",
    "def cnn_predict(quest):\n",
    "    puretext = tokenizer.texts_to_sequences(quest)\n",
    "    text_pad = pad_sequences(puretext,maxlen=50,padding='post')\n",
    "    predicted = cnn_model.predict(text_pad)\n",
    "    predicted_category = predicted.argmax(axis=1)\n",
    "    return le.classes_[predicted_category]\n",
    "\n",
    "def get_df(labels):\n",
    "    dfNews = df.loc[df['labels'] == labels]\n",
    "    npQuestions = dfNews.questions.to_numpy()\n",
    "    npAnswers = dfNews.answers.to_numpy()\n",
    "    return npQuestions,npAnswers\n",
    "\n",
    "def rake_question(npQuestions, questUser):\n",
    "    tempRake = []\n",
    "    for i in range(len(npQuestions)):\n",
    "        r.extract_keywords_from_text(npQuestions[i])\n",
    "        tempRake.append(r.get_ranked_phrases())\n",
    "    r.extract_keywords_from_text(questUser[0])\n",
    "    qRake = r.get_ranked_phrases()\n",
    "    return tempRake, qRake\n",
    "    \n",
    "def counter_result(tempRake, qRake):\n",
    "    tempCounter = []\n",
    "    for i in range(len(tempRake)):\n",
    "        tempCounter.append(counter(tempRake[i]))\n",
    "    counterQuestUser = counter(qRake)\n",
    "    return tempCounter, counterQuestUser\n",
    "\n",
    "def score_cosine(tempCounter, counterQuestUser):\n",
    "    scoresCosine = []\n",
    "    for i in range(len(tempCounter)):\n",
    "        scoresCosine.append(counter_cosine_similarity(counterQuestUser, tempCounter[i]) * 100)\n",
    "    npScore = np.array(scoresCosine)\n",
    "    maxScore = np.amax(npScore)\n",
    "    indexQuest = np.argmax(npScore)apa saja sunah haji?\n",
    "    return maxScore, indexQuest"
   ]
  },
  {
   "cell_type": "code",
   "execution_count": null,
   "metadata": {},
   "outputs": [],
   "source": [
    "questUser = ['kapan kegiatan manasik umrah dilakukan?']\n",
    "\n",
    "label = cnn_predict(questUser)\n",
    "# npQuestion , npAnswer = get_df(label[0])\n",
    "# tempRake, qRake = rake_question(npQuestion, questUser)\n",
    "# tempCounter, counterQuestUser = counter_result(tempRake, qRake)\n",
    "# maxScore, indexQuest = score_cosine(tempCounter, counterQuestUser)\n",
    "\n",
    "print(\"label: \" + label[0])\n",
    "# print(\"MaxScore \" + str(maxScore))\n",
    "# print(\"prediksi question = \" + npQuestion[indexQuest])\n",
    "# print(\"prediksi Answer = \" + npAnswer[indexQuest])"
   ]
  },
  {
   "cell_type": "markdown",
   "metadata": {},
   "source": [
    "batas"
   ]
  },
  {
   "cell_type": "code",
   "execution_count": null,
   "metadata": {},
   "outputs": [],
   "source": [
    "# Mengambil data frame yg question\n",
    "dfNew = df.loc[df['labels'] == 'investasi']"
   ]
  },
  {
   "cell_type": "markdown",
   "metadata": {},
   "source": [
    "Menngunakan Rake untuk mencari jawaban"
   ]
  },
  {
   "cell_type": "code",
   "execution_count": null,
   "metadata": {},
   "outputs": [],
   "source": [
    "# algoritma MIT Licesence https://github.com/csurfer/rake-nltk\n",
    "from rake_nltk import Rake, Metric"
   ]
  },
  {
   "cell_type": "markdown",
   "metadata": {},
   "source": [
    "TO CONTROL STOPWORD\n",
    "\n",
    "    r = Rake(\n",
    "        stopwords=<list of stopwords>,\n",
    "        punctuations=<string of puntuations to ignore>\n",
    "    )\n",
    "    \n",
    "TO CONTROL METRIC FOR RANKING\n",
    "\n",
    "    # Paper uses d(w)/f(w) as the final metric. You can use this API with the\n",
    "    # following metrics:\n",
    "\n",
    "    # 1. d(w)/f(w) (Default metric) Ratio of degree of word to its frequency.\n",
    "    r = Rake(ranking_metric=Metric.DEGREE_TO_FREQUENCY_RATIO)\n",
    "\n",
    "    # 2. d(w) Degree of word only.\n",
    "    r = Rake(ranking_metric=Metric.WORD_DEGREE)\n",
    "\n",
    "    # 3. f(w) Frequency of word only.\n",
    "    r = Rake(ranking_metric=Metric.WORD_FREQUENCY)\n",
    " \n",
    "TO CONTROL THE MAX OR MIN WORDS IN A PHARSE\n",
    "\n",
    "    r = Rake(min_length=2, max_length=4)\n"
   ]
  },
  {
   "cell_type": "code",
   "execution_count": null,
   "metadata": {},
   "outputs": [],
   "source": [
    "# fungsi stopword indonesia\n",
    "r = Rake(language=\"indonesian\", min_length=1, max_length=5)"
   ]
  },
  {
   "cell_type": "code",
   "execution_count": null,
   "metadata": {},
   "outputs": [],
   "source": [
    "# testing rake\n",
    "textsu = \"Bagaimana bentuk kegiatan operasional Bank Syariah?\"\n",
    "r.extract_keywords_from_text(textsu)\n",
    "r.get_ranked_phrases_with_scores()"
   ]
  },
  {
   "cell_type": "markdown",
   "metadata": {},
   "source": [
    "Merubah question ke bentuk rake dan masukan kedalam list https://stackoverflow.com/questions/55162668/calculate-similarity-between-list-of-words"
   ]
  },
  {
   "cell_type": "code",
   "execution_count": null,
   "metadata": {},
   "outputs": [],
   "source": [
    "npQuestions = dfNew.questions.to_numpy()\n",
    "npAnswers = dfNew.answers.to_numpy()"
   ]
  },
  {
   "cell_type": "code",
   "execution_count": null,
   "metadata": {},
   "outputs": [],
   "source": [
    "# mencari keyword di setiap list pertanyaan\n",
    "tempRake = []\n",
    "for i in range(len(npQuestions)):\n",
    "    r.extract_keywords_from_text(npQuestions[i])\n",
    "    tempRake.append(r.get_ranked_phrases())"
   ]
  },
  {
   "cell_type": "code",
   "execution_count": null,
   "metadata": {},
   "outputs": [],
   "source": [
    "# Mencari keyword question yang diajukan user\n",
    "# questUser = \"Apa ciri-ciri bank Syariah?\"\n",
    "r.extract_keywords_from_text(questUser[0])\n",
    "qRake = r.get_ranked_phrases()"
   ]
  },
  {
   "cell_type": "code",
   "execution_count": null,
   "metadata": {},
   "outputs": [],
   "source": [
    "# Menghitung Cosine Similiarity\n",
    "from collections import Counter\n",
    "import math\n",
    "\n",
    "def counter(quest):\n",
    "    counter = Counter(quest)\n",
    "    return counter\n",
    "\n",
    "def counter_cosine_similarity(c1, c2):\n",
    "    terms = set(c1).union(c2)\n",
    "    dotprod = sum(c1.get(k, 0) * c2.get(k, 0) for k in terms)\n",
    "    magA = math.sqrt(sum(c1.get(k, 0)**2 for k in terms))\n",
    "    magB = math.sqrt(sum(c2.get(k, 0)**2 for k in terms))\n",
    "    return dotprod / (magA * magB)"
   ]
  },
  {
   "cell_type": "code",
   "execution_count": null,
   "metadata": {},
   "outputs": [],
   "source": [
    "counterQuestUser = counter(qRake)"
   ]
  },
  {
   "cell_type": "code",
   "execution_count": null,
   "metadata": {},
   "outputs": [],
   "source": [
    "tempCounter = []\n",
    "for i in range(len(tempRake)):\n",
    "    tempCounter.append(counter(tempRake[i]))"
   ]
  },
  {
   "cell_type": "code",
   "execution_count": null,
   "metadata": {},
   "outputs": [],
   "source": [
    "scoresCosine = []\n",
    "for i in range(len(tempCounter)):\n",
    "    scoresCosine.append(counter_cosine_similarity(counterQuestUser, tempCounter[i]) * 100)"
   ]
  },
  {
   "cell_type": "code",
   "execution_count": null,
   "metadata": {},
   "outputs": [],
   "source": [
    "npScore = np.array(scoresCosine)\n",
    "maxScore = np.amax(npScore)\n",
    "indexQuest = np.argmax(npScore)"
   ]
  },
  {
   "cell_type": "code",
   "execution_count": null,
   "metadata": {},
   "outputs": [],
   "source": [
    "print(\"prediksi question = \" + npQuestions[indexQuest])\n",
    "print(\"prediksi Answer = \" + npAnswers[indexQuest])"
   ]
  },
  {
   "cell_type": "markdown",
   "metadata": {},
   "source": [
    "Menghitung hasil dari Accuracy dan Precision dari Model CNN"
   ]
  },
  {
   "cell_type": "code",
   "execution_count": null,
   "metadata": {},
   "outputs": [],
   "source": [
    "predictions = cnn_model.predict(X_test)\n",
    "predictions = [np.argmax(predictions[i]) for i in range(len(predictions))]\n",
    "predictions = np.array(predictions)\n",
    "labels = [np.argmax(y_test[i]) for i in range(len(y_test))]\n",
    "labels = np.array(labels)"
   ]
  },
  {
   "cell_type": "code",
   "execution_count": null,
   "metadata": {},
   "outputs": [],
   "source": [
    "from sklearn import metrics\n",
    "\n",
    "print (\"Accuracy: \" + str(100*metrics.accuracy_score(labels, predictions)))\n",
    "print (\"Precision: \" + str(100*metrics.precision_score(labels, predictions, average=\"weighted\")))\n",
    "print (\"Recall: \" + str(100*metrics.recall_score(labels, predictions, average=\"weighted\")))\n",
    "print (\"f1_score: \" + str(100*metrics.f1_score(labels, predictions, average=\"weighted\")))"
   ]
  },
  {
   "cell_type": "code",
   "execution_count": null,
   "metadata": {},
   "outputs": [],
   "source": []
  }
 ],
 "metadata": {
  "kernelspec": {
   "display_name": "Python 3",
   "language": "python",
   "name": "python3"
  },
  "language_info": {
   "codemirror_mode": {
    "name": "ipython",
    "version": 3
   },
   "file_extension": ".py",
   "mimetype": "text/x-python",
   "name": "python",
   "nbconvert_exporter": "python",
   "pygments_lexer": "ipython3",
   "version": "3.8.8"
  }
 },
 "nbformat": 4,
 "nbformat_minor": 4
}
