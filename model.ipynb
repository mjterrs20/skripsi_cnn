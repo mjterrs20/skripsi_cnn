{
 "cells": [
  {
   "cell_type": "code",
   "execution_count": 1,
   "metadata": {},
   "outputs": [],
   "source": [
    "import numpy as np \n",
    "import pandas as pd\n",
    "import matplotlib.pyplot as plt\n",
    "%matplotlib inline"
   ]
  },
  {
   "cell_type": "code",
   "execution_count": 2,
   "metadata": {},
   "outputs": [],
   "source": [
    "import os\n",
    "import keras\n",
    "import keras.utils\n",
    "\n",
    "from sklearn import preprocessing\n",
    "from keras.preprocessing.sequence import pad_sequences\n",
    "from keras.models import Sequential\n",
    "from keras.layers import Dense, Dropout, Activation\n",
    "from keras.layers import Embedding\n",
    "from keras.layers import Conv1D, GlobalMaxPooling1D, MaxPooling1D, Flatten\n",
    "from keras.preprocessing.text import Tokenizer\n",
    "from keras.preprocessing import sequence\n",
    "from sklearn.preprocessing import LabelEncoder\n",
    "from keras.utils.np_utils import to_categorical\n",
    "from sklearn.model_selection import train_test_split\n",
    "\n",
    "import time\n",
    "from keras import metrics\n",
    "\n",
    "MAX_SEQUENCES_LENGTH = 50 # Maximum kata pada kalimat\n",
    "MAX_NB_WORDS = 20000 # Vocabulary size\n",
    "EMBEDDING_DIM = 64 # Dimensions of Glove word vector"
   ]
  },
  {
   "cell_type": "code",
   "execution_count": 3,
   "metadata": {
    "scrolled": true
   },
   "outputs": [],
   "source": [
    "import json\n",
    "# load data using Python JSON module\n",
    "with open('dataset/chatbot_eksyar.json','r') as f:\n",
    "    data = json.loads(f.read())\n",
    "    \n",
    "# Normalizing data\n",
    "df = pd.json_normalize(data, record_path =['items'])"
   ]
  },
  {
   "cell_type": "code",
   "execution_count": 4,
   "metadata": {},
   "outputs": [],
   "source": [
    "# Preparing question to X\n",
    "question = df.questions\n",
    "tokenizer = Tokenizer()\n",
    "tokenizer.fit_on_texts(question)\n",
    "sequences = tokenizer.texts_to_sequences(question)\n",
    "# Banyak kata yang telah di tokenizer\n",
    "word_index = tokenizer.word_index"
   ]
  },
  {
   "cell_type": "code",
   "execution_count": 5,
   "metadata": {},
   "outputs": [],
   "source": [
    "# memasukan hasil tokenizer ke dalam X \n",
    "X = pad_sequences(sequences, maxlen=MAX_SEQUENCES_LENGTH, padding='post')"
   ]
  },
  {
   "cell_type": "code",
   "execution_count": 6,
   "metadata": {},
   "outputs": [],
   "source": [
    "# Preparing Y\n",
    "# encode label because label alfabetic\n",
    "# menjadikan label ke kategorikal\n",
    "le = LabelEncoder()\n",
    "label = df.labels\n",
    "labelEncode = le.fit_transform(label)\n",
    "y = to_categorical(labelEncode)"
   ]
  },
  {
   "cell_type": "code",
   "execution_count": 7,
   "metadata": {},
   "outputs": [],
   "source": [
    "# bagi data menjadi 2 train dan test\n",
    "X_train, X_test, y_train, y_test = train_test_split(X, y, test_size=0.3, random_state=20, stratify=y)"
   ]
  },
  {
   "cell_type": "code",
   "execution_count": 8,
   "metadata": {},
   "outputs": [],
   "source": [
    "# create model CNN\n",
    "def build_cnn_model():\n",
    "    model = Sequential()\n",
    "    \n",
    "    model.add(Embedding(len(word_index) + 1, EMBEDDING_DIM, input_length=MAX_SEQUENCES_LENGTH))\n",
    "\n",
    "    model.add(Conv1D(64, 3, padding='same', activation='relu'))\n",
    "    # model.add(MaxPooling1D())\n",
    "    model.add(GlobalMaxPooling1D())\n",
    "    \n",
    "    model.add(Flatten())\n",
    "    \n",
    "    model.add(Dense(units=250,activation=\"relu\"))  \n",
    "    model.add(Dense(units=5,activation=\"softmax\"))\n",
    "    \n",
    "    model.compile(optimizer=\"adam\",metrics=[\"accuracy\"],loss=\"categorical_crossentropy\")\n",
    "\n",
    "    model.summary()\n",
    "    return model"
   ]
  },
  {
   "cell_type": "code",
   "execution_count": 9,
   "metadata": {},
   "outputs": [
    {
     "name": "stdout",
     "output_type": "stream",
     "text": [
      "Model: \"sequential\"\n",
      "_________________________________________________________________\n",
      "Layer (type)                 Output Shape              Param #   \n",
      "=================================================================\n",
      "embedding (Embedding)        (None, 50, 64)            8256      \n",
      "_________________________________________________________________\n",
      "conv1d (Conv1D)              (None, 50, 64)            12352     \n",
      "_________________________________________________________________\n",
      "global_max_pooling1d (Global (None, 64)                0         \n",
      "_________________________________________________________________\n",
      "flatten (Flatten)            (None, 64)                0         \n",
      "_________________________________________________________________\n",
      "dense (Dense)                (None, 250)               16250     \n",
      "_________________________________________________________________\n",
      "dense_1 (Dense)              (None, 5)                 1255      \n",
      "=================================================================\n",
      "Total params: 38,113\n",
      "Trainable params: 38,113\n",
      "Non-trainable params: 0\n",
      "_________________________________________________________________\n",
      "Epoch 1/30\n",
      "3/3 [==============================] - 14s 205ms/step - loss: 1.6118 - accuracy: 0.1781 - val_loss: 1.5881 - val_accuracy: 0.3548\n",
      "Epoch 2/30\n",
      "3/3 [==============================] - 0s 11ms/step - loss: 1.5805 - accuracy: 0.4415 - val_loss: 1.5687 - val_accuracy: 0.3548\n",
      "Epoch 3/30\n",
      "3/3 [==============================] - 0s 12ms/step - loss: 1.5592 - accuracy: 0.4181 - val_loss: 1.5537 - val_accuracy: 0.3548\n",
      "Epoch 4/30\n",
      "3/3 [==============================] - 0s 11ms/step - loss: 1.5426 - accuracy: 0.4343 - val_loss: 1.5352 - val_accuracy: 0.3548\n",
      "Epoch 5/30\n",
      "3/3 [==============================] - 0s 11ms/step - loss: 1.5158 - accuracy: 0.4577 - val_loss: 1.5136 - val_accuracy: 0.3548\n",
      "Epoch 6/30\n",
      "3/3 [==============================] - 0s 12ms/step - loss: 1.4924 - accuracy: 0.3979 - val_loss: 1.4908 - val_accuracy: 0.3548\n",
      "Epoch 7/30\n",
      "3/3 [==============================] - 0s 12ms/step - loss: 1.4386 - accuracy: 0.4604 - val_loss: 1.4661 - val_accuracy: 0.3548\n",
      "Epoch 8/30\n",
      "3/3 [==============================] - 0s 11ms/step - loss: 1.4099 - accuracy: 0.4701 - val_loss: 1.4393 - val_accuracy: 0.3548\n",
      "Epoch 9/30\n",
      "3/3 [==============================] - 0s 11ms/step - loss: 1.3777 - accuracy: 0.4584 - val_loss: 1.4100 - val_accuracy: 0.3871\n",
      "Epoch 10/30\n",
      "3/3 [==============================] - 0s 11ms/step - loss: 1.3073 - accuracy: 0.5345 - val_loss: 1.3777 - val_accuracy: 0.3871\n",
      "Epoch 11/30\n",
      "3/3 [==============================] - 0s 13ms/step - loss: 1.2760 - accuracy: 0.4993 - val_loss: 1.3415 - val_accuracy: 0.3871\n",
      "Epoch 12/30\n",
      "3/3 [==============================] - 0s 11ms/step - loss: 1.2170 - accuracy: 0.5071 - val_loss: 1.2994 - val_accuracy: 0.3871\n",
      "Epoch 13/30\n",
      "3/3 [==============================] - 0s 11ms/step - loss: 1.1319 - accuracy: 0.5410 - val_loss: 1.2485 - val_accuracy: 0.4194\n",
      "Epoch 14/30\n",
      "3/3 [==============================] - 0s 11ms/step - loss: 1.0643 - accuracy: 0.5598 - val_loss: 1.1903 - val_accuracy: 0.4516\n",
      "Epoch 15/30\n",
      "3/3 [==============================] - 0s 13ms/step - loss: 0.9551 - accuracy: 0.6788 - val_loss: 1.1254 - val_accuracy: 0.5484\n",
      "Epoch 16/30\n",
      "3/3 [==============================] - 0s 12ms/step - loss: 0.8917 - accuracy: 0.8160 - val_loss: 1.0542 - val_accuracy: 0.7742\n",
      "Epoch 17/30\n",
      "3/3 [==============================] - 0s 11ms/step - loss: 0.7868 - accuracy: 0.8615 - val_loss: 0.9804 - val_accuracy: 0.8065\n",
      "Epoch 18/30\n",
      "3/3 [==============================] - 0s 11ms/step - loss: 0.6848 - accuracy: 0.8843 - val_loss: 0.9094 - val_accuracy: 0.8065\n",
      "Epoch 19/30\n",
      "3/3 [==============================] - 0s 12ms/step - loss: 0.5936 - accuracy: 0.8882 - val_loss: 0.8393 - val_accuracy: 0.8387\n",
      "Epoch 20/30\n",
      "3/3 [==============================] - 0s 11ms/step - loss: 0.5026 - accuracy: 0.9109 - val_loss: 0.7732 - val_accuracy: 0.8387\n",
      "Epoch 21/30\n",
      "3/3 [==============================] - 0s 11ms/step - loss: 0.4309 - accuracy: 0.9181 - val_loss: 0.7096 - val_accuracy: 0.8387\n",
      "Epoch 22/30\n",
      "3/3 [==============================] - 0s 13ms/step - loss: 0.3874 - accuracy: 0.8946 - val_loss: 0.6518 - val_accuracy: 0.8387\n",
      "Epoch 23/30\n",
      "3/3 [==============================] - 0s 14ms/step - loss: 0.3268 - accuracy: 0.9213 - val_loss: 0.5976 - val_accuracy: 0.8710\n",
      "Epoch 24/30\n",
      "3/3 [==============================] - 0s 13ms/step - loss: 0.2542 - accuracy: 0.9890 - val_loss: 0.5543 - val_accuracy: 0.8710\n",
      "Epoch 25/30\n",
      "3/3 [==============================] - 0s 13ms/step - loss: 0.2019 - accuracy: 0.9890 - val_loss: 0.5168 - val_accuracy: 0.8710\n",
      "Epoch 26/30\n",
      "3/3 [==============================] - 0s 11ms/step - loss: 0.1723 - accuracy: 0.9890 - val_loss: 0.4849 - val_accuracy: 0.8710\n",
      "Epoch 27/30\n",
      "3/3 [==============================] - 0s 11ms/step - loss: 0.1515 - accuracy: 0.9811 - val_loss: 0.4585 - val_accuracy: 0.8710\n",
      "Epoch 28/30\n",
      "3/3 [==============================] - 0s 12ms/step - loss: 0.1143 - accuracy: 1.0000 - val_loss: 0.4375 - val_accuracy: 0.8710\n",
      "Epoch 29/30\n",
      "3/3 [==============================] - 0s 12ms/step - loss: 0.1058 - accuracy: 1.0000 - val_loss: 0.4196 - val_accuracy: 0.8710\n",
      "Epoch 30/30\n",
      "3/3 [==============================] - 0s 12ms/step - loss: 0.0722 - accuracy: 1.0000 - val_loss: 0.4068 - val_accuracy: 0.8710\n"
     ]
    }
   ],
   "source": [
    "# Train Model\n",
    "cnn_model = build_cnn_model()\n",
    "cnn_history = cnn_model.fit(X_train,y_train,epochs=30,validation_data=(X_test, y_test))"
   ]
  },
  {
   "cell_type": "code",
   "execution_count": 10,
   "metadata": {},
   "outputs": [
    {
     "data": {
      "image/png": "[encoded data removed]",
      "text/plain": [
       "<Figure size 1296x1008 with 1 Axes>"
      ]
     },
     "metadata": {
      "needs_background": "light"
     },
     "output_type": "display_data"
    }
   ],
   "source": [
    "from sklearn.metrics import accuracy_score, confusion_matrix\n",
    "import seaborn as sns\n",
    "ypred = cnn_model.predict(X_test)\n",
    "cnn_accuracy = accuracy_score(y_test.argmax(axis=-1),ypred.argmax(axis=-1))\n",
    "#print(\"CNN Accuracy:\",cnn_accuracy)\n",
    "cnn_cn = confusion_matrix(y_test.argmax(axis=-1),ypred.argmax(axis=-1))\n",
    "plt.subplots(figsize=(18,14))\n",
    "sns.heatmap(cnn_cn,annot=True,fmt=\"1d\",cbar=False,xticklabels=le.classes_,yticklabels=le.classes_)\n",
    "plt.title(\"CNN Accuracy: {}\".format(cnn_accuracy),fontsize=50)\n",
    "plt.xlabel(\"Predicted\",fontsize=15)\n",
    "plt.ylabel(\"Actual\",fontsize=15)\n",
    "plt.show()"
   ]
  },
  {
   "cell_type": "code",
   "execution_count": 11,
   "metadata": {},
   "outputs": [
    {
     "data": {
      "image/png": "[encoded data removed]",
      "text/plain": [
       "<Figure size 1080x360 with 2 Axes>"
      ]
     },
     "metadata": {
      "needs_background": "light"
     },
     "output_type": "display_data"
    }
   ],
   "source": [
    "fig3, axe1 = plt.subplots(nrows=1, ncols=2, figsize=(15,5))\n",
    "axe1[0].plot(cnn_history.history[\"accuracy\"],label=\"accuracy\",color=\"blue\")\n",
    "axe1[1].plot(cnn_history.history[\"loss\"],label=\"loss\",color=\"red\")\n",
    "axe1[0].title.set_text(\"CNN Accuracy\")\n",
    "axe1[1].title.set_text(\"CNN Loss\")\n",
    "axe1[0].set_xlabel(\"Epoch\")\n",
    "axe1[1].set_xlabel(\"Epoch\")\n",
    "axe1[0].set_ylabel(\"Rate\")\n",
    "plt.show()"
   ]
  },
  {
   "cell_type": "code",
   "execution_count": 12,
   "metadata": {},
   "outputs": [],
   "source": [
    "def cnn_predict(quest):\n",
    "  puretext = tokenizer.texts_to_sequences(quest)\n",
    "  text_pad = pad_sequences(puretext,maxlen=50,padding='post')\n",
    "  predicted = cnn_model.predict(text_pad)\n",
    "  predicted_category = predicted.argmax(axis=1)\n",
    "  return le.classes_[predicted_category]"
   ]
  },
  {
   "cell_type": "code",
   "execution_count": 13,
   "metadata": {},
   "outputs": [
    {
     "name": "stdout",
     "output_type": "stream",
     "text": [
      "CNN Predicted Category: ['investasi']\n"
     ]
    }
   ],
   "source": [
    "quest = ['apa prinsip-prinsip investasi berdasarkan syariah']\n",
    "print(\"CNN Predicted Category: {}\".format(cnn_predict(quest)))"
   ]
  },
  {
   "cell_type": "code",
   "execution_count": 16,
   "metadata": {},
   "outputs": [],
   "source": [
    "# tesing glove\n",
    "from gensim.scripts.glove2word2vec import glove2word2vec"
   ]
  },
  {
   "cell_type": "code",
   "execution_count": 17,
   "metadata": {},
   "outputs": [],
   "source": [
    "from gensim.models import KeyedVectors"
   ]
  },
  {
   "cell_type": "code",
   "execution_count": 19,
   "metadata": {},
   "outputs": [],
   "source": [
    "glove_input_file = 'dataset/glove/glove.6B.300d.txt'\n",
    "word2vec_output_file = 'word2vec.txt'"
   ]
  },
  {
   "cell_type": "code",
   "execution_count": 20,
   "metadata": {},
   "outputs": [
    {
     "name": "stderr",
     "output_type": "stream",
     "text": [
      "<ipython-input-20-063bce21512b>:1: DeprecationWarning: Call to deprecated `glove2word2vec` (KeyedVectors.load_word2vec_format(.., binary=False, no_header=True) loads GLoVE text vectors.).\n",
      "  glove2word2vec(glove_input_file, word2vec_output_file)\n"
     ]
    },
    {
     "data": {
      "text/plain": [
       "(400000, 300)"
      ]
     },
     "execution_count": 20,
     "metadata": {},
     "output_type": "execute_result"
    }
   ],
   "source": [
    "glove2word2vec(glove_input_file, word2vec_output_file)"
   ]
  },
  {
   "cell_type": "code",
   "execution_count": 21,
   "metadata": {},
   "outputs": [],
   "source": [
    "model = KeyedVectors.load_word2vec_format(word2vec_output_file, binary=False)"
   ]
  },
  {
   "cell_type": "code",
   "execution_count": 22,
   "metadata": {},
   "outputs": [
    {
     "name": "stdout",
     "output_type": "stream",
     "text": [
      "[('queen', 0.6713277101516724)]\n"
     ]
    }
   ],
   "source": [
    "result = model.most_similar(positive=['woman', 'king'], negative=['man'], topn=1)\n",
    "print(result)"
   ]
  },
  {
   "cell_type": "code",
   "execution_count": 39,
   "metadata": {},
   "outputs": [
    {
     "data": {
      "text/plain": [
       "[('hajji', 0.5879772901535034),\n",
       " ('abdul', 0.5793787837028503),\n",
       " ('mohammad', 0.5699612498283386),\n",
       " ('ghulam', 0.5610615611076355),\n",
       " ('qadir', 0.5601659417152405),\n",
       " ('abdi', 0.5458150506019592),\n",
       " ('agha', 0.542698860168457),\n",
       " ('musa', 0.5383643507957458),\n",
       " ('wali', 0.5355672240257263),\n",
       " ('syed', 0.5314851999282837)]"
      ]
     },
     "execution_count": 39,
     "metadata": {},
     "output_type": "execute_result"
    }
   ],
   "source": [
    "biaya_ms = model.most_similar('haji')\n",
    "biaya_ms"
   ]
  },
  {
   "cell_type": "code",
   "execution_count": null,
   "metadata": {},
   "outputs": [],
   "source": []
  },
  {
   "cell_type": "code",
   "execution_count": null,
   "metadata": {},
   "outputs": [],
   "source": []
  },
  {
   "cell_type": "code",
   "execution_count": null,
   "metadata": {},
   "outputs": [],
   "source": [
    "# mainin glove"
   ]
  },
  {
   "cell_type": "code",
   "execution_count": null,
   "metadata": {},
   "outputs": [],
   "source": []
  }
 ],
 "metadata": {
  "kernelspec": {
   "display_name": "Python 3",
   "language": "python",
   "name": "python3"
  },
  "language_info": {
   "codemirror_mode": {
    "name": "ipython",
    "version": 3
   },
   "file_extension": ".py",
   "mimetype": "text/x-python",
   "name": "python",
   "nbconvert_exporter": "python",
   "pygments_lexer": "ipython3",
   "version": "3.8.8"
  }
 },
 "nbformat": 4,
 "nbformat_minor": 4
}
