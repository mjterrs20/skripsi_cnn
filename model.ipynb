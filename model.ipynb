{
 "cells": [
  {
   "cell_type": "code",
   "execution_count": 1,
   "metadata": {},
   "outputs": [],
   "source": [
    "import numpy as np \n",
    "import pandas as pd\n",
    "import matplotlib.pyplot as plt\n",
    "%matplotlib inline"
   ]
  },
  {
   "cell_type": "code",
   "execution_count": 2,
   "metadata": {},
   "outputs": [],
   "source": [
    "import os\n",
    "import keras\n",
    "import keras.utils\n",
    "\n",
    "from sklearn import preprocessing\n",
    "from keras.preprocessing.sequence import pad_sequences\n",
    "from keras.models import Sequential\n",
    "from keras.layers import Dense, Dropout, Activation\n",
    "from keras.layers import Embedding\n",
    "from keras.layers import Conv1D, GlobalMaxPooling1D, MaxPooling1D, Flatten\n",
    "from keras.preprocessing.text import Tokenizer\n",
    "from keras.preprocessing import sequence\n",
    "from sklearn.preprocessing import LabelEncoder\n",
    "from keras.utils.np_utils import to_categorical\n",
    "from sklearn.model_selection import train_test_split\n",
    "# from keras.callbacks import ModelCheckpoint, EarlyStopping\n",
    "\n",
    "import time\n",
    "from keras import metrics\n",
    "\n",
    "MAX_SEQUENCES_LENGTH = 50 # Maximum kata pada kalimat\n",
    "MAX_NB_WORDS = 20000 # Vocabulary size\n",
    "EMBEDDING_DIM = 64 # Dimensions of Glove word vector"
   ]
  },
  {
   "cell_type": "code",
   "execution_count": 3,
   "metadata": {
    "scrolled": true
   },
   "outputs": [],
   "source": [
    "import json\n",
    "# load data using Python JSON module\n",
    "with open('dataset/chatbot_eksyar.json','r') as f:\n",
    "    data = json.loads(f.read())\n",
    "    \n",
    "# Normalizing data\n",
    "df = pd.json_normalize(data, record_path =['items'])"
   ]
  },
  {
   "cell_type": "code",
   "execution_count": 4,
   "metadata": {},
   "outputs": [],
   "source": [
    "# Preparing question to X\n",
    "question = df.questions\n",
    "tokenizer = Tokenizer()\n",
    "tokenizer.fit_on_texts(question)\n",
    "sequences = tokenizer.texts_to_sequences(question)\n",
    "# Banyak kata yang telah di tokenizer\n",
    "word_index = tokenizer.word_index"
   ]
  },
  {
   "cell_type": "code",
   "execution_count": 5,
   "metadata": {},
   "outputs": [],
   "source": [
    "# memasukan hasil tokenizer ke dalam X \n",
    "X = pad_sequences(sequences, maxlen=MAX_SEQUENCES_LENGTH, padding='post')"
   ]
  },
  {
   "cell_type": "code",
   "execution_count": 6,
   "metadata": {},
   "outputs": [],
   "source": [
    "# Preparing Y\n",
    "# encode label because label alfabetic\n",
    "# menjadikan label ke kategorikal\n",
    "le = LabelEncoder()\n",
    "label = df.labels\n",
    "labelEncode = le.fit_transform(label)\n",
    "y = to_categorical(labelEncode)"
   ]
  },
  {
   "cell_type": "code",
   "execution_count": 7,
   "metadata": {},
   "outputs": [],
   "source": [
    "# bagi data menjadi 2 train dan test\n",
    "X_train, X_test, y_train, y_test = train_test_split(X, y, test_size=0.3, random_state=20, stratify=y)"
   ]
  },
  {
   "cell_type": "code",
   "execution_count": null,
   "metadata": {},
   "outputs": [],
   "source": [
    "# checkpoint_path = 'data-target-model-wtl.h5'\n",
    "# early_stopper = EarlyStopping(monitor='val_accuracy', patience=5, verbose=0, mode='auto')\n",
    "# checkpointer = ModelCheckpoint(filepath=checkpoint_path, verbose=0, save_best_only=True)\n",
    "\n",
    "# tinggal memnambahkan callback pada model fit"
   ]
  },
  {
   "cell_type": "code",
   "execution_count": 8,
   "metadata": {},
   "outputs": [],
   "source": [
    "# create model CNN\n",
    "def build_cnn_model():\n",
    "    model = Sequential()\n",
    "    \n",
    "    model.add(Embedding(len(word_index) + 1, EMBEDDING_DIM, input_length=MAX_SEQUENCES_LENGTH))\n",
    "\n",
    "    model.add(Conv1D(64, 3, padding='same', activation='relu'))\n",
    "    # model.add(MaxPooling1D())\n",
    "    model.add(GlobalMaxPooling1D())\n",
    "    \n",
    "    model.add(Flatten())\n",
    "    \n",
    "    model.add(Dense(units=250,activation=\"relu\"))  \n",
    "    model.add(Dense(units=5,activation=\"softmax\"))\n",
    "    \n",
    "    model.compile(optimizer=\"adam\",metrics=[\"accuracy\"],loss=\"categorical_crossentropy\")\n",
    "\n",
    "    model.summary()\n",
    "    return model"
   ]
  },
  {
   "cell_type": "code",
   "execution_count": 9,
   "metadata": {},
   "outputs": [
    {
     "name": "stdout",
     "output_type": "stream",
     "text": [
      "Model: \"sequential\"\n",
      "_________________________________________________________________\n",
      "Layer (type)                 Output Shape              Param #   \n",
      "=================================================================\n",
      "embedding (Embedding)        (None, 50, 64)            8256      \n",
      "_________________________________________________________________\n",
      "conv1d (Conv1D)              (None, 50, 64)            12352     \n",
      "_________________________________________________________________\n",
      "global_max_pooling1d (Global (None, 64)                0         \n",
      "_________________________________________________________________\n",
      "flatten (Flatten)            (None, 64)                0         \n",
      "_________________________________________________________________\n",
      "dense (Dense)                (None, 250)               16250     \n",
      "_________________________________________________________________\n",
      "dense_1 (Dense)              (None, 5)                 1255      \n",
      "=================================================================\n",
      "Total params: 38,113\n",
      "Trainable params: 38,113\n",
      "Non-trainable params: 0\n",
      "_________________________________________________________________\n",
      "Epoch 1/30\n",
      "3/3 [==============================] - 14s 206ms/step - loss: 1.6100 - accuracy: 0.1814 - val_loss: 1.5884 - val_accuracy: 0.3548\n",
      "Epoch 2/30\n",
      "3/3 [==============================] - 0s 11ms/step - loss: 1.5830 - accuracy: 0.3316 - val_loss: 1.5710 - val_accuracy: 0.3548\n",
      "Epoch 3/30\n",
      "3/3 [==============================] - 0s 12ms/step - loss: 1.5604 - accuracy: 0.4298 - val_loss: 1.5519 - val_accuracy: 0.3548\n",
      "Epoch 4/30\n",
      "3/3 [==============================] - 0s 13ms/step - loss: 1.5366 - accuracy: 0.4213 - val_loss: 1.5305 - val_accuracy: 0.3548\n",
      "Epoch 5/30\n",
      "3/3 [==============================] - 0s 11ms/step - loss: 1.5015 - accuracy: 0.4604 - val_loss: 1.5086 - val_accuracy: 0.3548\n",
      "Epoch 6/30\n",
      "3/3 [==============================] - 0s 13ms/step - loss: 1.4724 - accuracy: 0.4565 - val_loss: 1.4882 - val_accuracy: 0.3548\n",
      "Epoch 7/30\n",
      "3/3 [==============================] - 0s 12ms/step - loss: 1.4360 - accuracy: 0.4799 - val_loss: 1.4697 - val_accuracy: 0.3548\n",
      "Epoch 8/30\n",
      "3/3 [==============================] - 0s 12ms/step - loss: 1.4367 - accuracy: 0.4694 - val_loss: 1.4494 - val_accuracy: 0.3871\n",
      "Epoch 9/30\n",
      "3/3 [==============================] - 0s 12ms/step - loss: 1.3862 - accuracy: 0.5481 - val_loss: 1.4224 - val_accuracy: 0.4194\n",
      "Epoch 10/30\n",
      "3/3 [==============================] - 0s 12ms/step - loss: 1.3608 - accuracy: 0.5552 - val_loss: 1.3928 - val_accuracy: 0.3871\n",
      "Epoch 11/30\n",
      "3/3 [==============================] - 0s 12ms/step - loss: 1.3188 - accuracy: 0.5104 - val_loss: 1.3592 - val_accuracy: 0.3548\n",
      "Epoch 12/30\n",
      "3/3 [==============================] - 0s 13ms/step - loss: 1.2483 - accuracy: 0.4961 - val_loss: 1.3215 - val_accuracy: 0.3871\n",
      "Epoch 13/30\n",
      "3/3 [==============================] - 0s 12ms/step - loss: 1.1589 - accuracy: 0.5605 - val_loss: 1.2785 - val_accuracy: 0.4194\n",
      "Epoch 14/30\n",
      "3/3 [==============================] - 0s 13ms/step - loss: 1.1199 - accuracy: 0.6827 - val_loss: 1.2268 - val_accuracy: 0.4516\n",
      "Epoch 15/30\n",
      "3/3 [==============================] - 0s 12ms/step - loss: 1.0564 - accuracy: 0.6937 - val_loss: 1.1712 - val_accuracy: 0.5806\n",
      "Epoch 16/30\n",
      "3/3 [==============================] - 0s 12ms/step - loss: 0.9840 - accuracy: 0.6970 - val_loss: 1.1162 - val_accuracy: 0.6129\n",
      "Epoch 17/30\n",
      "3/3 [==============================] - 0s 13ms/step - loss: 0.8846 - accuracy: 0.7126 - val_loss: 1.0584 - val_accuracy: 0.6129\n",
      "Epoch 18/30\n",
      "3/3 [==============================] - 0s 11ms/step - loss: 0.7810 - accuracy: 0.7386 - val_loss: 0.9917 - val_accuracy: 0.6452\n",
      "Epoch 19/30\n",
      "3/3 [==============================] - 0s 11ms/step - loss: 0.6606 - accuracy: 0.7542 - val_loss: 0.9248 - val_accuracy: 0.7419\n",
      "Epoch 20/30\n",
      "3/3 [==============================] - 0s 14ms/step - loss: 0.6042 - accuracy: 0.8615 - val_loss: 0.8574 - val_accuracy: 0.8065\n",
      "Epoch 21/30\n",
      "3/3 [==============================] - 0s 10ms/step - loss: 0.5204 - accuracy: 0.8804 - val_loss: 0.7900 - val_accuracy: 0.8387\n",
      "Epoch 22/30\n",
      "3/3 [==============================] - 0s 10ms/step - loss: 0.4368 - accuracy: 0.8882 - val_loss: 0.7303 - val_accuracy: 0.8710\n",
      "Epoch 23/30\n",
      "3/3 [==============================] - 0s 10ms/step - loss: 0.3728 - accuracy: 0.8953 - val_loss: 0.6742 - val_accuracy: 0.8710\n",
      "Epoch 24/30\n",
      "3/3 [==============================] - 0s 11ms/step - loss: 0.3272 - accuracy: 0.8946 - val_loss: 0.6196 - val_accuracy: 0.9032\n",
      "Epoch 25/30\n",
      "3/3 [==============================] - 0s 12ms/step - loss: 0.2406 - accuracy: 0.9590 - val_loss: 0.5716 - val_accuracy: 0.9032\n",
      "Epoch 26/30\n",
      "3/3 [==============================] - 0s 12ms/step - loss: 0.2252 - accuracy: 0.9623 - val_loss: 0.5353 - val_accuracy: 0.9032\n",
      "Epoch 27/30\n",
      "3/3 [==============================] - 0s 12ms/step - loss: 0.1666 - accuracy: 0.9890 - val_loss: 0.5045 - val_accuracy: 0.9032\n",
      "Epoch 28/30\n",
      "3/3 [==============================] - 0s 13ms/step - loss: 0.1502 - accuracy: 1.0000 - val_loss: 0.4771 - val_accuracy: 0.9032\n",
      "Epoch 29/30\n",
      "3/3 [==============================] - 0s 13ms/step - loss: 0.1202 - accuracy: 1.0000 - val_loss: 0.4583 - val_accuracy: 0.9032\n",
      "Epoch 30/30\n",
      "3/3 [==============================] - 0s 13ms/step - loss: 0.0856 - accuracy: 1.0000 - val_loss: 0.4465 - val_accuracy: 0.9032\n"
     ]
    }
   ],
   "source": [
    "# Train Model\n",
    "cnn_model = build_cnn_model()\n",
    "cnn_history = cnn_model.fit(X_train,y_train,epochs=30,validation_data=(X_test, y_test))"
   ]
  },
  {
   "cell_type": "code",
   "execution_count": 10,
   "metadata": {},
   "outputs": [
    {
     "data": {
      "image/png": "[encoded data removed]",
      "text/plain": [
       "<Figure size 1296x1008 with 1 Axes>"
      ]
     },
     "metadata": {
      "needs_background": "light"
     },
     "output_type": "display_data"
    }
   ],
   "source": [
    "from sklearn.metrics import accuracy_score, confusion_matrix\n",
    "import seaborn as sns\n",
    "ypred = cnn_model.predict(X_test)\n",
    "cnn_accuracy = accuracy_score(y_test.argmax(axis=-1),ypred.argmax(axis=-1))\n",
    "#print(\"CNN Accuracy:\",cnn_accuracy)\n",
    "cnn_cn = confusion_matrix(y_test.argmax(axis=-1),ypred.argmax(axis=-1))\n",
    "plt.subplots(figsize=(18,14))\n",
    "sns.heatmap(cnn_cn,annot=True,fmt=\"1d\",cbar=False,xticklabels=le.classes_,yticklabels=le.classes_)\n",
    "plt.title(\"CNN Accuracy: {}\".format(cnn_accuracy),fontsize=50)\n",
    "plt.xlabel(\"Predicted\",fontsize=15)\n",
    "plt.ylabel(\"Actual\",fontsize=15)\n",
    "plt.show()"
   ]
  },
  {
   "cell_type": "code",
   "execution_count": 11,
   "metadata": {},
   "outputs": [
    {
     "data": {
      "image/png": "[encoded data removed]",
      "text/plain": [
       "<Figure size 1080x360 with 2 Axes>"
      ]
     },
     "metadata": {
      "needs_background": "light"
     },
     "output_type": "display_data"
    }
   ],
   "source": [
    "fig3, axe1 = plt.subplots(nrows=1, ncols=2, figsize=(15,5))\n",
    "axe1[0].plot(cnn_history.history[\"accuracy\"],label=\"accuracy\",color=\"blue\")\n",
    "axe1[1].plot(cnn_history.history[\"loss\"],label=\"loss\",color=\"red\")\n",
    "axe1[0].title.set_text(\"CNN Accuracy\")\n",
    "axe1[1].title.set_text(\"CNN Loss\")\n",
    "axe1[0].set_xlabel(\"Epoch\")\n",
    "axe1[1].set_xlabel(\"Epoch\")\n",
    "axe1[0].set_ylabel(\"Rate\")\n",
    "plt.show()"
   ]
  },
  {
   "cell_type": "code",
   "execution_count": null,
   "metadata": {},
   "outputs": [],
   "source": [
    "def cnn_predict(quest):\n",
    "    puretext = tokenizer.texts_to_sequences(quest)\n",
    "    text_pad = pad_sequences(puretext,maxlen=50,padding='post')\n",
    "    predicted = cnn_model.predict(text_pad)\n",
    "    predicted_category = predicted.argmax(axis=1)\n",
    "    return le.classes_[predicted_category]"
   ]
  },
  {
   "cell_type": "code",
   "execution_count": null,
   "metadata": {},
   "outputs": [],
   "source": [
    "quest = ['apa prinsip-prinsip investasi berdasarkan syariah']\n",
    "print(\"CNN Predicted Category: {}\".format(cnn_predict(quest)))"
   ]
  },
  {
   "cell_type": "markdown",
   "metadata": {},
   "source": [
    "Testing code untuk menghasilkan nilai y"
   ]
  },
  {
   "cell_type": "code",
   "execution_count": null,
   "metadata": {},
   "outputs": [],
   "source": [
    "quest = ['apa prinsip ekonomi syariah?']"
   ]
  },
  {
   "cell_type": "code",
   "execution_count": null,
   "metadata": {},
   "outputs": [],
   "source": [
    "puretext = tokenizer.texts_to_sequences(quest)\n",
    "text_pad = pad_sequences(puretext,maxlen=50,padding='post')\n",
    "predicted = cnn_model.predict(text_pad)\n",
    "predicted_category = predicted.argmax(axis=1)"
   ]
  },
  {
   "cell_type": "code",
   "execution_count": null,
   "metadata": {},
   "outputs": [],
   "source": [
    "puretext"
   ]
  },
  {
   "cell_type": "code",
   "execution_count": null,
   "metadata": {},
   "outputs": [],
   "source": [
    "text_pad "
   ]
  },
  {
   "cell_type": "code",
   "execution_count": null,
   "metadata": {},
   "outputs": [],
   "source": [
    "predicted"
   ]
  },
  {
   "cell_type": "code",
   "execution_count": null,
   "metadata": {},
   "outputs": [],
   "source": [
    "X"
   ]
  },
  {
   "cell_type": "code",
   "execution_count": null,
   "metadata": {},
   "outputs": [],
   "source": [
    "predicted_category"
   ]
  },
  {
   "cell_type": "code",
   "execution_count": null,
   "metadata": {},
   "outputs": [],
   "source": [
    "le.classes_[predicted_category]"
   ]
  },
  {
   "cell_type": "code",
   "execution_count": null,
   "metadata": {},
   "outputs": [],
   "source": [
    "predictions = np.array(predicted)"
   ]
  },
  {
   "cell_type": "code",
   "execution_count": null,
   "metadata": {},
   "outputs": [],
   "source": [
    "predictions"
   ]
  },
  {
   "cell_type": "markdown",
   "metadata": {},
   "source": [
    "Menngunakan Rake untuk mencari jawaban"
   ]
  },
  {
   "cell_type": "code",
   "execution_count": null,
   "metadata": {},
   "outputs": [],
   "source": []
  },
  {
   "cell_type": "code",
   "execution_count": null,
   "metadata": {},
   "outputs": [],
   "source": [
    "predictions = cnn_model.predict(X_test)\n",
    "predictions = [np.argmax(predictions[i]) for i in range(len(predictions))]\n",
    "predictions = np.array(predictions)\n",
    "labels = [np.argmax(y_test[i]) for i in range(len(y_test))]\n",
    "labels = np.array(labels)"
   ]
  },
  {
   "cell_type": "markdown",
   "metadata": {},
   "source": [
    "Menghitung hasil dari Accuracy dan Precision dari Model CNN"
   ]
  },
  {
   "cell_type": "code",
   "execution_count": 12,
   "metadata": {},
   "outputs": [],
   "source": [
    "predictions = cnn_model.predict(X_test)\n",
    "predictions = [np.argmax(predictions[i]) for i in range(len(predictions))]\n",
    "predictions = np.array(predictions)\n",
    "labels = [np.argmax(y_test[i]) for i in range(len(y_test))]\n",
    "labels = np.array(labels)"
   ]
  },
  {
   "cell_type": "code",
   "execution_count": 13,
   "metadata": {},
   "outputs": [
    {
     "name": "stdout",
     "output_type": "stream",
     "text": [
      "Accuracy: 90.32258064516128\n",
      "Precision: 85.9447004608295\n",
      "Recall: 90.32258064516128\n",
      "f1_score: 87.49820788530465\n"
     ]
    },
    {
     "name": "stderr",
     "output_type": "stream",
     "text": [
      "/Users/muhammadrizkiaditia/opt/anaconda3/lib/python3.8/site-packages/sklearn/metrics/_classification.py:1245: UndefinedMetricWarning: Precision is ill-defined and being set to 0.0 in labels with no predicted samples. Use `zero_division` parameter to control this behavior.\n",
      "  _warn_prf(average, modifier, msg_start, len(result))\n"
     ]
    }
   ],
   "source": [
    "from sklearn import metrics\n",
    "\n",
    "print (\"Accuracy: \" + str(100*metrics.accuracy_score(labels, predictions)))\n",
    "print (\"Precision: \" + str(100*metrics.precision_score(labels, predictions, average=\"weighted\")))\n",
    "print (\"Recall: \" + str(100*metrics.recall_score(labels, predictions, average=\"weighted\")))\n",
    "print (\"f1_score: \" + str(100*metrics.f1_score(labels, predictions, average=\"weighted\")))"
   ]
  },
  {
   "cell_type": "code",
   "execution_count": null,
   "metadata": {},
   "outputs": [],
   "source": []
  }
 ],
 "metadata": {
  "kernelspec": {
   "display_name": "Python 3",
   "language": "python",
   "name": "python3"
  },
  "language_info": {
   "codemirror_mode": {
    "name": "ipython",
    "version": 3
   },
   "file_extension": ".py",
   "mimetype": "text/x-python",
   "name": "python",
   "nbconvert_exporter": "python",
   "pygments_lexer": "ipython3",
   "version": "3.8.8"
  }
 },
 "nbformat": 4,
 "nbformat_minor": 4
}
