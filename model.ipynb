{
 "cells": [
  {
   "cell_type": "code",
   "execution_count": 1,
   "metadata": {},
   "outputs": [],
   "source": [
    "# Import Library yang dibutuhkan\n",
    "import numpy as np \n",
    "import pandas as pd\n",
    "import matplotlib.pyplot as plt\n",
    "%matplotlib inline\n",
    "\n",
    "import os\n",
    "import keras\n",
    "import keras.utils\n",
    "\n",
    "from sklearn import preprocessing\n",
    "from keras.preprocessing.sequence import pad_sequences\n",
    "from keras.models import Sequential\n",
    "from keras.layers import Dense, Dropout, Activation\n",
    "from keras.layers import Embedding\n",
    "from keras.layers import Conv1D, GlobalMaxPooling1D, MaxPooling1D, Flatten\n",
    "from keras.preprocessing.text import Tokenizer\n",
    "from keras.preprocessing import sequence\n",
    "from sklearn.preprocessing import LabelEncoder\n",
    "from keras.utils.np_utils import to_categorical\n",
    "from sklearn.model_selection import train_test_split\n",
    "# from keras.callbacks import ModelCheckpoint, EarlyStopping\n",
    "\n",
    "import time\n",
    "from keras import metrics"
   ]
  },
  {
   "cell_type": "code",
   "execution_count": 2,
   "metadata": {},
   "outputs": [],
   "source": [
    "MAX_SEQUENCES_LENGTH = 50 # Maximum kata pada kalimat 40 biasanya\n",
    "MAX_NB_WORDS = 1000 # Vocabulary size\n",
    "EMBEDDING_DIM = 50 # Dimensions of Glove word vector kadang bisa juga 100"
   ]
  },
  {
   "cell_type": "code",
   "execution_count": 3,
   "metadata": {
    "scrolled": true
   },
   "outputs": [],
   "source": [
    "import json\n",
    "# load data using Python JSON module\n",
    "with open('dataset/dataset.json','r') as f:\n",
    "    data = json.loads(f.read())\n",
    "    \n",
    "# Normalizing data\n",
    "df = pd.json_normalize(data, record_path =['items'])"
   ]
  },
  {
   "cell_type": "code",
   "execution_count": 4,
   "metadata": {},
   "outputs": [
    {
     "data": {
      "text/html": [
       "<div>\n",
       "<style scoped>\n",
       "    .dataframe tbody tr th:only-of-type {\n",
       "        vertical-align: middle;\n",
       "    }\n",
       "\n",
       "    .dataframe tbody tr th {\n",
       "        vertical-align: top;\n",
       "    }\n",
       "\n",
       "    .dataframe thead th {\n",
       "        text-align: right;\n",
       "    }\n",
       "</style>\n",
       "<table border=\"1\" class=\"dataframe\">\n",
       "  <thead>\n",
       "    <tr style=\"text-align: right;\">\n",
       "      <th></th>\n",
       "      <th>labels</th>\n",
       "      <th>questions</th>\n",
       "      <th>answers</th>\n",
       "    </tr>\n",
       "  </thead>\n",
       "  <tbody>\n",
       "    <tr>\n",
       "      <th>0</th>\n",
       "      <td>haji</td>\n",
       "      <td>Apa yang dimaksud ibadah haji?</td>\n",
       "      <td>Ibadah haji ialah berkunjung ke Baitullah (Ka’...</td>\n",
       "    </tr>\n",
       "    <tr>\n",
       "      <th>1</th>\n",
       "      <td>haji</td>\n",
       "      <td>Apa hukum ibadah haji dan umrah?</td>\n",
       "      <td>Hukum ibadah haji dan umrah adalah wajib bagi ...</td>\n",
       "    </tr>\n",
       "    <tr>\n",
       "      <th>2</th>\n",
       "      <td>haji</td>\n",
       "      <td>Apa setiap ibadah haji harus digabung dengan u...</td>\n",
       "      <td>Ibadah haji dan ibadah umrah merupa- kan 2 (du...</td>\n",
       "    </tr>\n",
       "    <tr>\n",
       "      <th>3</th>\n",
       "      <td>haji</td>\n",
       "      <td>Apa yang dimaksud haji tamattu?</td>\n",
       "      <td>Haji tamattu’ ialah melakukan umrah lebih dahu...</td>\n",
       "    </tr>\n",
       "    <tr>\n",
       "      <th>4</th>\n",
       "      <td>haji</td>\n",
       "      <td>Apa yang dimaksud haji ifrad?</td>\n",
       "      <td>Haji ifrad ialah melakukan haji saja. Bagi yan...</td>\n",
       "    </tr>\n",
       "  </tbody>\n",
       "</table>\n",
       "</div>"
      ],
      "text/plain": [
       "  labels                                          questions  \\\n",
       "0   haji                     Apa yang dimaksud ibadah haji?   \n",
       "1   haji                   Apa hukum ibadah haji dan umrah?   \n",
       "2   haji  Apa setiap ibadah haji harus digabung dengan u...   \n",
       "3   haji                    Apa yang dimaksud haji tamattu?   \n",
       "4   haji                      Apa yang dimaksud haji ifrad?   \n",
       "\n",
       "                                             answers  \n",
       "0  Ibadah haji ialah berkunjung ke Baitullah (Ka’...  \n",
       "1  Hukum ibadah haji dan umrah adalah wajib bagi ...  \n",
       "2  Ibadah haji dan ibadah umrah merupa- kan 2 (du...  \n",
       "3  Haji tamattu’ ialah melakukan umrah lebih dahu...  \n",
       "4  Haji ifrad ialah melakukan haji saja. Bagi yan...  "
      ]
     },
     "execution_count": 4,
     "metadata": {},
     "output_type": "execute_result"
    }
   ],
   "source": [
    "df.head()"
   ]
  },
  {
   "cell_type": "code",
   "execution_count": 5,
   "metadata": {},
   "outputs": [
    {
     "data": {
      "text/plain": [
       "0                          apa yang dimaksud ibadah haji\n",
       "1                        apa hukum ibadah haji dan umrah\n",
       "2      apa setiap ibadah haji harus digabung dengan u...\n",
       "3                         apa yang dimaksud haji tamattu\n",
       "4                           apa yang dimaksud haji ifrad\n",
       "                             ...                        \n",
       "357    apakah arti dari tahallul dan kapan pelaksanaa...\n",
       "358             jamaah haji melaksanakan tahallul dimana\n",
       "359                                 kapan tahallul kedua\n",
       "360                              apa makna dari tahallul\n",
       "361    larangan apakah yang masih berlaku bagi jamaah...\n",
       "Name: punc, Length: 362, dtype: object"
      ]
     },
     "execution_count": 5,
     "metadata": {},
     "output_type": "execute_result"
    }
   ],
   "source": [
    "# Regex (punctuation) & Case Folding (merubah menjadi lower case)\n",
    "import string\n",
    "import re\n",
    "string.punctuation\n",
    "character = '!\"#$%&()*+,./:;<=>?@[\\]^_`{|}~\\'0123456789'\n",
    "# #defining the function to remove punctuation\n",
    "def remove_punctuation(text):\n",
    "    punctuationfree=\"\".join([i for i in text if i not in character])\n",
    "    return punctuationfree\n",
    "\n",
    "# Storing the puntuation free text\n",
    "# Menjadikan df['punc'] sebagai Lower Case\n",
    "df['punc']= df['questions'].apply(lambda x:remove_punctuation(x).lower())\n",
    "df['punc']"
   ]
  },
  {
   "cell_type": "code",
   "execution_count": 6,
   "metadata": {},
   "outputs": [],
   "source": [
    "# NORMALIZATION\n",
    "# Untuk menormalisasi dan menyamakan beberapa kata\n",
    "with open('normalisasi.json','r') as f:\n",
    "    data = json.loads(f.read())\n",
    "    \n",
    "# Normalizing data\n",
    "normalizad_word = pd.json_normalize(data, record_path =['items'])"
   ]
  },
  {
   "cell_type": "code",
   "execution_count": 7,
   "metadata": {},
   "outputs": [
    {
     "data": {
      "text/plain": [
       "0                    [apa, yang, dimaksud, ibadah, haji]\n",
       "1                 [apa, hukum, ibadah, haji, dan, umrah]\n",
       "2      [apa, setiap, ibadah, haji, harus, digabung, d...\n",
       "3                   [apa, yang, dimaksud, haji, tamattu]\n",
       "4                     [apa, yang, dimaksud, haji, ifrad]\n",
       "                             ...                        \n",
       "357    [apakah, arti, dari, tahallul, dan, kapan, pel...\n",
       "358       [jemaah, haji, melaksanakan, tahallul, dimana]\n",
       "359                             [kapan, tahallul, kedua]\n",
       "360                         [apa, makna, dari, tahallul]\n",
       "361    [larangan, apakah, yang, masih, berlaku, bagi,...\n",
       "Name: normalized, Length: 362, dtype: object"
      ]
     },
     "execution_count": 7,
     "metadata": {},
     "output_type": "execute_result"
    }
   ],
   "source": [
    "# Lakukan tokenizer terlebih dahulu\n",
    "from nltk.tokenize import word_tokenize \n",
    "from nltk.tokenize.treebank import TreebankWordDetokenizer\n",
    "\n",
    "# Fungsi untuk melakukan Tokenizing\n",
    "def word_tokenize_wrapper(text):\n",
    "    return word_tokenize(text)\n",
    "\n",
    "# Fungsi untuk melakukan normalisasi\n",
    "def normalized_term(document):\n",
    "    return [normalizad_word_dict[term] if term in normalizad_word_dict else term for term in document]\n",
    "\n",
    "# Memasukan hasil dari penghapusan kalimat ke dalam tokenize\n",
    "df['tokenize'] = df['punc'].apply(word_tokenize_wrapper)\n",
    "\n",
    "normalizad_word_dict = {}\n",
    "\n",
    "for index, row in normalizad_word.iterrows():\n",
    "    if row[0] not in normalizad_word_dict:\n",
    "        normalizad_word_dict[row[0]] = row[1] \n",
    "\n",
    "df['normalized'] = df['tokenize'].apply(normalized_term)\n",
    "\n",
    "# Mengembalikan text normalisasi kembali ke teks\n",
    "# Karena agar memudah dalam melakukan tokenizing dengan melakukan library keras\n",
    "df['normalized']"
   ]
  },
  {
   "cell_type": "code",
   "execution_count": 8,
   "metadata": {},
   "outputs": [
    {
     "data": {
      "text/plain": [
       "0                          apa yang dimaksud ibadah haji\n",
       "1                        apa hukum ibadah haji dan umrah\n",
       "2      apa setiap ibadah haji harus digabung dengan u...\n",
       "3                         apa yang dimaksud haji tamattu\n",
       "4                           apa yang dimaksud haji ifrad\n",
       "                             ...                        \n",
       "357    apakah arti dari tahallul dan kapan pelaksanaa...\n",
       "358             jemaah haji melaksanakan tahallul dimana\n",
       "359                                 kapan tahallul kedua\n",
       "360                              apa makna dari tahallul\n",
       "361    larangan apakah yang masih berlaku bagi jemaah...\n",
       "Name: normalized, Length: 362, dtype: object"
      ]
     },
     "execution_count": 8,
     "metadata": {},
     "output_type": "execute_result"
    }
   ],
   "source": [
    "from nltk.tokenize.treebank import TreebankWordDetokenizer\n",
    "\n",
    "def detoken(text):\n",
    "    text_detokenize = TreebankWordDetokenizer().detokenize(text)\n",
    "    return text_detokenize\n",
    "\n",
    "\n",
    "df['normalized'] = df['normalized'].apply(lambda x: detoken(x))\n",
    "df['normalized']"
   ]
  },
  {
   "cell_type": "code",
   "execution_count": 9,
   "metadata": {},
   "outputs": [],
   "source": [
    "# # Mencoba menggunakan Steaming\n",
    "# from Sastrawi.Stemmer.StemmerFactory import StemmerFactory\n",
    "# factory = StemmerFactory()\n",
    "# stemmer = factory.create_stemmer()\n",
    "\n",
    "# def stemming(text):\n",
    "#     stream = stemmer.stem(text)\n",
    "#     return stream\n",
    "\n",
    "# df['stemming'] = df['normalized'].apply(lambda x: stemming(x))\n",
    "# df['stemming'] "
   ]
  },
  {
   "cell_type": "code",
   "execution_count": 10,
   "metadata": {},
   "outputs": [
    {
     "data": {
      "text/html": [
       "<div>\n",
       "<style scoped>\n",
       "    .dataframe tbody tr th:only-of-type {\n",
       "        vertical-align: middle;\n",
       "    }\n",
       "\n",
       "    .dataframe tbody tr th {\n",
       "        vertical-align: top;\n",
       "    }\n",
       "\n",
       "    .dataframe thead th {\n",
       "        text-align: right;\n",
       "    }\n",
       "</style>\n",
       "<table border=\"1\" class=\"dataframe\">\n",
       "  <thead>\n",
       "    <tr style=\"text-align: right;\">\n",
       "      <th></th>\n",
       "      <th>labels</th>\n",
       "      <th>questions</th>\n",
       "      <th>answers</th>\n",
       "      <th>punc</th>\n",
       "      <th>tokenize</th>\n",
       "      <th>normalized</th>\n",
       "    </tr>\n",
       "  </thead>\n",
       "  <tbody>\n",
       "    <tr>\n",
       "      <th>0</th>\n",
       "      <td>haji</td>\n",
       "      <td>Apa yang dimaksud ibadah haji?</td>\n",
       "      <td>Ibadah haji ialah berkunjung ke Baitullah (Ka’...</td>\n",
       "      <td>apa yang dimaksud ibadah haji</td>\n",
       "      <td>[apa, yang, dimaksud, ibadah, haji]</td>\n",
       "      <td>apa yang dimaksud ibadah haji</td>\n",
       "    </tr>\n",
       "    <tr>\n",
       "      <th>1</th>\n",
       "      <td>haji</td>\n",
       "      <td>Apa hukum ibadah haji dan umrah?</td>\n",
       "      <td>Hukum ibadah haji dan umrah adalah wajib bagi ...</td>\n",
       "      <td>apa hukum ibadah haji dan umrah</td>\n",
       "      <td>[apa, hukum, ibadah, haji, dan, umrah]</td>\n",
       "      <td>apa hukum ibadah haji dan umrah</td>\n",
       "    </tr>\n",
       "    <tr>\n",
       "      <th>2</th>\n",
       "      <td>haji</td>\n",
       "      <td>Apa setiap ibadah haji harus digabung dengan u...</td>\n",
       "      <td>Ibadah haji dan ibadah umrah merupa- kan 2 (du...</td>\n",
       "      <td>apa setiap ibadah haji harus digabung dengan u...</td>\n",
       "      <td>[apa, setiap, ibadah, haji, harus, digabung, d...</td>\n",
       "      <td>apa setiap ibadah haji harus digabung dengan u...</td>\n",
       "    </tr>\n",
       "    <tr>\n",
       "      <th>3</th>\n",
       "      <td>haji</td>\n",
       "      <td>Apa yang dimaksud haji tamattu?</td>\n",
       "      <td>Haji tamattu’ ialah melakukan umrah lebih dahu...</td>\n",
       "      <td>apa yang dimaksud haji tamattu</td>\n",
       "      <td>[apa, yang, dimaksud, haji, tamattu]</td>\n",
       "      <td>apa yang dimaksud haji tamattu</td>\n",
       "    </tr>\n",
       "    <tr>\n",
       "      <th>4</th>\n",
       "      <td>haji</td>\n",
       "      <td>Apa yang dimaksud haji ifrad?</td>\n",
       "      <td>Haji ifrad ialah melakukan haji saja. Bagi yan...</td>\n",
       "      <td>apa yang dimaksud haji ifrad</td>\n",
       "      <td>[apa, yang, dimaksud, haji, ifrad]</td>\n",
       "      <td>apa yang dimaksud haji ifrad</td>\n",
       "    </tr>\n",
       "  </tbody>\n",
       "</table>\n",
       "</div>"
      ],
      "text/plain": [
       "  labels                                          questions  \\\n",
       "0   haji                     Apa yang dimaksud ibadah haji?   \n",
       "1   haji                   Apa hukum ibadah haji dan umrah?   \n",
       "2   haji  Apa setiap ibadah haji harus digabung dengan u...   \n",
       "3   haji                    Apa yang dimaksud haji tamattu?   \n",
       "4   haji                      Apa yang dimaksud haji ifrad?   \n",
       "\n",
       "                                             answers  \\\n",
       "0  Ibadah haji ialah berkunjung ke Baitullah (Ka’...   \n",
       "1  Hukum ibadah haji dan umrah adalah wajib bagi ...   \n",
       "2  Ibadah haji dan ibadah umrah merupa- kan 2 (du...   \n",
       "3  Haji tamattu’ ialah melakukan umrah lebih dahu...   \n",
       "4  Haji ifrad ialah melakukan haji saja. Bagi yan...   \n",
       "\n",
       "                                                punc  \\\n",
       "0                      apa yang dimaksud ibadah haji   \n",
       "1                    apa hukum ibadah haji dan umrah   \n",
       "2  apa setiap ibadah haji harus digabung dengan u...   \n",
       "3                     apa yang dimaksud haji tamattu   \n",
       "4                       apa yang dimaksud haji ifrad   \n",
       "\n",
       "                                            tokenize  \\\n",
       "0                [apa, yang, dimaksud, ibadah, haji]   \n",
       "1             [apa, hukum, ibadah, haji, dan, umrah]   \n",
       "2  [apa, setiap, ibadah, haji, harus, digabung, d...   \n",
       "3               [apa, yang, dimaksud, haji, tamattu]   \n",
       "4                 [apa, yang, dimaksud, haji, ifrad]   \n",
       "\n",
       "                                          normalized  \n",
       "0                      apa yang dimaksud ibadah haji  \n",
       "1                    apa hukum ibadah haji dan umrah  \n",
       "2  apa setiap ibadah haji harus digabung dengan u...  \n",
       "3                     apa yang dimaksud haji tamattu  \n",
       "4                       apa yang dimaksud haji ifrad  "
      ]
     },
     "execution_count": 10,
     "metadata": {},
     "output_type": "execute_result"
    }
   ],
   "source": [
    "df.head()"
   ]
  },
  {
   "cell_type": "code",
   "execution_count": 11,
   "metadata": {},
   "outputs": [],
   "source": [
    "# Save dataset to json\n",
    "# new_data = [df['labels'], df['questions'], df['answers'], df['stemming']]\n",
    "# headers = ['labels', 'questions', 'answers', 'stemming']\n",
    "# new_df = pd.concat(new_data, axis=1, keys=headers)\n",
    "\n",
    "\n",
    "# new_df.to_json('data.json', orient='records')\n",
    "# # lakukan beautiful json di internet\n",
    "\n",
    "# new_df.head()"
   ]
  },
  {
   "cell_type": "code",
   "execution_count": 12,
   "metadata": {},
   "outputs": [],
   "source": [
    "# Preparing question to X\n",
    "questions = df.normalized\n",
    "tokenizer = Tokenizer()\n",
    "tokenizer.fit_on_texts(questions)\n",
    "sequences = tokenizer.texts_to_sequences(questions)\n",
    "# Banyak kata yang telah di tokenizer\n",
    "word_index = tokenizer.word_index"
   ]
  },
  {
   "cell_type": "code",
   "execution_count": 13,
   "metadata": {},
   "outputs": [],
   "source": [
    "# word_index"
   ]
  },
  {
   "cell_type": "code",
   "execution_count": 14,
   "metadata": {},
   "outputs": [],
   "source": [
    "# memasukan hasil tokenizer ke dalam X \n",
    "X = pad_sequences(sequences, maxlen=MAX_SEQUENCES_LENGTH, padding='post')"
   ]
  },
  {
   "cell_type": "code",
   "execution_count": 15,
   "metadata": {},
   "outputs": [],
   "source": [
    "# Preparing Y\n",
    "# encode label because label alfabetic\n",
    "# menjadikan label ke kategorikal\n",
    "le = LabelEncoder()\n",
    "label = df.labels\n",
    "labelEncode = le.fit_transform(label)\n",
    "y = to_categorical(labelEncode)"
   ]
  },
  {
   "cell_type": "code",
   "execution_count": 16,
   "metadata": {},
   "outputs": [
    {
     "data": {
      "image/png": "[encoded data removed]",
      "text/plain": [
       "<Figure size 576x432 with 1 Axes>"
      ]
     },
     "metadata": {
      "needs_background": "light"
     },
     "output_type": "display_data"
    }
   ],
   "source": [
    "fig = plt.figure(figsize=(8,6))\n",
    "df.groupby('labels').questions.count().plot.bar(ylim=0)\n",
    "plt.show()"
   ]
  },
  {
   "cell_type": "code",
   "execution_count": 17,
   "metadata": {},
   "outputs": [],
   "source": [
    "# df = preprocess_corpus(df, column='questions')\n",
    "# df.head()"
   ]
  },
  {
   "cell_type": "code",
   "execution_count": 18,
   "metadata": {},
   "outputs": [
    {
     "data": {
      "text/plain": [
       "['armuzna',\n",
       " 'badal',\n",
       " 'dam',\n",
       " 'haji',\n",
       " 'ihram',\n",
       " 'jumrah',\n",
       " 'miqat',\n",
       " 'perempuan',\n",
       " 'sai',\n",
       " 'tahallul',\n",
       " 'tempat_khusus',\n",
       " 'thawaf',\n",
       " 'umrah']"
      ]
     },
     "execution_count": 18,
     "metadata": {},
     "output_type": "execute_result"
    }
   ],
   "source": [
    "# untuk melihat hasi lebel yang telah diencode\n",
    "list(le.classes_)\n",
    "# labelEncode"
   ]
  },
  {
   "cell_type": "code",
   "execution_count": null,
   "metadata": {},
   "outputs": [],
   "source": [
    "# bagi data menjadi 2 train dan test\n",
    "# X_train, X_test, y_train, y_test = train_test_split(X, y, test_size=0.4, random_state=20, stratify=y)"
   ]
  },
  {
   "cell_type": "code",
   "execution_count": 19,
   "metadata": {},
   "outputs": [],
   "source": [
    "import pickle\n",
    "# with open('pengujian/final/split_dataset/datset60.pickle', 'wb') as f:\n",
    "#     pickle.dump([X_train, X_test, y_train, y_test], f)"
   ]
  },
  {
   "cell_type": "code",
   "execution_count": 20,
   "metadata": {},
   "outputs": [],
   "source": [
    "with open('pengujian/final/split_dataset/datset60.pickle', 'rb') as f:\n",
    "    X_train80, X_test80, y_train80, y_test80 = pickle.load(f)"
   ]
  },
  {
   "cell_type": "code",
   "execution_count": null,
   "metadata": {},
   "outputs": [],
   "source": [
    "# checkpoint_path = 'data-target-model-wtl.h5'\n",
    "# early_stopper = EarlyStopping(monitor='val_accuracy', patience=5, verbose=0, mode='auto')\n",
    "# checkpointer = ModelCheckpoint(filepath=checkpoint_path, verbose=0, save_best_only=True)\n",
    "\n",
    "# tinggal memnambahkan callback pada model fit\n",
    "# untuk menyimpan model terbaik juga"
   ]
  },
  {
   "cell_type": "code",
   "execution_count": 21,
   "metadata": {},
   "outputs": [
    {
     "name": "stdout",
     "output_type": "stream",
     "text": [
      "Indexing word vectors.\n",
      "Found 331286 word vectors.\n"
     ]
    }
   ],
   "source": [
    "# testing Glove\n",
    "print('Indexing word vectors.')\n",
    "\n",
    "embeddings_index = {}\n",
    "f = open(os.path.join('dataset/glove/vectors.txt'), encoding='utf-8')\n",
    "for line in f:\n",
    "    values = line.split()\n",
    "    word = values[0]\n",
    "    coefs = np.asarray(values[1:], dtype='float32')\n",
    "    embeddings_index[word] = coefs\n",
    "f.close()\n",
    "\n",
    "print('Found %s word vectors.' % len(embeddings_index))"
   ]
  },
  {
   "cell_type": "code",
   "execution_count": 22,
   "metadata": {},
   "outputs": [],
   "source": [
    "hits = 0\n",
    "misses = 0\n",
    "index = []\n",
    "num_words = min(MAX_NB_WORDS, len(word_index))\n",
    "embedding_matrix = np.zeros((len(word_index) + 1, EMBEDDING_DIM))\n",
    "for word, i in word_index.items():\n",
    "    embedding_vector = embeddings_index.get(word)\n",
    "    if embedding_vector is not None:\n",
    "        # words not found in embedding index will be all-zeros.\n",
    "        embedding_matrix[i] = embedding_vector\n",
    "        hits += 1\n",
    "    else:\n",
    "        misses += 1\n",
    "        index.append(word)"
   ]
  },
  {
   "cell_type": "code",
   "execution_count": 23,
   "metadata": {},
   "outputs": [],
   "source": [
    "# emb =  embeddings_index.get(\"kan\")\n",
    "# emb"
   ]
  },
  {
   "cell_type": "code",
   "execution_count": 24,
   "metadata": {},
   "outputs": [],
   "source": [
    "# print(\"Converted %d words (%d misses)\" % (hits, misses))"
   ]
  },
  {
   "cell_type": "code",
   "execution_count": 25,
   "metadata": {},
   "outputs": [],
   "source": [
    "# create model CNN\n",
    "def build_cnn_model():\n",
    "    model = Sequential()\n",
    "    \n",
    "    model.add(Embedding(len(word_index) + 1, EMBEDDING_DIM, input_length=MAX_SEQUENCES_LENGTH,weights=[embedding_matrix],trainable=True))\n",
    "   # model.add(Embedding(len(word_index) + 1, EMBEDDING_DIM, input_length=MAX_SEQUENCES_LENGTH))\n",
    "    model.add(Conv1D(128, 3, padding='same', activation='relu'))\n",
    "    # bisa menggunakan 128 atau 64\n",
    "#     model.add(MaxPooling1D(2))\n",
    "\n",
    "    model.add(GlobalMaxPooling1D())\n",
    "#     model.add(Dropout(0.5))\n",
    "#     model.add(Flatten())\n",
    "    \n",
    "    model.add(Dense(64,activation=\"relu\"))\n",
    "    model.add(Dense(13, activation='softmax'))\n",
    "    \n",
    "    model.compile(optimizer=\"adam\",metrics=[\"accuracy\"],loss=\"categorical_crossentropy\")\n",
    "    model.summary()\n",
    "    return model"
   ]
  },
  {
   "cell_type": "code",
   "execution_count": 26,
   "metadata": {},
   "outputs": [
    {
     "name": "stdout",
     "output_type": "stream",
     "text": [
      "Model: \"sequential\"\n",
      "_________________________________________________________________\n",
      "Layer (type)                 Output Shape              Param #   \n",
      "=================================================================\n",
      "embedding (Embedding)        (None, 50, 50)            26750     \n",
      "_________________________________________________________________\n",
      "conv1d (Conv1D)              (None, 50, 128)           19328     \n",
      "_________________________________________________________________\n",
      "global_max_pooling1d (Global (None, 128)               0         \n",
      "_________________________________________________________________\n",
      "dense (Dense)                (None, 64)                8256      \n",
      "_________________________________________________________________\n",
      "dense_1 (Dense)              (None, 13)                845       \n",
      "=================================================================\n",
      "Total params: 55,179\n",
      "Trainable params: 55,179\n",
      "Non-trainable params: 0\n",
      "_________________________________________________________________\n"
     ]
    }
   ],
   "source": [
    "# Train Model\n",
    "cnn_model = build_cnn_model()"
   ]
  },
  {
   "cell_type": "code",
   "execution_count": 27,
   "metadata": {},
   "outputs": [
    {
     "name": "stdout",
     "output_type": "stream",
     "text": [
      "Epoch 1/40\n",
      "7/7 [==============================] - 14s 77ms/step - loss: 2.7059 - accuracy: 0.0978 - val_loss: 2.4842 - val_accuracy: 0.1379\n",
      "Epoch 2/40\n",
      "7/7 [==============================] - 0s 8ms/step - loss: 2.3510 - accuracy: 0.2635 - val_loss: 2.3349 - val_accuracy: 0.2483\n",
      "Epoch 3/40\n",
      "7/7 [==============================] - 0s 10ms/step - loss: 2.1511 - accuracy: 0.4289 - val_loss: 2.1928 - val_accuracy: 0.2966\n",
      "Epoch 4/40\n",
      "7/7 [==============================] - 0s 14ms/step - loss: 1.9109 - accuracy: 0.6157 - val_loss: 2.0580 - val_accuracy: 0.4069\n",
      "Epoch 5/40\n",
      "7/7 [==============================] - 0s 13ms/step - loss: 1.6619 - accuracy: 0.7320 - val_loss: 1.8766 - val_accuracy: 0.5172\n",
      "Epoch 6/40\n",
      "7/7 [==============================] - 0s 9ms/step - loss: 1.4164 - accuracy: 0.8073 - val_loss: 1.7008 - val_accuracy: 0.6138\n",
      "Epoch 7/40\n",
      "7/7 [==============================] - 0s 7ms/step - loss: 1.1664 - accuracy: 0.9008 - val_loss: 1.5317 - val_accuracy: 0.6552\n",
      "Epoch 8/40\n",
      "7/7 [==============================] - 0s 7ms/step - loss: 0.9871 - accuracy: 0.8917 - val_loss: 1.3637 - val_accuracy: 0.7034\n",
      "Epoch 9/40\n",
      "7/7 [==============================] - 0s 7ms/step - loss: 0.7090 - accuracy: 0.9558 - val_loss: 1.2003 - val_accuracy: 0.7103\n",
      "Epoch 10/40\n",
      "7/7 [==============================] - 0s 7ms/step - loss: 0.5636 - accuracy: 0.9886 - val_loss: 1.0688 - val_accuracy: 0.7862\n",
      "Epoch 11/40\n",
      "7/7 [==============================] - 0s 7ms/step - loss: 0.4256 - accuracy: 0.9779 - val_loss: 0.9583 - val_accuracy: 0.7931\n",
      "Epoch 12/40\n",
      "7/7 [==============================] - 0s 7ms/step - loss: 0.3081 - accuracy: 0.9904 - val_loss: 0.8593 - val_accuracy: 0.8414\n",
      "Epoch 13/40\n",
      "7/7 [==============================] - 0s 7ms/step - loss: 0.2343 - accuracy: 0.9964 - val_loss: 0.7895 - val_accuracy: 0.8621\n",
      "Epoch 14/40\n",
      "7/7 [==============================] - 0s 7ms/step - loss: 0.1825 - accuracy: 0.9964 - val_loss: 0.7240 - val_accuracy: 0.8414\n",
      "Epoch 15/40\n",
      "7/7 [==============================] - 0s 7ms/step - loss: 0.1475 - accuracy: 0.9932 - val_loss: 0.6836 - val_accuracy: 0.8621\n",
      "Epoch 16/40\n",
      "7/7 [==============================] - 0s 7ms/step - loss: 0.0996 - accuracy: 1.0000 - val_loss: 0.6512 - val_accuracy: 0.8552\n",
      "Epoch 17/40\n",
      "7/7 [==============================] - 0s 7ms/step - loss: 0.0891 - accuracy: 1.0000 - val_loss: 0.6223 - val_accuracy: 0.8690\n",
      "Epoch 18/40\n",
      "7/7 [==============================] - 0s 7ms/step - loss: 0.0727 - accuracy: 1.0000 - val_loss: 0.5992 - val_accuracy: 0.8621\n",
      "Epoch 19/40\n",
      "7/7 [==============================] - 0s 7ms/step - loss: 0.0563 - accuracy: 1.0000 - val_loss: 0.5780 - val_accuracy: 0.8690\n",
      "Epoch 20/40\n",
      "7/7 [==============================] - 0s 7ms/step - loss: 0.0509 - accuracy: 1.0000 - val_loss: 0.5572 - val_accuracy: 0.8621\n",
      "Epoch 21/40\n",
      "7/7 [==============================] - 0s 7ms/step - loss: 0.0434 - accuracy: 1.0000 - val_loss: 0.5468 - val_accuracy: 0.8621\n",
      "Epoch 22/40\n",
      "7/7 [==============================] - 0s 7ms/step - loss: 0.0362 - accuracy: 1.0000 - val_loss: 0.5356 - val_accuracy: 0.8690\n",
      "Epoch 23/40\n",
      "7/7 [==============================] - 0s 7ms/step - loss: 0.0308 - accuracy: 1.0000 - val_loss: 0.5249 - val_accuracy: 0.8690\n",
      "Epoch 24/40\n",
      "7/7 [==============================] - 0s 7ms/step - loss: 0.0322 - accuracy: 1.0000 - val_loss: 0.5159 - val_accuracy: 0.8759\n",
      "Epoch 25/40\n",
      "7/7 [==============================] - 0s 7ms/step - loss: 0.0269 - accuracy: 1.0000 - val_loss: 0.5060 - val_accuracy: 0.8690\n",
      "Epoch 26/40\n",
      "7/7 [==============================] - 0s 7ms/step - loss: 0.0249 - accuracy: 1.0000 - val_loss: 0.4990 - val_accuracy: 0.8690\n",
      "Epoch 27/40\n",
      "7/7 [==============================] - 0s 7ms/step - loss: 0.0223 - accuracy: 1.0000 - val_loss: 0.4929 - val_accuracy: 0.8690\n",
      "Epoch 28/40\n",
      "7/7 [==============================] - 0s 7ms/step - loss: 0.0203 - accuracy: 1.0000 - val_loss: 0.4865 - val_accuracy: 0.8690\n",
      "Epoch 29/40\n",
      "7/7 [==============================] - 0s 7ms/step - loss: 0.0179 - accuracy: 1.0000 - val_loss: 0.4819 - val_accuracy: 0.8690\n",
      "Epoch 30/40\n",
      "7/7 [==============================] - 0s 7ms/step - loss: 0.0172 - accuracy: 1.0000 - val_loss: 0.4769 - val_accuracy: 0.8690\n",
      "Epoch 31/40\n",
      "7/7 [==============================] - 0s 7ms/step - loss: 0.0153 - accuracy: 1.0000 - val_loss: 0.4733 - val_accuracy: 0.8690\n",
      "Epoch 32/40\n",
      "7/7 [==============================] - 0s 7ms/step - loss: 0.0141 - accuracy: 1.0000 - val_loss: 0.4692 - val_accuracy: 0.8759\n",
      "Epoch 33/40\n",
      "7/7 [==============================] - 0s 7ms/step - loss: 0.0131 - accuracy: 1.0000 - val_loss: 0.4648 - val_accuracy: 0.8690\n",
      "Epoch 34/40\n",
      "7/7 [==============================] - 0s 7ms/step - loss: 0.0132 - accuracy: 1.0000 - val_loss: 0.4625 - val_accuracy: 0.8690\n",
      "Epoch 35/40\n",
      "7/7 [==============================] - 0s 7ms/step - loss: 0.0113 - accuracy: 1.0000 - val_loss: 0.4591 - val_accuracy: 0.8690\n",
      "Epoch 36/40\n",
      "7/7 [==============================] - 0s 7ms/step - loss: 0.0108 - accuracy: 1.0000 - val_loss: 0.4560 - val_accuracy: 0.8690\n",
      "Epoch 37/40\n",
      "7/7 [==============================] - 0s 7ms/step - loss: 0.0103 - accuracy: 1.0000 - val_loss: 0.4531 - val_accuracy: 0.8690\n",
      "Epoch 38/40\n",
      "7/7 [==============================] - 0s 7ms/step - loss: 0.0091 - accuracy: 1.0000 - val_loss: 0.4508 - val_accuracy: 0.8759\n",
      "Epoch 39/40\n",
      "7/7 [==============================] - 0s 8ms/step - loss: 0.0090 - accuracy: 1.0000 - val_loss: 0.4477 - val_accuracy: 0.8759\n",
      "Epoch 40/40\n",
      "7/7 [==============================] - 0s 7ms/step - loss: 0.0091 - accuracy: 1.0000 - val_loss: 0.4457 - val_accuracy: 0.8759\n"
     ]
    }
   ],
   "source": [
    "cnn_history = cnn_model.fit(X_train80,y_train80,epochs=40,validation_data=(X_test80, y_test80))"
   ]
  },
  {
   "cell_type": "code",
   "execution_count": null,
   "metadata": {},
   "outputs": [],
   "source": [
    "# from keras.utils.vis_utils import plot_model\n",
    "# plot_model(cnn_model, to_file='model1.png', show_shapes=True, show_dtype=False, show_layer_names=True, rankdir='TB', expand_nested=True, dpi=96)"
   ]
  },
  {
   "cell_type": "code",
   "execution_count": 30,
   "metadata": {},
   "outputs": [],
   "source": [
    "# save model cnn\n",
    "cnn_model.save('model60_e40.h5')"
   ]
  },
  {
   "cell_type": "code",
   "execution_count": null,
   "metadata": {},
   "outputs": [],
   "source": [
    "# load model\n",
    "# from keras.models import load_model\n",
    "\n",
    "# cnn_model = load_model('pengujian/final/training60_e20/model60_e20.h5')"
   ]
  },
  {
   "cell_type": "code",
   "execution_count": 31,
   "metadata": {},
   "outputs": [
    {
     "data": {
      "image/png": "[encoded data removed]",
      "text/plain": [
       "<Figure size 1440x1152 with 2 Axes>"
      ]
     },
     "metadata": {
      "needs_background": "light"
     },
     "output_type": "display_data"
    }
   ],
   "source": [
    "from sklearn.metrics import accuracy_score, confusion_matrix\n",
    "import seaborn as sns\n",
    "ypred = cnn_model.predict(X_test80)\n",
    "cnn_accuracy = accuracy_score(y_test80.argmax(axis=-1),ypred.argmax(axis=-1))\n",
    "#print(\"CNN Accuracy:\",cnn_accuracy)\n",
    "cnn_cn = confusion_matrix(y_test80.argmax(axis=-1),ypred.argmax(axis=-1))\n",
    "plt.subplots(figsize=(20,16))\n",
    "sns.heatmap(cnn_cn,annot=True,fmt=\"1d\",cmap=\"Blues\",cbar=True,xticklabels=le.classes_,yticklabels=le.classes_)\n",
    "plt.xlabel(\"Predicted\",fontsize=15)\n",
    "plt.ylabel(\"Actual\",fontsize=15)\n",
    "plt.savefig('model60_e40.png')\n",
    "plt.show()"
   ]
  },
  {
   "cell_type": "code",
   "execution_count": 29,
   "metadata": {},
   "outputs": [
    {
     "name": "stdout",
     "output_type": "stream",
     "text": [
      "               precision    recall  f1-score   support\n",
      "\n",
      "      armuzna       0.82      0.82      0.82        17\n",
      "        badal       1.00      0.89      0.94         9\n",
      "          dam       1.00      0.62      0.77         8\n",
      "         haji       0.90      1.00      0.95        18\n",
      "        ihram       0.85      0.85      0.85        13\n",
      "       jumrah       1.00      1.00      1.00        11\n",
      "        miqat       1.00      1.00      1.00         7\n",
      "    perempuan       0.70      0.54      0.61        13\n",
      "          sai       0.91      1.00      0.95        10\n",
      "     tahallul       0.60      0.75      0.67         8\n",
      "tempat_khusus       1.00      0.83      0.91         6\n",
      "       thawaf       0.81      1.00      0.90        13\n",
      "        umrah       1.00      1.00      1.00        12\n",
      "\n",
      "     accuracy                           0.88       145\n",
      "    macro avg       0.89      0.87      0.87       145\n",
      " weighted avg       0.88      0.88      0.87       145\n",
      "\n"
     ]
    }
   ],
   "source": [
    "from sklearn.metrics import classification_report\n",
    "print(classification_report(y_test80.argmax(axis=-1), ypred.argmax(axis=-1),target_names= le.classes_))"
   ]
  },
  {
   "cell_type": "code",
   "execution_count": 32,
   "metadata": {},
   "outputs": [
    {
     "data": {
      "image/png": "[encoded data removed]",
      "text/plain": [
       "<Figure size 1080x360 with 2 Axes>"
      ]
     },
     "metadata": {
      "needs_background": "light"
     },
     "output_type": "display_data"
    }
   ],
   "source": [
    "fig3, axe1 = plt.subplots(nrows=1, ncols=2, figsize=(15,5))\n",
    "axe1[0].plot(cnn_history.history[\"accuracy\"],label=\"accuracy\")\n",
    "axe1[0].plot(cnn_history.history[\"val_accuracy\"],label=\"accuracy\")\n",
    "axe1[0].legend(['train', 'val'], loc='upper left')\n",
    "axe1[1].plot(cnn_history.history[\"loss\"],label=\"loss\")\n",
    "axe1[1].plot(cnn_history.history[\"val_loss\"],label=\"loss\")\n",
    "axe1[1].legend(['train', 'val'], loc='upper left')\n",
    "axe1[0].title.set_text(\"CNN Accuracy\")\n",
    "axe1[1].title.set_text(\"CNN Loss\")\n",
    "axe1[0].set_xlabel(\"Epoch\")\n",
    "axe1[1].set_xlabel(\"Epoch\")\n",
    "axe1[0].set_ylabel(\"Rate\")\n",
    "plt.show()"
   ]
  },
  {
   "cell_type": "code",
   "execution_count": null,
   "metadata": {},
   "outputs": [],
   "source": [
    "from rake_nltk import Rake, Metric\n",
    "from collections import Counter\n",
    "import math\n",
    "\n",
    "r = Rake(language=\"indonesian\", min_length=1, max_length=5)\n",
    "\n",
    "def counter(quest):\n",
    "    counter = Counter(quest)\n",
    "    return counter\n",
    "\n",
    "def counter_cosine_similarity(c1, c2):\n",
    "    terms = set(c1).union(c2)\n",
    "    dotprod = sum(c1.get(k, 0) * c2.get(k, 0) for k in terms)\n",
    "    magA = math.sqrt(sum(c1.get(k, 0)**2 for k in terms))\n",
    "    magB = math.sqrt(sum(c2.get(k, 0)**2 for k in terms))\n",
    "    return dotprod / (magA * magB)\n",
    "\n",
    "def cnn_predict(quest):\n",
    "    puretext = tokenizer.texts_to_sequences(quest)\n",
    "    text_pad = pad_sequences(puretext,maxlen=50,padding='post')\n",
    "    predicted = cnn_model.predict(text_pad)\n",
    "    predicted_category = predicted.argmax(axis=1)\n",
    "    return le.classes_[predicted_category]\n",
    "\n",
    "def get_df(labels):\n",
    "    dfNews = df.loc[df['labels'] == labels]\n",
    "    npQuestions = dfNews.questions.to_numpy()\n",
    "    npAnswers = dfNews.answers.to_numpy()\n",
    "    return npQuestions,npAnswers\n",
    "\n",
    "def rake_question(npQuestions, questUser):\n",
    "    tempRake = []\n",
    "    for i in range(len(npQuestions)):\n",
    "        r.extract_keywords_from_text(npQuestions[i])\n",
    "        tempRake.append(r.get_ranked_phrases())\n",
    "    r.extract_keywords_from_text(questUser[0])\n",
    "    qRake = r.get_ranked_phrases()\n",
    "    return tempRake, qRake\n",
    "    \n",
    "def counter_result(tempRake, qRake):\n",
    "    tempCounter = []\n",
    "    for i in range(len(tempRake)):\n",
    "        tempCounter.append(counter(tempRake[i]))\n",
    "    counterQuestUser = counter(qRake)\n",
    "    return tempCounter, counterQuestUser\n",
    "\n",
    "def score_cosine(tempCounter, counterQuestUser):\n",
    "    scoresCosine = []\n",
    "    for i in range(len(tempCounter)):\n",
    "        scoresCosine.append(counter_cosine_similarity(counterQuestUser, tempCounter[i]) * 100)\n",
    "    npScore = np.array(scoresCosine)\n",
    "    maxScore = np.amax(npScore)\n",
    "    indexQuest = np.argmax(npScore)\n",
    "    return maxScore, indexQuest"
   ]
  },
  {
   "cell_type": "code",
   "execution_count": null,
   "metadata": {},
   "outputs": [],
   "source": [
    "questUser = ['bagaimana cara sai']\n",
    "\n",
    "label = cnn_predict(questUser)\n",
    "npQuestion , npAnswer = get_df(label[0])\n",
    "tempRake, qRake = rake_question(npQuestion, questUser)\n",
    "tempCounter, counterQuestUser = counter_result(tempRake, qRake)\n",
    "maxScore, indexQuest = score_cosine(tempCounter, counterQuestUser)\n",
    "\n",
    "print(\"label: \" + label[0])\n",
    "print(\"MaxScore \" + str(maxScore))\n",
    "print(\"prediksi question = \" + npQuestion[indexQuest])\n",
    "print(\"prediksi Answer = \" + npAnswer[indexQuest])"
   ]
  },
  {
   "cell_type": "code",
   "execution_count": null,
   "metadata": {},
   "outputs": [],
   "source": [
    "# Tambahan yg ada di backend dalam melakukan predict\n",
    "# ini proses ketika sampai mendapatkan hasil intent\n",
    "\n",
    "questUser = \"Apa saja ibadah sa'i ciri-ciri yg boleh thowaf dilakukan oleh perempuan selama haid dalam ibadah haji?\"\n",
    "\n",
    "# 1. punctuation\n",
    "\n",
    "character = '!\"#$%&()*+,./:;<=>?@[\\]^_`{|}~\\'0123456789'\n",
    "# #defining the function to remove punctuation\n",
    "def remove_punctuation(text):\n",
    "    punctuationfree=\"\".join([i for i in text if i not in character])\n",
    "    return punctuationfree\n",
    "\n",
    "# 2. Normalisasi\n",
    "# tokenizing tapi menggunakan fungsi split\n",
    "\n",
    "# normalisasi dengan mengganti kata\n",
    "def normalization(tokens):\n",
    "    for idx, items in enumerate(tokens):\n",
    "        for j in range(len(normalizad_word.before)):\n",
    "            if items == normalizad_word.before[j]:\n",
    "                tokens[idx] = normalizad_word.after[j]\n",
    "    result_normalized = \" \".join(tokens)\n",
    "    return result_normalized\n",
    "# 4. predict label\n",
    "# def cnn_predict(quest):\n",
    "#     puretext = tokenizer.texts_to_sequences(quest)\n",
    "#     text_pad = pad_sequences(puretext,maxlen=50,padding='post')\n",
    "#     predicted = cnn_model.predict(text_pad)\n",
    "#     predicted_category = predicted.argmax(axis=1)\n",
    "#     return le.classes_[predicted_category]\n",
    "\n",
    "\n",
    "res = remove_punctuation(questUser)\n",
    "# lakukan tokenizing (klu tidak bisa pake nltk bisa menggunkan spit saja)\n",
    "tokens = res.split()\n",
    "norm = normalization(tokens)\n",
    "norm"
   ]
  },
  {
   "cell_type": "code",
   "execution_count": null,
   "metadata": {},
   "outputs": [],
   "source": [
    "# untuk entity\n",
    "# 1. puntuation\n",
    "# 2. Normalisasi\n",
    "# 3. Stemming\n",
    "# 4. Rake\n",
    "\n",
    "# gabungin dengan keduanya dengan cosine similarity"
   ]
  },
  {
   "cell_type": "code",
   "execution_count": null,
   "metadata": {},
   "outputs": [],
   "source": [
    "puretext"
   ]
  },
  {
   "cell_type": "markdown",
   "metadata": {},
   "source": [
    "batas"
   ]
  },
  {
   "cell_type": "code",
   "execution_count": null,
   "metadata": {},
   "outputs": [],
   "source": [
    "# Mengambil data frame yg question\n",
    "dfNew = df.loc[df['labels'] == 'investasi']"
   ]
  },
  {
   "cell_type": "markdown",
   "metadata": {},
   "source": [
    "Menngunakan Rake untuk mencari jawaban"
   ]
  },
  {
   "cell_type": "code",
   "execution_count": null,
   "metadata": {},
   "outputs": [],
   "source": [
    "# algoritma MIT Licesence https://github.com/csurfer/rake-nltk\n",
    "from rake_nltk import Rake, Metric"
   ]
  },
  {
   "cell_type": "markdown",
   "metadata": {},
   "source": [
    "TO CONTROL STOPWORD\n",
    "\n",
    "    r = Rake(\n",
    "        stopwords=<list of stopwords>,\n",
    "        punctuations=<string of puntuations to ignore>\n",
    "    )\n",
    "    \n",
    "TO CONTROL METRIC FOR RANKING\n",
    "\n",
    "    # Paper uses d(w)/f(w) as the final metric. You can use this API with the\n",
    "    # following metrics:\n",
    "\n",
    "    # 1. d(w)/f(w) (Default metric) Ratio of degree of word to its frequency.\n",
    "    r = Rake(ranking_metric=Metric.DEGREE_TO_FREQUENCY_RATIO)\n",
    "\n",
    "    # 2. d(w) Degree of word only.\n",
    "    r = Rake(ranking_metric=Metric.WORD_DEGREE)\n",
    "\n",
    "    # 3. f(w) Frequency of word only.\n",
    "    r = Rake(ranking_metric=Metric.WORD_FREQUENCY)\n",
    " \n",
    "TO CONTROL THE MAX OR MIN WORDS IN A PHARSE\n",
    "\n",
    "    r = Rake(min_length=2, max_length=4)\n"
   ]
  },
  {
   "cell_type": "code",
   "execution_count": null,
   "metadata": {},
   "outputs": [],
   "source": [
    "# fungsi stopword indonesia\n",
    "r = Rake(language=\"indonesian\", min_length=1, max_length=5)"
   ]
  },
  {
   "cell_type": "code",
   "execution_count": null,
   "metadata": {},
   "outputs": [],
   "source": [
    "# testing rake\n",
    "textsu = \"Dimana tempat untuk wukuf?\"\n",
    "r.extract_keywords_from_text(textsu)\n",
    "r.get_ranked_phrases_with_scores()"
   ]
  },
  {
   "cell_type": "markdown",
   "metadata": {},
   "source": [
    "Merubah question ke bentuk rake dan masukan kedalam list https://stackoverflow.com/questions/55162668/calculate-similarity-between-list-of-words"
   ]
  },
  {
   "cell_type": "code",
   "execution_count": null,
   "metadata": {},
   "outputs": [],
   "source": [
    "npQuestions = dfNew.questions.to_numpy()\n",
    "npAnswers = dfNew.answers.to_numpy()"
   ]
  },
  {
   "cell_type": "code",
   "execution_count": null,
   "metadata": {},
   "outputs": [],
   "source": [
    "# mencari keyword di setiap list pertanyaan\n",
    "tempRake = []\n",
    "for i in range(len(npQuestions)):\n",
    "    r.extract_keywords_from_text(npQuestions[i])\n",
    "    tempRake.append(r.get_ranked_phrases())"
   ]
  },
  {
   "cell_type": "code",
   "execution_count": null,
   "metadata": {},
   "outputs": [],
   "source": [
    "# Mencari keyword question yang diajukan user\n",
    "# questUser = \"Apa ciri-ciri bank Syariah?\"\n",
    "r.extract_keywords_from_text(questUser[0])\n",
    "qRake = r.get_ranked_phrases()"
   ]
  },
  {
   "cell_type": "code",
   "execution_count": null,
   "metadata": {},
   "outputs": [],
   "source": [
    "# Menghitung Cosine Similiarity\n",
    "from collections import Counter\n",
    "import math\n",
    "\n",
    "def counter(quest):\n",
    "    counter = Counter(quest)\n",
    "    return counter\n",
    "\n",
    "def counter_cosine_similarity(c1, c2):\n",
    "    terms = set(c1).union(c2)\n",
    "    dotprod = sum(c1.get(k, 0) * c2.get(k, 0) for k in terms)\n",
    "    magA = math.sqrt(sum(c1.get(k, 0)**2 for k in terms))\n",
    "    magB = math.sqrt(sum(c2.get(k, 0)**2 for k in terms))\n",
    "    return dotprod / (magA * magB)"
   ]
  },
  {
   "cell_type": "code",
   "execution_count": null,
   "metadata": {},
   "outputs": [],
   "source": [
    "counterQuestUser = counter(qRake)"
   ]
  },
  {
   "cell_type": "code",
   "execution_count": null,
   "metadata": {},
   "outputs": [],
   "source": [
    "tempCounter = []\n",
    "for i in range(len(tempRake)):\n",
    "    tempCounter.append(counter(tempRake[i]))"
   ]
  },
  {
   "cell_type": "code",
   "execution_count": null,
   "metadata": {},
   "outputs": [],
   "source": [
    "scoresCosine = []\n",
    "for i in range(len(tempCounter)):\n",
    "    scoresCosine.append(counter_cosine_similarity(counterQuestUser, tempCounter[i]) * 100)"
   ]
  },
  {
   "cell_type": "code",
   "execution_count": null,
   "metadata": {},
   "outputs": [],
   "source": [
    "npScore = np.array(scoresCosine)\n",
    "maxScore = np.amax(npScore)\n",
    "indexQuest = np.argmax(npScore)"
   ]
  },
  {
   "cell_type": "code",
   "execution_count": null,
   "metadata": {},
   "outputs": [],
   "source": [
    "print(\"prediksi question = \" + npQuestions[indexQuest])\n",
    "print(\"prediksi Answer = \" + npAnswers[indexQuest])"
   ]
  },
  {
   "cell_type": "markdown",
   "metadata": {},
   "source": [
    "Menghitung hasil dari Accuracy dan Precision dari Model CNN"
   ]
  },
  {
   "cell_type": "code",
   "execution_count": 33,
   "metadata": {},
   "outputs": [],
   "source": [
    "predictions = cnn_model.predict(X_test80)\n",
    "predictions = [np.argmax(predictions[i]) for i in range(len(predictions))]\n",
    "predictions = np.array(predictions)\n",
    "labels = [np.argmax(y_test80[i]) for i in range(len(y_test80))]\n",
    "labels = np.array(labels)"
   ]
  },
  {
   "cell_type": "code",
   "execution_count": 34,
   "metadata": {},
   "outputs": [
    {
     "name": "stdout",
     "output_type": "stream",
     "text": [
      "Accuracy: 87.58620689655172\n",
      "Precision: 88.10579937304077\n",
      "Recall: 87.58620689655172\n",
      "f1_score: 87.28066908402063\n"
     ]
    }
   ],
   "source": [
    "from sklearn import metrics\n",
    "\n",
    "print (\"Accuracy: \" + str(100*metrics.accuracy_score(labels, predictions)))\n",
    "print (\"Precision: \" + str(100*metrics.precision_score(labels, predictions, average=\"weighted\")))\n",
    "print (\"Recall: \" + str(100*metrics.recall_score(labels, predictions, average=\"weighted\")))\n",
    "print (\"f1_score: \" + str(100*metrics.f1_score(labels, predictions, average=\"weighted\")))"
   ]
  },
  {
   "cell_type": "code",
   "execution_count": null,
   "metadata": {},
   "outputs": [],
   "source": []
  }
 ],
 "metadata": {
  "kernelspec": {
   "display_name": "Python 3",
   "language": "python",
   "name": "python3"
  },
  "language_info": {
   "codemirror_mode": {
    "name": "ipython",
    "version": 3
   },
   "file_extension": ".py",
   "mimetype": "text/x-python",
   "name": "python",
   "nbconvert_exporter": "python",
   "pygments_lexer": "ipython3",
   "version": "3.8.8"
  }
 },
 "nbformat": 4,
 "nbformat_minor": 4
}
